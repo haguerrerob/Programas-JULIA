{
 "cells": [
  {
   "cell_type": "code",
   "execution_count": 1,
   "metadata": {},
   "outputs": [],
   "source": [
    "using LinearAlgebra, Plots, LaTeXStrings, Symbolics\n",
    " "
   ]
  },
  {
   "cell_type": "code",
   "execution_count": 2,
   "metadata": {},
   "outputs": [
    {
     "data": {
      "text/plain": [
       "3×3 Matrix{Float64}:\n",
       " 1.61538e6  6.92308e5  0.0\n",
       " 6.92308e5  1.61538e6  0.0\n",
       " 0.0        0.0        4.61538e5"
      ]
     },
     "metadata": {},
     "output_type": "display_data"
    }
   ],
   "source": [
    "E = 2.1E06\n",
    "ν = 0.3\n",
    "\n",
    "C = ((1 - ν) / ((1 + ν) * (1 - ν))) * E * [1 (ν/(1-ν)) 0; (ν/(1-ν)) 1 0; 0 0 ((1-2*ν)/(2*(1-ν)))]"
   ]
  },
  {
   "cell_type": "code",
   "execution_count": 3,
   "metadata": {},
   "outputs": [
    {
     "data": {
      "text/plain": [
       "18"
      ]
     },
     "metadata": {},
     "output_type": "display_data"
    }
   ],
   "source": [
    "numNodosx = 3\n",
    "numNodosy = 3\n",
    "numNodosGlobales = numNodosx * numNodosy\n",
    "\n",
    "longx = 3.0\n",
    "longy = 3.0\n",
    "\n",
    "numElementos = (numNodosx - 1) * (numNodosy - 1)\n",
    "GDLGlobales = numNodosGlobales * 2"
   ]
  },
  {
   "cell_type": "code",
   "execution_count": 4,
   "metadata": {},
   "outputs": [
    {
     "data": {
      "text/plain": [
       "matrizConectividadGlobal (generic function with 1 method)"
      ]
     },
     "metadata": {},
     "output_type": "display_data"
    }
   ],
   "source": [
    "\n",
    "function matrizConectividadGlobal(numNodosx, numNodosy)\n",
    "    numElementos = (numNodosx - 1) * (numNodosy - 1)\n",
    "    # Matriz de conectividad para elementos de cuatro nodos bidimensionales \n",
    "    #(El numero de elementos podría variarse)\n",
    "    matrizConectividad = zeros(Int, numElementos, 4)\n",
    "    elemento = 1\n",
    "    for j in 1:numNodosy-1\n",
    "        for i in 1:numNodosx-1\n",
    "            nodoInferiorIzquierdo::Int = i + ((j - 1) * numNodosx)\n",
    "            matrizConectividad[elemento, :] = [(nodoInferiorIzquierdo + numNodosx + 1) (nodoInferiorIzquierdo + numNodosx) nodoInferiorIzquierdo (nodoInferiorIzquierdo + 1)]\n",
    "            elemento += 1\n",
    "        end\n",
    "    end\n",
    "    display(matrizConectividad)\n",
    "    return matrizConectividad\n",
    "end \n"
   ]
  },
  {
   "cell_type": "code",
   "execution_count": 5,
   "metadata": {},
   "outputs": [
    {
     "data": {
      "text/plain": [
       "mallador (generic function with 1 method)"
      ]
     },
     "metadata": {},
     "output_type": "display_data"
    }
   ],
   "source": [
    "function mallador(numNodosx, numNodosy, longx, longy)\n",
    "\n",
    "    numElementos = (numNodosx - 1) * (numNodosy - 1)\n",
    "    numSegmentosx = numNodosx - 1\n",
    "    numSegmentosy = numNodosy - 1\n",
    "    dNodosx = longx / numSegmentosx\n",
    "    dNodosy = longy / numSegmentosy\n",
    "    numNodosGlobales = numNodosx * numNodosy\n",
    "\n",
    "    matrizCoordGlobales = zeros(numNodosGlobales, 2)\n",
    "    Coordy = 0\n",
    "    nodo = 1\n",
    "    for j in 1:numNodosy\n",
    "        Coordx = 0\n",
    "        for i in 1:numNodosx\n",
    "            B = [Coordx Coordy]\n",
    "            matrizCoordGlobales[nodo, :] = [Coordx Coordy]\n",
    "            #matrizCoordGlobales[nodo, 2] = Coordy\n",
    "            Coordx += dNodosx\n",
    "            nodo += 1\n",
    "        end\n",
    "        Coordy += dNodosy\n",
    "    end\n",
    "\n",
    "    #=\n",
    "    for j in 1:numNodosy\n",
    "        Coordx = 0\n",
    "        nodos = nodos + 1\n",
    "        for i in 1:numNodosx\n",
    "            B = [Coordx Coordy]\n",
    "            matrizCoordGlobales = [matrizCoordGlobales; B]\n",
    "            #matrizCoordGlobales[] = [matrizCoordGlobales; B]\n",
    "            Coordx += dNodosx\n",
    "        end\n",
    "        Coordy += dNodosy\n",
    "    end\n",
    "    =#\n",
    "    return matrizCoordGlobales\n",
    "end"
   ]
  },
  {
   "cell_type": "code",
   "execution_count": 6,
   "metadata": {},
   "outputs": [
    {
     "data": {
      "text/plain": [
       "matrizGdGL (generic function with 1 method)"
      ]
     },
     "metadata": {},
     "output_type": "display_data"
    }
   ],
   "source": [
    "function matrizGdGL(numNodosx, numNodosy, mConectividadGlobal)\n",
    "    numElementos = (numNodosx - 1) * (numNodosy - 1)\n",
    "    numNodosGlobales = numNodosx * numNodosy\n",
    "    mGdGL = zeros(Integer, 8, numElementos)\n",
    "    for i in 1:numElementos\n",
    "        j = 1\n",
    "        while j <= 4\n",
    "            zz = mConectividadGlobal[i, :]\n",
    "            mGdGL[2*j-1, i] = zz[j] * 2 - 1\n",
    "            mGdGL[2*j, i] = zz[j] * 2\n",
    "            j += 1\n",
    "        end\n",
    "    end\n",
    "    return mGdGL\n",
    "end"
   ]
  },
  {
   "cell_type": "code",
   "execution_count": 7,
   "metadata": {},
   "outputs": [
    {
     "data": {
      "text/plain": [
       "4×4 Matrix{Int64}:\n",
       " 5  4  1  2\n",
       " 6  5  2  3\n",
       " 8  7  4  5\n",
       " 9  8  5  6"
      ]
     },
     "metadata": {},
     "output_type": "display_data"
    },
    {
     "data": {
      "text/plain": [
       "8×4 Matrix{Integer}:\n",
       "  9  11  15  17\n",
       " 10  12  16  18\n",
       "  7   9  13  15\n",
       "  8  10  14  16\n",
       "  1   3   7   9\n",
       "  2   4   8  10\n",
       "  3   5   9  11\n",
       "  4   6  10  12"
      ]
     },
     "metadata": {},
     "output_type": "display_data"
    },
    {
     "data": {
      "text/plain": [
       "9×2 Matrix{Float64}:\n",
       " 0.0  0.0\n",
       " 1.5  0.0\n",
       " 3.0  0.0\n",
       " 0.0  1.5\n",
       " 1.5  1.5\n",
       " 3.0  1.5\n",
       " 0.0  3.0\n",
       " 1.5  3.0\n",
       " 3.0  3.0"
      ]
     },
     "metadata": {},
     "output_type": "display_data"
    }
   ],
   "source": [
    "mConectividadGlobal = matrizConectividadGlobal(numNodosx, numNodosy)\n",
    "#display(mConectividadGlobal)\n",
    "mGdLG = matrizGdGL(numNodosx, numNodosy, mConectividadGlobal)\n",
    "display(mGdLG)\n",
    "mCoordNodales = mallador(numNodosx, numNodosy, longx, longy)\n",
    "#display(mCoordNodales)"
   ]
  },
  {
   "cell_type": "code",
   "execution_count": 8,
   "metadata": {},
   "outputs": [
    {
     "data": {
      "text/latex": [
       "$$ \\begin{equation}\n",
       "\\left[\n",
       "\\begin{array}{cccc}\n",
       "0.25 \\left( 1 + s \\right) &  - 0.25 \\left( 1 + s \\right) &  - 0.25 \\left( 1 - s \\right) & 0.25 \\left( 1 - s \\right) \\\\\n",
       "0.25 \\left( 1 + r \\right) & 0.25 \\left( 1 - r \\right) &  - 0.25 \\left( 1 - r \\right) &  - 0.25 \\left( 1 + r \\right) \\\\\n",
       "\\end{array}\n",
       "\\right]\n",
       "\\end{equation}\n",
       " $$"
      ],
      "text/plain": [
       "2×4 Matrix{Num}:\n",
       " 0.25(1 + s)  -0.25(1 + s)  -0.25(1 - s)   0.25(1 - s)\n",
       " 0.25(1 + r)   0.25(1 - r)  -0.25(1 - r)  -0.25(1 + r)"
      ]
     },
     "metadata": {},
     "output_type": "display_data"
    }
   ],
   "source": [
    "begin\n",
    "    @variables r s\n",
    "    Dr = Differential(r)\n",
    "    Ds = Differential(s)\n",
    "\n",
    "    nFInt = 4\n",
    "    h₁ = 1 / 4 * (1 + r) * (1 + s)\n",
    "    h₂ = 1 / 4 * (1 - r) * (1 + s)\n",
    "    h₃ = 1 / 4 * (1 - r) * (1 - s)\n",
    "    h₄ = 1 / 4 * (1 + r) * (1 - s)\n",
    "\n",
    "    H = [h₁ h₂ h₃ h₄]\n",
    "\n",
    "    ∇H = [transpose([expand_derivatives(Dr(H[i])) for i in 1:nFInt]); transpose([expand_derivatives(Ds(H[i])) for i in 1:nFInt])]\n",
    "end"
   ]
  },
  {
   "cell_type": "code",
   "execution_count": 9,
   "metadata": {},
   "outputs": [],
   "source": [
    "nNodosInt = 9\n",
    "GL9Q = [-sqrt(0.6) -sqrt(0.6); 0 -sqrt(0.6); sqrt(0.6) -sqrt(0.6); sqrt(0.6) 0; sqrt(0.6) sqrt(0.6);\n",
    "    0 sqrt(0.6); -sqrt(0.6) sqrt(0.6); -sqrt(0.6) 0; 0 0]\n",
    "#display(GL9Q)\n",
    "wGL9Q = [5/9 5/9; 8/9 5/9; 5/9 5/9; 5/9 8/9; 5/9 5/9; 8/9 5/9; 5/9 5/9; 5/9 8/9; 8/9 8/9];"
   ]
  },
  {
   "cell_type": "code",
   "execution_count": 10,
   "metadata": {},
   "outputs": [
    {
     "data": {
      "text/plain": [
       "matrizKGL (generic function with 1 method)"
      ]
     },
     "metadata": {},
     "output_type": "display_data"
    }
   ],
   "source": [
    "function matrizKGL(mConectividadGlobal, mCoordNodales, C, numElementos, GDLGlobales, mGdLG, GL9Q, wGL9Q)\n",
    "KG = zeros(Float64, GDLGlobales, GDLGlobales) \n",
    "mNodalCoords = zeros(4, 2)\n",
    "\n",
    "for el in 1:numElementos\n",
    "    KE = zeros(Float64, 8, 8)\n",
    "    GLE = mGdLG[:, el]\n",
    "    numGLE = length(GLE)\n",
    "    mConectividadElemental = mConectividadGlobal[el, :]\n",
    "    for nodo in 1:4\n",
    "        mNodalCoords[nodo, :] = mCoordNodales[mConectividadElemental[nodo], :]\n",
    "    end\n",
    "\n",
    "    x = expand((H*mNodalCoords[:, 1])[1])\n",
    "    y = expand((H*mNodalCoords[:, 2])[1])\n",
    "\n",
    "    dxdr = expand_derivatives(Dr(x))\n",
    "    dxds = expand_derivatives(Ds(x))\n",
    "    dydr = expand_derivatives(Dr(y))\n",
    "    dyds = expand_derivatives(Ds(y))\n",
    "\n",
    "    J = [dxdr dydr; dxds dyds] # Jacobiano\n",
    "    J_inv = inv(J) # Inversa del Jacobiano\n",
    "    J_det = det(J) # Determinante del Jacobiano\n",
    "\n",
    "    B1 = transpose(∇H) * J_inv\n",
    "    BL₀ = [B1[1, 1] 0 B1[2, 1] 0 B1[3, 1] 0 B1[4, 1] 0\n",
    "        0 B1[1, 2] 0 B1[2, 2] 0 B1[3, 2] 0 B1[4, 2]\n",
    "        B1[1, 2] B1[1, 1] B1[2, 2] B1[2, 1] B1[3, 2] B1[3, 1] B1[4, 2] B1[4, 1]]\n",
    "\n",
    "    for i in 1:9\n",
    "        Jg = substitute(J, Dict([r => GL9Q[i, 1], s => GL9Q[i, 2]]))\n",
    "        Jg_inv = substitute(J_inv, Dict([r => GL9Q[i, 1], s => GL9Q[i, 2]]))\n",
    "        Jg_det = substitute(J_det, Dict([r => GL9Q[i, 1], s => GL9Q[i, 2]]))\n",
    "        Bg = substitute(BL₀, Dict([r => GL9Q[i, 1], s => GL9Q[i, 2]]))\n",
    "        KE += (transpose(Bg) * C * Bg * Jg_det * wGL9Q[i, 1] * wGL9Q[i, 2])\n",
    "    end\n",
    "\n",
    "    for i in 1:numGLE\n",
    "        for j in 1:numGLE\n",
    "            KG[GLE[i], GLE[j]] += KE[i, j].val\n",
    "        end\n",
    "    end\n",
    "end\n",
    "return KG\n",
    "end"
   ]
  },
  {
   "cell_type": "code",
   "execution_count": 11,
   "metadata": {},
   "outputs": [
    {
     "data": {
      "text/plain": [
       "18×18 Matrix{Float64}:\n",
       "      6.92308e5       2.88462e5  …       0.0             0.0\n",
       "      2.88462e5       6.92308e5          0.0             0.0\n",
       "     -4.61538e5  -57692.3                0.0             0.0\n",
       "  57692.3             1.15385e5          0.0             0.0\n",
       "      0.0             0.0                0.0             0.0\n",
       "      0.0             0.0        …       0.0             0.0\n",
       "      1.15385e5   57692.3                0.0             0.0\n",
       " -57692.3            -4.61538e5          0.0             0.0\n",
       "     -3.46154e5      -2.88462e5         -3.46154e5      -2.88462e5\n",
       "     -2.88462e5      -3.46154e5         -2.88462e5      -3.46154e5\n",
       "      0.0             0.0        …       1.15385e5   57692.3\n",
       "      0.0             0.0           -57692.3            -4.61538e5\n",
       "      0.0             0.0                0.0             0.0\n",
       "      0.0             0.0                0.0             0.0\n",
       "      0.0             0.0               -4.61538e5  -57692.3\n",
       "      0.0             0.0        …   57692.3             1.15385e5\n",
       "      0.0             0.0                6.92308e5       2.88462e5\n",
       "      0.0             0.0                2.88462e5       6.92308e5"
      ]
     },
     "metadata": {},
     "output_type": "display_data"
    }
   ],
   "source": [
    "KG = matrizKGL(mConectividadGlobal, mCoordNodales, C, numElementos, GDLGlobales, mGdLG, GL9Q, wGL9Q)"
   ]
  },
  {
   "cell_type": "code",
   "execution_count": 12,
   "metadata": {},
   "outputs": [
    {
     "data": {
      "text/plain": [
       "18-element Vector{Float64}:\n",
       "    0.0\n",
       "    0.0\n",
       "    0.0\n",
       "    0.0\n",
       "    0.0\n",
       "    0.0\n",
       "    0.0\n",
       "    0.0\n",
       "    0.0\n",
       "    0.0\n",
       "    0.0\n",
       "    0.0\n",
       "    0.0\n",
       " 3000.0\n",
       "    0.0\n",
       "    0.0\n",
       "    0.0\n",
       " 3000.0"
      ]
     },
     "metadata": {},
     "output_type": "display_data"
    }
   ],
   "source": [
    "#RE = zeros(Number, GDLGlobales, numElementos)\n",
    "RG = zeros(GDLGlobales)\n",
    "RG[18] = 3000\n",
    "RG[14] = 3000\n",
    "#RG[8] = 3000\n",
    "#RG[6] = 3000\n",
    "#RG = [0., 3000., 0., 3000., 0., 0., 0., 0.]\n",
    "#for i in 1: 8 RG[mGdLG[i]] = RE[i] end\n",
    "#display(typeof(RG))\n",
    "#RG1 = convert.(AbstractFloat, RG)\n",
    "#display(typeof(RG1))\n",
    "display(RG)"
   ]
  },
  {
   "cell_type": "code",
   "execution_count": 13,
   "metadata": {},
   "outputs": [],
   "source": [
    "# Caso 1 (1 elemento)\n",
    "\n",
    "# Imponemos condiciones de contorno de Dirichlet\n",
    "#=\n",
    "# U1x=0 => U1=0\n",
    "KG[1, :] .= 0\n",
    "KG[:, 1] .= 0\n",
    "KG[1, 1] = 1\n",
    "\n",
    "# U1y=0 => U2=0\n",
    "KG[2, :] .= 0\n",
    "KG[:, 2] .= 0\n",
    "KG[2, 2] = 1\n",
    "\n",
    "# U2x=0 => U3=0\n",
    "KG[3, :] .= 0\n",
    "KG[:, 3] .= 0\n",
    "KG[3, 3] = 1\n",
    "\n",
    "# U2y=0 => U4=0\n",
    "KG[4, :] .= 0\n",
    "KG[:, 4] .= 0\n",
    "KG[4, 4] = 1\n",
    "\n",
    "display(KG)\n",
    "\n",
    "U₀ = KG \\ RG # U₀ -> Desplazamientos en ⁰U \n",
    "=#"
   ]
  },
  {
   "cell_type": "code",
   "execution_count": 14,
   "metadata": {},
   "outputs": [
    {
     "data": {
      "text/plain": [
       "18×18 Matrix{Float64}:\n",
       " 1.0  0.0  0.0  0.0  0.0  0.0  …       0.0             0.0\n",
       " 0.0  1.0  0.0  0.0  0.0  0.0          0.0             0.0\n",
       " 0.0  0.0  1.0  0.0  0.0  0.0          0.0             0.0\n",
       " 0.0  0.0  0.0  1.0  0.0  0.0          0.0             0.0\n",
       " 0.0  0.0  0.0  0.0  1.0  0.0          0.0             0.0\n",
       " 0.0  0.0  0.0  0.0  0.0  1.0  …       0.0             0.0\n",
       " 0.0  0.0  0.0  0.0  0.0  0.0          0.0             0.0\n",
       " 0.0  0.0  0.0  0.0  0.0  0.0          0.0             0.0\n",
       " 0.0  0.0  0.0  0.0  0.0  0.0         -3.46154e5      -2.88462e5\n",
       " 0.0  0.0  0.0  0.0  0.0  0.0         -2.88462e5      -3.46154e5\n",
       " 0.0  0.0  0.0  0.0  0.0  0.0  …       1.15385e5   57692.3\n",
       " 0.0  0.0  0.0  0.0  0.0  0.0     -57692.3            -4.61538e5\n",
       " 0.0  0.0  0.0  0.0  0.0  0.0          0.0             0.0\n",
       " 0.0  0.0  0.0  0.0  0.0  0.0          0.0             0.0\n",
       " 0.0  0.0  0.0  0.0  0.0  0.0         -4.61538e5  -57692.3\n",
       " 0.0  0.0  0.0  0.0  0.0  0.0  …   57692.3             1.15385e5\n",
       " 0.0  0.0  0.0  0.0  0.0  0.0          6.92308e5       2.88462e5\n",
       " 0.0  0.0  0.0  0.0  0.0  0.0          2.88462e5       6.92308e5"
      ]
     },
     "metadata": {},
     "output_type": "display_data"
    },
    {
     "data": {
      "text/plain": [
       "18-element Vector{Float64}:\n",
       "  0.0\n",
       "  0.0\n",
       "  0.0\n",
       "  0.0\n",
       "  0.0\n",
       "  0.0\n",
       "  0.00038012514028317975\n",
       "  0.0024876583744940484\n",
       " -3.8883276355802194e-19\n",
       "  0.0013895381141987445\n",
       " -0.00038012514028318035\n",
       "  0.002487658374494048\n",
       "  0.0023806785862530177\n",
       "  0.007497264615256223\n",
       "  8.325420909912773e-20\n",
       "  0.0012774191848092266\n",
       " -0.0023806785862530177\n",
       "  0.007497264615256221"
      ]
     },
     "metadata": {},
     "output_type": "display_data"
    }
   ],
   "source": [
    "# Caso 2 (4 Elementos)\n",
    "# Imponemos condiciones de contorno de Dirichlet\n",
    "\n",
    "#\n",
    "# U1x=0 => U1=0\n",
    "KG[1, :] .= 0\n",
    "KG[:, 1] .= 0\n",
    "KG[1, 1] = 1\n",
    "\n",
    "# U1y=0 => U2=0\n",
    "KG[2, :] .= 0\n",
    "KG[:, 2] .= 0\n",
    "KG[2, 2] = 1\n",
    "\n",
    "# U2x=0 => U3=0\n",
    "KG[3, :] .= 0\n",
    "KG[:, 3] .= 0\n",
    "KG[3, 3] = 1\n",
    "\n",
    "# U2y=0 => U4=0\n",
    "KG[4, :] .= 0\n",
    "KG[:, 4] .= 0\n",
    "KG[4, 4] = 1\n",
    "\n",
    "# U3x=0 => U5=0\n",
    "KG[5, :] .= 0\n",
    "KG[:, 5] .= 0\n",
    "KG[5, 5] = 1\n",
    "\n",
    "# U3y=0 => U6=0\n",
    "KG[6, :] .= 0\n",
    "KG[:, 6] .= 0\n",
    "KG[6, 6] = 1\n",
    "\n",
    "display(KG)\n",
    "\n",
    "U = KG \\ RG\n",
    "#"
   ]
  },
  {
   "cell_type": "code",
   "execution_count": 15,
   "metadata": {},
   "outputs": [],
   "source": []
  }
 ],
 "metadata": {
  "kernelspec": {
   "display_name": "Julia 1.8.5",
   "language": "julia",
   "name": "julia-1.8"
  },
  "language_info": {
   "file_extension": ".jl",
   "mimetype": "application/julia",
   "name": "julia",
   "version": "1.8.5"
  }
 },
 "nbformat": 4,
 "nbformat_minor": 2
}
