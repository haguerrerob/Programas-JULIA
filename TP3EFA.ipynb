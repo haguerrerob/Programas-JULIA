{
 "cells": [
  {
   "cell_type": "code",
   "execution_count": 1,
   "metadata": {},
   "outputs": [],
   "source": [
    "using LinearAlgebra, Plots, LaTeXStrings, Symbolics"
   ]
  },
  {
   "cell_type": "code",
   "execution_count": 2,
   "metadata": {},
   "outputs": [],
   "source": [
    "const E = 2.1E06\n",
    "const ν = 0.3\n",
    "\n",
    "global C = ((1 - ν) / ((1 + ν) * (1 - ν))) * E * [1 (ν/(1-ν)) 0; (ν/(1-ν)) 1 0; 0 0 ((1-2*ν)/(2*(1-ν)))];"
   ]
  },
  {
   "cell_type": "code",
   "execution_count": 3,
   "metadata": {},
   "outputs": [],
   "source": [
    "const numNodosx = 3\n",
    "const numNodosy = 3\n",
    "const numNodosG = numNodosx * numNodosy\n",
    "\n",
    "global GDLG = numNodosG * 2  # En el caso de elasticidad bidimensional se tiene 2 grados de libertad por nodo\n",
    "\n",
    "const longx = 3.0\n",
    "const longy = 3.0\n",
    "\n",
    "const numElementos = (numNodosx - 1) * (numNodosy - 1);"
   ]
  },
  {
   "cell_type": "code",
   "execution_count": 4,
   "metadata": {},
   "outputs": [
    {
     "data": {
      "text/latex": [
       "$$ \\begin{equation}\n",
       "\\left[\n",
       "\\begin{array}{cccc}\n",
       "0.25 \\left( 1 + s \\right) &  - 0.25 \\left( 1 + s \\right) &  - 0.25 \\left( 1 - s \\right) & 0.25 \\left( 1 - s \\right) \\\\\n",
       "0.25 \\left( 1 + r \\right) & 0.25 \\left( 1 - r \\right) &  - 0.25 \\left( 1 - r \\right) &  - 0.25 \\left( 1 + r \\right) \\\\\n",
       "\\end{array}\n",
       "\\right]\n",
       "\\end{equation}\n",
       " $$"
      ],
      "text/plain": [
       "2×4 Matrix{Num}:\n",
       " 0.25(1 + s)  -0.25(1 + s)  -0.25(1 - s)   0.25(1 - s)\n",
       " 0.25(1 + r)   0.25(1 - r)  -0.25(1 - r)  -0.25(1 + r)"
      ]
     },
     "metadata": {},
     "output_type": "display_data"
    }
   ],
   "source": [
    "begin\n",
    "    @variables r s\n",
    "    Dr = Differential(r)\n",
    "    Ds = Differential(s)\n",
    "\n",
    "    nFI = 4\n",
    "\n",
    "    h₁ = 1 / 4 * (1 + r) * (1 + s)\n",
    "    h₂ = 1 / 4 * (1 - r) * (1 + s)\n",
    "    h₃ = 1 / 4 * (1 - r) * (1 - s)\n",
    "    h₄ = 1 / 4 * (1 + r) * (1 - s)\n",
    "\n",
    "    global H = [h₁ h₂ h₃ h₄]\n",
    "    global ∇H = [transpose([expand_derivatives(Dr(H[i])) for i in 1:nFI]); transpose([expand_derivatives(Ds(H[i])) for i in 1:nFI])]\n",
    "end"
   ]
  },
  {
   "cell_type": "code",
   "execution_count": 5,
   "metadata": {},
   "outputs": [],
   "source": [
    "# Puntos de Gauss para itegración\n",
    "nNodosInt = 9\n",
    "GL9Q = [-sqrt(0.6) -sqrt(0.6); 0 -sqrt(0.6); sqrt(0.6) -sqrt(0.6); sqrt(0.6) 0; sqrt(0.6) sqrt(0.6);\n",
    "    0 sqrt(0.6); -sqrt(0.6) sqrt(0.6); -sqrt(0.6) 0; 0 0]\n",
    "\n",
    "wGL9Q = [5/9 5/9; 8/9 5/9; 5/9 5/9; 5/9 8/9; 5/9 5/9; 8/9 5/9; 5/9 5/9; 5/9 8/9; 8/9 8/9];"
   ]
  },
  {
   "cell_type": "code",
   "execution_count": 6,
   "metadata": {},
   "outputs": [
    {
     "data": {
      "text/plain": [
       "matrizConectividadGlobal (generic function with 1 method)"
      ]
     },
     "metadata": {},
     "output_type": "display_data"
    }
   ],
   "source": [
    "# Matriz de conectividad global para elementos bidimensionales de cuatro nodos \n",
    "#(El numero de elementos puede variar)\n",
    "function matrizConectividadGlobal(numNodosx, numNodosy, numElementos)\n",
    "\n",
    "    matrizConectividad = zeros(Int, numElementos, 4)\n",
    "    elemento = 1\n",
    "\n",
    "    for j in 1:numNodosy-1\n",
    "        for i in 1:numNodosx-1\n",
    "            nodoInferiorIzquierdo::Int = i + ((j - 1) * numNodosx)\n",
    "            matrizConectividad[elemento, :] = [(nodoInferiorIzquierdo + numNodosx + 1) (nodoInferiorIzquierdo + numNodosx) nodoInferiorIzquierdo (nodoInferiorIzquierdo + 1)]\n",
    "            elemento += 1\n",
    "        end\n",
    "    end\n",
    "\n",
    "    return matrizConectividad\n",
    "end"
   ]
  },
  {
   "cell_type": "code",
   "execution_count": 7,
   "metadata": {},
   "outputs": [
    {
     "data": {
      "text/plain": [
       "mallador (generic function with 1 method)"
      ]
     },
     "metadata": {},
     "output_type": "display_data"
    }
   ],
   "source": [
    "function mallador(numNodosx, numNodosy, longx, longy, numElementos)\n",
    "\n",
    "    numSegmentosx = numNodosx - 1\n",
    "    numSegmentosy = numNodosy - 1\n",
    "    dNodosx = longx / numSegmentosx\n",
    "    dNodosy = longy / numSegmentosy\n",
    "    numNodosG = numNodosx * numNodosy\n",
    "    matrizCoordG = zeros(numNodosG, 2)\n",
    "    Coordy = 0\n",
    "    nodo = 1\n",
    "\n",
    "    for j in 1:numNodosy\n",
    "        Coordx = 0\n",
    "        for i in 1:numNodosx\n",
    "            matrizCoordG[nodo, :] = [Coordx Coordy]\n",
    "            Coordx += dNodosx\n",
    "            nodo += 1\n",
    "        end\n",
    "        Coordy += dNodosy\n",
    "    end\n",
    "\n",
    "    return matrizCoordG\n",
    "end"
   ]
  },
  {
   "cell_type": "code",
   "execution_count": 8,
   "metadata": {},
   "outputs": [
    {
     "data": {
      "text/plain": [
       "matrizGdGL (generic function with 1 method)"
      ]
     },
     "metadata": {},
     "output_type": "display_data"
    }
   ],
   "source": [
    "function matrizGdGL(numNodosx, numNodosy, mConectividadGlobal)\n",
    "\n",
    "    numElementos = (numNodosx - 1) * (numNodosy - 1)\n",
    "    numNodosGlobales = numNodosx * numNodosy\n",
    "    mGdGL = zeros(Integer, 8, numElementos)\n",
    "\n",
    "    for i in 1:numElementos\n",
    "        j = 1\n",
    "        while j <= 4\n",
    "            zz = mConectividadGlobal[i, :]\n",
    "            mGdGL[2*j-1, i] = zz[j] * 2 - 1\n",
    "            mGdGL[2*j, i] = zz[j] * 2\n",
    "            j += 1\n",
    "        end\n",
    "    end\n",
    "\n",
    "    return mGdGL\n",
    "end"
   ]
  },
  {
   "cell_type": "code",
   "execution_count": 9,
   "metadata": {},
   "outputs": [
    {
     "data": {
      "text/plain": [
       "8×4 Matrix{Integer}:\n",
       "  9  11  15  17\n",
       " 10  12  16  18\n",
       "  7   9  13  15\n",
       "  8  10  14  16\n",
       "  1   3   7   9\n",
       "  2   4   8  10\n",
       "  3   5   9  11\n",
       "  4   6  10  12"
      ]
     },
     "metadata": {},
     "output_type": "display_data"
    },
    {
     "data": {
      "text/plain": [
       "9×2 Matrix{Float64}:\n",
       " 0.0  0.0\n",
       " 1.5  0.0\n",
       " 3.0  0.0\n",
       " 0.0  1.5\n",
       " 1.5  1.5\n",
       " 3.0  1.5\n",
       " 0.0  3.0\n",
       " 1.5  3.0\n",
       " 3.0  3.0"
      ]
     },
     "metadata": {},
     "output_type": "display_data"
    }
   ],
   "source": [
    "begin\n",
    "    mConectG = matrizConectividadGlobal(numNodosx, numNodosy, numElementos)\n",
    "    #display(mConectG)\n",
    "    mGdlG = matrizGdGL(numNodosx, numNodosy, mConectG)\n",
    "    display(mGdlG)\n",
    "    mGCoorNodales = mallador(numNodosx, numNodosy, longx, longy, numElementos)\n",
    "    #display(mGCoorNodales)\n",
    "end"
   ]
  },
  {
   "cell_type": "code",
   "execution_count": 10,
   "metadata": {},
   "outputs": [
    {
     "data": {
      "text/plain": [
       "Jacobiano (generic function with 1 method)"
      ]
     },
     "metadata": {},
     "output_type": "display_data"
    }
   ],
   "source": [
    "function Jacobiano(mGCoorNodales, mConectG, el)\n",
    "    mNodalCoords = zeros(4, 2)\n",
    "    for nodo in 1:4\n",
    "        mNodalCoords[nodo, :] = mGCoorNodales[mConectG[el, :][nodo], :]\n",
    "    end\n",
    "\n",
    "    x₀ = expand((H*mNodalCoords[:, 1])[1])\n",
    "    y₀ = expand((H*mNodalCoords[:, 2])[1])\n",
    "\n",
    "    dxdr = expand_derivatives(Dr(x₀))\n",
    "    dxds = expand_derivatives(Ds(x₀))\n",
    "    dydr = expand_derivatives(Dr(y₀))\n",
    "    dyds = expand_derivatives(Ds(y₀))\n",
    "\n",
    "    J = [dxdr dydr; dxds dyds] # Jacobiano\n",
    "\n",
    "    return J\n",
    "end"
   ]
  },
  {
   "cell_type": "code",
   "execution_count": 11,
   "metadata": {},
   "outputs": [
    {
     "data": {
      "text/plain": [
       "BL0 (generic function with 1 method)"
      ]
     },
     "metadata": {},
     "output_type": "display_data"
    }
   ],
   "source": [
    "function BL0(∇H, J)\n",
    " \n",
    "    B = inv(J) * ∇H\n",
    "\n",
    "    BL0₁ = [B[1, 1] 0 B[1,2] 0 B[1,3] 0 B[1,4] 0]\n",
    "    BL0₂ = [0 B[2,1] 0 B[2, 2] 0 B[2,3] 0 B[2,4]]\n",
    "    BL0₃ = [B[2,1] B[1, 1] B[2, 2] B[1,2] B[2,3] B[1,3] B[2,4] B[1,4]]\n",
    "\n",
    "    BL0 = vcat(BL0₁, BL0₂, BL0₃)\n",
    "\n",
    "    return BL0\n",
    "end"
   ]
  },
  {
   "cell_type": "code",
   "execution_count": 12,
   "metadata": {},
   "outputs": [
    {
     "data": {
      "text/plain": [
       "BL1 (generic function with 1 method)"
      ]
     },
     "metadata": {},
     "output_type": "display_data"
    }
   ],
   "source": [
    "function BL1(∇H, J, Uₑ)\n",
    "    \n",
    "    B = inv(J) * ∇H\n",
    "\n",
    "    l₁₁, l₁₂, l₂₁, l₂₂ = 0, 0, 0, 0\n",
    "\n",
    "    for k in 1:4 l₁₁ += B[1, k] * Uₑ[k, 1] end\n",
    "    for k in 1:4 l₁₂ += B[2, k] * Uₑ[k, 1] end\n",
    "    for k in 1:4 l₂₁ += B[1, k] * Uₑ[k, 2] end\n",
    "    for k in 1:4 l₂₂ += B[2, k] * Uₑ[k, 2] end\n",
    "\n",
    "    BL1₁ = [l₁₁ * B[1, 1] l₂₁ * B[1, 1] l₁₁ * B[1, 2] l₂₁ * B[1, 2] l₁₁ * B[1, 3] l₂₁ * B[1, 3] l₁₁ * B[1, 4] l₂₁ * B[1, 4]]\n",
    "    BL1₂ = [l₁₂ * B[2, 1] l₂₂ * B[2, 1] l₁₂ * B[2, 2] l₂₂ * B[2, 2] l₁₂ * B[2, 3] l₂₂ * B[2, 3] l₁₂ * B[2, 4] l₂₂ * B[2, 4]]\n",
    "    BL1₃ = [(l₁₁ * B[2, 1] + l₁₂ * B[1, 1]) (l₂₁ * B[2, 1] + l₂₂ * B[1, 1]) (l₁₁ * B[2, 2] + l₁₂ * B[1, 2]) (l₂₁ * B[2, 2] + l₂₂ * B[1, 2]) (l₁₁ * B[2, 3] + l₁₂ * B[1, 3]) (l₂₁ * B[2, 3] + l₂₂ * B[1, 3]) (l₁₁ * B[2, 4] + l₁₂ * B[1, 4]) (l₂₁ * B[2, 4] + l₂₂ * B[1, 4])]\n",
    "    \n",
    "    BL1 = vcat(BL1₁, BL1₂, BL1₃)\n",
    "\n",
    "    return BL1\n",
    "end"
   ]
  },
  {
   "cell_type": "code",
   "execution_count": 31,
   "metadata": {},
   "outputs": [
    {
     "data": {
      "text/plain": [
       "TGD (generic function with 1 method)"
      ]
     },
     "metadata": {},
     "output_type": "display_data"
    }
   ],
   "source": [
    "# TDG -> Tensor Gradiente de Deformaciones\n",
    "function TGD(Uₑ, J, mGCoorNodales, mConectG, el) # TDG -> TENSOR GRADIENTE DE DEFORMACIÓN\n",
    "    X₁ = inv(J)\n",
    "    mNodalCoordsₜ = zeros(4, 2)\n",
    "    for nodo in 1:4\n",
    "        mNodalCoordsₜ[nodo, :] = mGCoorNodales[mConectG[el, :][nodo], :] + Uₑ[nodo, :]\n",
    "    end\n",
    "\n",
    "    xₜ = expand((H*mNodalCoordsₜ[:, 1])[1])\n",
    "    yₜ = expand((H*mNodalCoordsₜ[:, 2])[1])\n",
    "\n",
    "    dxdrₜ = expand_derivatives(Dr(xₜ))\n",
    "    dxdsₜ = expand_derivatives(Ds(xₜ))\n",
    "    dydrₜ = expand_derivatives(Dr(yₜ))\n",
    "    dydsₜ = expand_derivatives(Ds(yₜ))\n",
    "\n",
    "    X₂ = [dxdrₜ dydrₜ; dxdsₜ dydsₜ]\n",
    "\n",
    "    X = X₂ * X₁ # X -> TENSOR GRADIENTE DE DEFORMACIONES\n",
    "    return X\n",
    "\n",
    "end"
   ]
  },
  {
   "cell_type": "code",
   "execution_count": 14,
   "metadata": {},
   "outputs": [
    {
     "data": {
      "text/plain": [
       "KGL0 (generic function with 1 method)"
      ]
     },
     "metadata": {},
     "output_type": "display_data"
    }
   ],
   "source": [
    "# Matriz de Rigidez Global Lineal *******\n",
    "function KGL0(mConectG, mGCoorNodales, C, numElementos, GDLG, mGdlG, GL9Q, wGL9Q)\n",
    "\n",
    "    KGL0 = zeros(Float64, GDLG, GDLG)\n",
    "\n",
    "    for el in 1:numElementos\n",
    "        KEL = zeros(Float64, 8, 8)\n",
    "        GLE = mGdlG[:, el]\n",
    "        numGLE = length(GLE)\n",
    "        \n",
    "        J = Jacobiano(mGCoorNodales, mConectG, el)\n",
    "        BL₀ = BL0(∇H, J)\n",
    "        \n",
    "        for i in 1:9 # Integración en los puntos de Gauss\n",
    "            Jg_det = substitute(det(J), Dict([r => GL9Q[i, 1], s => GL9Q[i, 2]]))\n",
    "            Bg = substitute(BL₀, Dict([r => GL9Q[i, 1], s => GL9Q[i, 2]]))\n",
    "            KEL += (transpose(Bg) * C * Bg * Jg_det * wGL9Q[i, 1] * wGL9Q[i, 2])\n",
    "        end\n",
    "\n",
    "        for i in 1:numGLE\n",
    "            for j in 1:numGLE\n",
    "                KGL0[GLE[i], GLE[j]] += KEL[i, j].val\n",
    "            end\n",
    "        end\n",
    "    end\n",
    "    return KGL0\n",
    "end"
   ]
  },
  {
   "cell_type": "code",
   "execution_count": 15,
   "metadata": {},
   "outputs": [
    {
     "data": {
      "text/plain": [
       "3000"
      ]
     },
     "metadata": {},
     "output_type": "display_data"
    }
   ],
   "source": [
    "#RE = zeros(Number, GDLGlobales, numElementos)\n",
    "RG = zeros(GDLG)\n",
    "RG[18] = 3000\n",
    "RG[14] = 3000\n",
    "#RG[8] = 3000\n",
    "#RG[6] = 3000\n",
    "#RG = [0., 3000., 0., 3000., 0., 0., 0., 0.]\n",
    "#display(RG)"
   ]
  },
  {
   "cell_type": "code",
   "execution_count": 16,
   "metadata": {},
   "outputs": [],
   "source": [
    "KGL = KGL0(mConectG, mGCoorNodales, C, numElementos, GDLG, mGdlG, GL9Q, wGL9Q);"
   ]
  },
  {
   "cell_type": "code",
   "execution_count": 17,
   "metadata": {},
   "outputs": [],
   "source": [
    "# Caso 1 (1 elemento)\n",
    "\n",
    "# Imponemos condiciones de contorno de Dirichlet\n",
    "#=\n",
    "# U1x=0 => U1=0\n",
    "KG[1, :] .= 0\n",
    "KG[:, 1] .= 0\n",
    "KG[1, 1] = 1\n",
    "\n",
    "# U1y=0 => U2=0\n",
    "KG[2, :] .= 0\n",
    "KG[:, 2] .= 0\n",
    "KG[2, 2] = 1\n",
    "\n",
    "# U2x=0 => U3=0\n",
    "KG[3, :] .= 0\n",
    "KG[:, 3] .= 0\n",
    "KG[3, 3] = 1\n",
    "\n",
    "# U2y=0 => U4=0\n",
    "KG[4, :] .= 0\n",
    "KG[:, 4] .= 0\n",
    "KG[4, 4] = 1\n",
    "\n",
    "display(KG)\n",
    "\n",
    "U₀ = KGL \\ RG # U₀ -> Desplazamientos en ⁰U \n",
    "=#"
   ]
  },
  {
   "cell_type": "code",
   "execution_count": 18,
   "metadata": {},
   "outputs": [
    {
     "data": {
      "text/plain": [
       "1"
      ]
     },
     "metadata": {},
     "output_type": "display_data"
    }
   ],
   "source": [
    "# Caso 2 (4 Elementos)\n",
    "# Imponemos condiciones de contorno de Dirichlet\n",
    "\n",
    "#\n",
    "# U1x=0 => U1=0\n",
    "KGL[1, :] .= 0\n",
    "KGL[:, 1] .= 0\n",
    "KGL[1, 1] = 1\n",
    "\n",
    "# U1y=0 => U2=0\n",
    "KGL[2, :] .= 0\n",
    "KGL[:, 2] .= 0\n",
    "KGL[2, 2] = 1\n",
    "\n",
    "# U2x=0 => U3=0\n",
    "KGL[3, :] .= 0\n",
    "KGL[:, 3] .= 0\n",
    "KGL[3, 3] = 1\n",
    "\n",
    "# U2y=0 => U4=0\n",
    "KGL[4, :] .= 0\n",
    "KGL[:, 4] .= 0\n",
    "KGL[4, 4] = 1\n",
    "\n",
    "# U3x=0 => U5=0\n",
    "KGL[5, :] .= 0\n",
    "KGL[:, 5] .= 0\n",
    "KGL[5, 5] = 1\n",
    "\n",
    "# U3y=0 => U6=0\n",
    "KGL[6, :] .= 0\n",
    "KGL[:, 6] .= 0\n",
    "KGL[6, 6] = 1"
   ]
  },
  {
   "cell_type": "code",
   "execution_count": 19,
   "metadata": {},
   "outputs": [
    {
     "data": {
      "text/plain": [
       "18-element Vector{Float64}:\n",
       "  0.0\n",
       "  0.0\n",
       "  0.0\n",
       "  0.0\n",
       "  0.0\n",
       "  0.0\n",
       "  0.00038012514028317975\n",
       "  0.0024876583744940484\n",
       " -3.8883276355802194e-19\n",
       "  0.0013895381141987445\n",
       " -0.00038012514028318035\n",
       "  0.002487658374494048\n",
       "  0.0023806785862530177\n",
       "  0.007497264615256223\n",
       "  8.325420909912773e-20\n",
       "  0.0012774191848092266\n",
       " -0.0023806785862530177\n",
       "  0.007497264615256221"
      ]
     },
     "metadata": {},
     "output_type": "display_data"
    }
   ],
   "source": [
    "U = KGL \\ RG"
   ]
  },
  {
   "cell_type": "code",
   "execution_count": 32,
   "metadata": {},
   "outputs": [
    {
     "data": {
      "text/plain": [
       "FGA (generic function with 1 method)"
      ]
     },
     "metadata": {},
     "output_type": "display_data"
    }
   ],
   "source": [
    "# mGdlG <- matrix Grados de libertad global\n",
    "function FGA(U)\n",
    "    FG = zeros(Float64, GDLG)\n",
    "\n",
    "    for el in 1:numElementos\n",
    "        mGdlE = mGdlG[:, el]\n",
    "        numGLE = length(mGdlE)\n",
    "        \n",
    "        Uₑ = transpose(reshape(U[mGdlE], 2, 4))\n",
    "        Fₑ = zeros(8, 1)\n",
    "\n",
    "        J = Jacobiano(mGCoorNodales, mConectG, el)\n",
    "\n",
    "        BL₀ = BL0(∇H, J)\n",
    "        BL₁ = BL1(∇H, J, Uₑ)\n",
    "        BL = BL₀ + BL₁\n",
    "        \n",
    "        X = TGD(Uₑ, J, mGCoorNodales, mConectG, el) # TENSOR GRADIENTE DE DEFORMACIONES\n",
    "    \n",
    "        ϵ = 1 / 2 * (transpose(X) * X - Matrix(I, 2, 2)) # TENSOR DE DEFORMACIONES DE GREEN-LAGRANGE\n",
    "\n",
    "        ϵv = [ϵ[1, 1]; ϵ[2, 2]; ϵ[1, 2]] # VECTOR DE DEFORMACIONES DE GREEN-LAGRANGE\n",
    "\n",
    "        S = C * ϵv # S -> SEGUNDO TENSOR DE PIOLA KIRCHHOFF\n",
    "        for i in 1:9\n",
    "            Sₑₗ = substitute(S, Dict([r => GL9Q[i, 1], s => GL9Q[i, 2]]))\n",
    "            BLₑ = substitute(BL, Dict([r => GL9Q[i, 1], s => GL9Q[i, 2]]))\n",
    "            Fₑ += transpose(BLₑ) * Sₑₗ\n",
    "        end\n",
    "\n",
    "        for i in 1:numGLE # numGLE -> Grados de libertad del elemento\n",
    "            FG[mGdlE[i]] += Fₑ[i]\n",
    "        end\n",
    "    end\n",
    "    return FG\n",
    "end"
   ]
  },
  {
   "cell_type": "code",
   "execution_count": 33,
   "metadata": {},
   "outputs": [
    {
     "data": {
      "text/plain": [
       "18-element Vector{Float64}:\n",
       "  -2188.4754768765183\n",
       "  -6660.360106838713\n",
       "      3.319655661471188e-10\n",
       " -10730.465803575866\n",
       "   2188.47547687629\n",
       "  -6660.360106838456\n",
       "  -1162.1609818955326\n",
       "  -1626.3907263619958\n",
       "      8.833467290969566e-10\n",
       "   3113.851689201206\n",
       "   1162.1609818941374\n",
       "  -1626.3907263621768\n",
       "   1312.0073928475242\n",
       "  11061.668975738656\n",
       "      1.709850039333105e-10\n",
       "   2066.7778292984503\n",
       "  -1312.0073928472862\n",
       "  11061.668975738889"
      ]
     },
     "metadata": {},
     "output_type": "display_data"
    }
   ],
   "source": [
    "FGA(U)"
   ]
  },
  {
   "cell_type": "code",
   "execution_count": 21,
   "metadata": {},
   "outputs": [
    {
     "data": {
      "text/plain": [
       "KGL1 (generic function with 1 method)"
      ]
     },
     "metadata": {},
     "output_type": "display_data"
    }
   ],
   "source": [
    "function KGL1(mConectG, mGCoorNodales, C, numElementos, GDLG, mGdlG, GL9Q, wGL9Q, U)\n",
    "    KGL = zeros(Float64, GDLG, GDLG)\n",
    "\n",
    "    for el in 1:numElementos\n",
    "        KEL = zeros(Float64, 8, 8)\n",
    "        mGdlE = mGdlG[:, el]\n",
    "        numGLE = length(mGdlE)\n",
    "        Uₑ = transpose(reshape(U[mGdlE], 2, 4))\n",
    "        \n",
    "        J = Jacobiano(mGCoorNodales, mConectG, el)\n",
    "        BL₀ = BL0(∇H, J)\n",
    "        BL₁ = BL1(∇H, J, Uₑ)\n",
    "        BL = BL₀ + BL₁\n",
    "        \n",
    "        for i in 1:9 # Integración en los puntos de Gauss\n",
    "            Jg_det = substitute(det(J), Dict([r => GL9Q[i, 1], s => GL9Q[i, 2]]))\n",
    "            Bg = substitute(BL, Dict([r => GL9Q[i, 1], s => GL9Q[i, 2]]))\n",
    "            KEL += (transpose(Bg) * C * Bg * Jg_det * wGL9Q[i, 1] * wGL9Q[i, 2])\n",
    "        end\n",
    "\n",
    "        for i in 1:numGLE\n",
    "            for j in 1:numGLE\n",
    "                KGL[mGdlE[i], mGdlE[j]] += KEL[i, j].val\n",
    "            end\n",
    "        end\n",
    "    end\n",
    "    return KGL\n",
    "end"
   ]
  },
  {
   "cell_type": "code",
   "execution_count": 22,
   "metadata": {},
   "outputs": [
    {
     "data": {
      "text/plain": [
       "18×18 Matrix{Float64}:\n",
       " 692298.0             2.88812e5  …       0.0              0.0\n",
       "      2.88812e5       6.94155e5          0.0              0.0\n",
       "     -4.61514e5  -57712.2                0.0              0.0\n",
       "  57811.8             1.15683e5          0.0              0.0\n",
       "      0.0             0.0                0.0              0.0\n",
       "      0.0             0.0        …       0.0              0.0\n",
       "      1.15355e5   57619.4                0.0              0.0\n",
       " -57913.8            -4.63e5             0.0              0.0\n",
       "     -3.46139e5      -2.8872e5          -3.45133e5  -289324.0\n",
       "     -2.8871e5       -3.46838e5         -2.89233e5       -3.48697e5\n",
       "      0.0             0.0        …       1.15172e5    58600.5\n",
       "      0.0             0.0           -56932.0             -4.64296e5\n",
       "      0.0             0.0                0.0              0.0\n",
       "      0.0             0.0                0.0              0.0\n",
       "      0.0             0.0               -4.60203e5   -59544.8\n",
       "      0.0             0.0        …   55896.4              1.15755e5\n",
       "      0.0             0.0                6.90164e5        2.90268e5\n",
       "      0.0             0.0                2.90268e5        6.97238e5"
      ]
     },
     "metadata": {},
     "output_type": "display_data"
    }
   ],
   "source": [
    "KGL1(mConectG, mGCoorNodales, C, numElementos, GDLG, mGdlG, GL9Q, wGL9Q, U)"
   ]
  },
  {
   "cell_type": "code",
   "execution_count": 23,
   "metadata": {},
   "outputs": [
    {
     "data": {
      "text/plain": [
       "KGNL (generic function with 1 method)"
      ]
     },
     "metadata": {},
     "output_type": "display_data"
    }
   ],
   "source": [
    "function KGNL(mConectG, mGCoorNodales, C, numElementos, GDLG, mGdlG, GL9Q, wGL9Q, U)\n",
    "    KGNL = zeros(Float64, GDLG, GDLG)\n",
    "    for el in 1:numElementos\n",
    "        mGdlE = mGdlG[:, el]\n",
    "        numGLE = length(mGdlE)\n",
    "        KENL = zeros(numGLE, numGLE)\n",
    "        Uₑ = transpose(reshape(U[mGdlE], 2, 4))\n",
    "\n",
    "        J = Jacobiano(mGCoorNodales, mConectG, el)\n",
    "        B = inv(J) * ∇H\n",
    "        \n",
    "        X = TGD(Uₑ, J, mGCoorNodales, mConectG, el) # TENSOR GRADIENTE DE DEFORMACIONES    \n",
    "        ϵ = 1 / 2 * (transpose(X) * X - Matrix(I, 2, 2)) # TENSOR DE DEFORMACIONES DE GREEN-LAGRANGE\n",
    "        ϵv = [ϵ[1, 1]; ϵ[2, 2]; ϵ[1, 2]] # VECTOR DE DEFORMACIONES DE GREEN-LAGRANGE\n",
    "        S = C * ϵv # S -> SEGUNDO TENSOR DE PIOLA KIRCHHOFF\n",
    "        ST = [S[1,1] S[3,1] 0 0; S[3,1] S[2,1] 0 0; 0 0 S[1,1] S[3,1]; 0 0 S[3,1] S[2,1]]\n",
    "\n",
    "        BNL1 = [B[1,1] 0 B[1,2] 0 B[1,3] 0 B[1,4] 0]\n",
    "        BNL2 = [B[2,1] 0 B[2,2] 0 B[2,3] 0 B[2,4] 0]\n",
    "        BNL3 = [0 B[1,1] 0 B[1,2] 0 B[1,3] 0 B[1,4]]\n",
    "        BNL4 = [0 B[2,1] 0 B[2,2] 0 B[2,3] 0 B[2,4]]\n",
    "        BNL = vcat(BNL1, BNL2, BNL3, BNL4)\n",
    "\n",
    "        for i in 1:9 # Integración en los puntos de Gauss\n",
    "            BNLG = substitute(BNL, Dict([r => GL9Q[i, 1], s => GL9Q[i, 2]]))\n",
    "            STG = substitute(ST, Dict([r => GL9Q[i, 1], s => GL9Q[i, 2]]))\n",
    "            KENL += (transpose(BNLG) * STG * BNLG * wGL9Q[i, 1] * wGL9Q[i, 2])\n",
    "        end\n",
    "\n",
    "        for i in 1:numGLE\n",
    "            for j in 1:numGLE\n",
    "                KGNL[mGdlE[i], mGdlE[j]] += KENL[i, j]\n",
    "            end\n",
    "        end\n",
    "        \n",
    "    end\n",
    "\n",
    "    return KGNL\n",
    "    \n",
    "end"
   ]
  },
  {
   "cell_type": "code",
   "execution_count": 24,
   "metadata": {},
   "outputs": [
    {
     "data": {
      "text/plain": [
       "18×18 Matrix{Float64}:\n",
       "  1816.13       0.0      114.423  …      0.0        0.0        0.0\n",
       "     0.0     1816.13       0.0           0.0        0.0        0.0\n",
       "   114.423      0.0     3026.64          0.0        0.0        0.0\n",
       "     0.0      114.423      0.0           0.0        0.0        0.0\n",
       "     0.0        0.0      114.423         0.0        0.0        0.0\n",
       "     0.0        0.0        0.0    …      0.0        0.0        0.0\n",
       " -1181.89       0.0     -846.753         0.0        0.0        0.0\n",
       "     0.0    -1181.89       0.0        -128.249      0.0        0.0\n",
       "  -748.664      0.0    -1561.98          0.0     -853.737      0.0\n",
       "     0.0     -748.664      0.0        -719.543      0.0     -853.737\n",
       "     0.0        0.0     -846.753  …      0.0    -2229.94       0.0\n",
       "     0.0        0.0        0.0        -128.249      0.0    -2229.94\n",
       "     0.0        0.0        0.0           0.0        0.0        0.0\n",
       "     0.0        0.0        0.0        1167.18       0.0        0.0\n",
       "     0.0        0.0        0.0           0.0     1167.18       0.0\n",
       "     0.0        0.0        0.0    …  -1358.32       0.0     1167.18\n",
       "     0.0        0.0        0.0           0.0     1916.49       0.0\n",
       "     0.0        0.0        0.0        1167.18       0.0     1916.49"
      ]
     },
     "metadata": {},
     "output_type": "display_data"
    }
   ],
   "source": [
    "KGNL(mConectG, mGCoorNodales, C, numElementos, GDLG, mGdlG, GL9Q, wGL9Q, U)"
   ]
  },
  {
   "cell_type": "code",
   "execution_count": 49,
   "metadata": {},
   "outputs": [
    {
     "data": {
      "text/plain": [
       "18-element Vector{Float64}:\n",
       "  2188.4754768765183\n",
       "  6660.360106838713\n",
       "    -3.319655661471188e-10\n",
       " 10730.465803575866\n",
       " -2188.47547687629\n",
       "  6660.360106838456\n",
       "  1162.1609818955326\n",
       "  1626.3907263619958\n",
       "    -8.833467290969566e-10\n",
       " -3113.851689201206\n",
       " -1162.1609818941374\n",
       "  1626.3907263621768\n",
       " -1312.0073928475242\n",
       " -8061.668975738656\n",
       "    -1.709850039333105e-10\n",
       " -2066.7778292984503\n",
       "  1312.0073928472862\n",
       " -8061.668975738889"
      ]
     },
     "metadata": {},
     "output_type": "display_data"
    },
    {
     "data": {
      "text/plain": [
       "18-element Vector{Float64}:\n",
       "   4369.3344700830485\n",
       "  13320.525461319892\n",
       "     -9.094947017729282e-12\n",
       "  21438.090501860504\n",
       "  -4369.33447008304\n",
       "  13320.525461319921\n",
       "   2323.308516386266\n",
       "   3270.6564341907833\n",
       "     -1.0322764865122736e-10\n",
       "  -6226.927254300072\n",
       "  -2323.3085163862684\n",
       "   3270.656434191611\n",
       "  -2656.8392856243313\n",
       " -19106.6374129959\n",
       "     -1.7007550923153758e-10\n",
       "  -4180.252212590087\n",
       "   2656.8392856246073\n",
       " -19106.637412996657"
      ]
     },
     "metadata": {},
     "output_type": "display_data"
    },
    {
     "data": {
      "text/plain": [
       "18-element Vector{Float64}:\n",
       "   6542.698431603245\n",
       "  19980.550816818708\n",
       "      7.885319064371288e-10\n",
       "  32123.090004603022\n",
       "  -6542.698431603931\n",
       "  19980.55081681904\n",
       "   3483.436496196923\n",
       "   4932.747993431738\n",
       "      2.1582309273071587e-9\n",
       "  -9339.265593394974\n",
       "  -3483.436496199083\n",
       "   4932.747993431596\n",
       "  -4033.915645112003\n",
       " -30135.067618012115\n",
       "      3.1650415621697903e-10\n",
       "  -6340.28679568449\n",
       "   4033.915645111584\n",
       " -30135.067618012516"
      ]
     },
     "metadata": {},
     "output_type": "display_data"
    },
    {
     "data": {
      "text/plain": [
       "18-element Vector{Float64}:\n",
       "   8708.686925176095\n",
       "  26640.49034260326\n",
       "      7.894414011389017e-10\n",
       "  42785.673973080666\n",
       "  -8708.68692517678\n",
       "  26640.490342603614\n",
       "   4642.539440030979\n",
       "   6612.615035329152\n",
       "      1.889929990284145e-9\n",
       " -12450.906253452473\n",
       "  -4642.539440033073\n",
       "   6612.615035329167\n",
       "  -5442.675570280627\n",
       " -41147.11432854969\n",
       "      1.1295924196019769e-9\n",
       "  -8546.74981839361\n",
       "   5442.675570279601\n",
       " -41147.11432855009"
      ]
     },
     "metadata": {},
     "output_type": "display_data"
    },
    {
     "data": {
      "text/plain": [
       "18-element Vector{Float64}:\n",
       "  10867.417686109431\n",
       "  33300.39761312909\n",
       "      2.764863893389702e-10\n",
       "  53426.04607638767\n",
       " -10867.417686109813\n",
       "  33300.39761312916\n",
       "   5800.612448625881\n",
       "   8310.206088756138\n",
       "     -6.421032594516873e-10\n",
       " -15561.889361931255\n",
       "  -5800.612448625229\n",
       "   8310.206088755505\n",
       "  -6882.576318321364\n",
       " -52142.92510940668\n",
       "     -2.3646862246096134e-10\n",
       " -10799.513899413723\n",
       "   6882.576318321698\n",
       " -52142.92510940589"
      ]
     },
     "metadata": {},
     "output_type": "display_data"
    },
    {
     "data": {
      "text/plain": [
       "18-element Vector{Float64}:\n",
       "  13019.006678743794\n",
       "  39960.325599329226\n",
       "     -1.4551915228366852e-11\n",
       "  64044.404233728535\n",
       " -13019.00667874378\n",
       "  39960.32559932928\n",
       "   6957.65116412409\n",
       "  10025.468703659833\n",
       "     -3.7471181713044643e-10\n",
       " -18672.255564405932\n",
       "  -6957.651164123614\n",
       "  10025.468703659411\n",
       "  -8353.09239229691\n",
       " -63122.64072185675\n",
       "     -1.2078089639544487e-9\n",
       " -13098.455831587211\n",
       "   8353.092392298018\n",
       " -63122.64072185641"
      ]
     },
     "metadata": {},
     "output_type": "display_data"
    },
    {
     "data": {
      "text/plain": [
       "18-element Vector{Float64}:\n",
       "  15163.568151686975\n",
       "  46620.3266616645\n",
       "      1.1641532182693481e-10\n",
       "  74640.94084371877\n",
       " -15163.568151686999\n",
       "  46620.32666166448\n",
       "   8113.651732455034\n",
       "  11758.34956284883\n",
       "     -4.3655745685100555e-10\n",
       " -21782.045967740924\n",
       "  -8113.651732455001\n",
       "  11758.349562848292\n",
       "  -9853.71468563651\n",
       " -74086.39546914217\n",
       "     -2.6921043172478676e-10\n",
       " -15443.456386720432\n",
       "   9853.714685637085\n",
       " -74086.39546914138"
      ]
     },
     "metadata": {},
     "output_type": "display_data"
    },
    {
     "data": {
      "text/plain": [
       "18-element Vector{Float64}:\n",
       "  17301.214690939192\n",
       "  53280.45254472778\n",
       "      4.18367562815547e-10\n",
       "  85215.8430016143\n",
       " -17301.21469093951\n",
       "  53280.4525447281\n",
       "   9268.610768492792\n",
       "  13508.794583126051\n",
       "      2.1009327610954642e-9\n",
       " -24891.30208831685\n",
       "  -9268.610768495219\n",
       "  13508.794583127521\n",
       " -11383.949679141146\n",
       " -85034.31751985442\n",
       "      1.0986695997416973e-9\n",
       " -17834.400129296275\n",
       "  11383.949679140269\n",
       " -85034.3175198562"
      ]
     },
     "metadata": {},
     "output_type": "display_data"
    },
    {
     "data": {
      "text/plain": [
       "18-element Vector{Float64}:\n",
       "  19432.057271018617\n",
       "  59940.75437321856\n",
       "     -5.566107574850321e-10\n",
       "  95769.29270528\n",
       " -19432.05727101817\n",
       "  59940.754373218246\n",
       "  10422.525323781138\n",
       "  15276.749006776161\n",
       "     -2.874003257602453e-10\n",
       " -28000.065804785263\n",
       " -10422.525323780552\n",
       "  15276.749006777405\n",
       " -12943.3186865353\n",
       " -95966.52921099006\n",
       "      2.837623469531536e-10\n",
       " -20271.175238503965\n",
       "  12943.318686534816\n",
       " -95966.5292109911"
      ]
     },
     "metadata": {},
     "output_type": "display_data"
    },
    {
     "data": {
      "text/plain": [
       "18-element Vector{Float64}:\n",
       "   21556.2053041768\n",
       "   66601.2826491181\n",
       "       8.658389560878277e-10\n",
       "  106301.46705069969\n",
       "  -21556.205304177565\n",
       "   66601.28264911848\n",
       "   11575.392856582079\n",
       "   17062.157484219308\n",
       "       1.9699655240401626e-9\n",
       "  -31108.37931506357\n",
       "  -11575.392856583965\n",
       "   17062.157484220123\n",
       "  -14531.357144974587\n",
       " -106883.14733217492\n",
       "       8.149072527885437e-10\n",
       "  -22753.67333796074\n",
       "   14531.35714497358\n",
       " -106883.14733217646"
      ]
     },
     "metadata": {},
     "output_type": "display_data"
    },
    {
     "data": {
      "text/plain": [
       "18-element Vector{Float64}:\n",
       "   23673.766687827614\n",
       "   73262.08724993319\n",
       "      -2.510205376893282e-10\n",
       "  116812.53841769478\n",
       "  -23673.766687827258\n",
       "   73262.08724993315\n",
       "   12727.21120413818\n",
       "   18864.964148645973\n",
       "       1.7025740817189217e-9\n",
       "  -34216.285097065454\n",
       "  -12727.2112041401\n",
       "   18864.964148647006\n",
       "  -16147.613947198628\n",
       " -117784.28339255237\n",
       "       6.912159733474255e-10\n",
       "  -25281.789332682813\n",
       "   16147.613947198055\n",
       " -117784.2833925534"
      ]
     },
     "metadata": {},
     "output_type": "display_data"
    },
    {
     "data": {
      "text/plain": [
       "18-element Vector{Float64}:\n",
       "   25784.847850232614\n",
       "   79923.21742785597\n",
       "       8.440110832452774e-10\n",
       "  127302.67464651981\n",
       "  -25784.84785023335\n",
       "   79923.21742785622\n",
       "   13877.978556890012\n",
       "   20685.112683312822\n",
       "       4.802132025361061e-10\n",
       "  -37323.82587298159\n",
       "  -13877.978556890703\n",
       "   20685.112683312604\n",
       "  -17791.650812337186\n",
       " -128670.04387158371\n",
       "       8.003553375601768e-11\n",
       "  -27855.42125270838\n",
       "   17791.650812337215\n",
       " -128670.04387158374"
      ]
     },
     "metadata": {},
     "output_type": "display_data"
    },
    {
     "data": {
      "text/plain": [
       "18-element Vector{Float64}:\n",
       "   27889.553794578886\n",
       "   86584.72180974069\n",
       "       5.4569682106375694e-11\n",
       "  137772.03920592312\n",
       "  -27889.553794578933\n",
       "   86584.72180974073\n",
       "   15027.693434570134\n",
       "   22522.54638214523\n",
       "       1.4915713109076023e-10\n",
       "  -40431.04457668559\n",
       "  -15027.693434570321\n",
       "   22522.546382146917\n",
       "  -19463.041692610073\n",
       " -139540.5304549838\n",
       "       2.546585164964199e-10\n",
       "  -30474.470103041822\n",
       "   19463.04169260985\n",
       " -139540.5304549855"
      ]
     },
     "metadata": {},
     "output_type": "display_data"
    },
    {
     "data": {
      "text/plain": [
       "18-element Vector{Float64}:\n",
       "   29987.98814147432\n",
       "   93246.6483977864\n",
       "      -5.093170329928398e-11\n",
       "  148220.79135321308\n",
       "  -29987.988141474165\n",
       "   93246.64839778628\n",
       "   16176.354663999873\n",
       "   24377.208204222537\n",
       "       6.402842700481415e-10\n",
       "  -43537.984324055535\n",
       "  -16176.35466400061\n",
       "   24377.208204222858\n",
       "  -21161.372213387807\n",
       " -150395.84025686834\n",
       "       8.440110832452774e-10\n",
       "  -33138.83971943855\n",
       "   21161.37221338695\n",
       " -150395.84025686877"
      ]
     },
     "metadata": {},
     "output_type": "display_data"
    },
    {
     "data": {
      "text/plain": [
       "18-element Vector{Float64}:\n",
       "   32080.253169972435\n",
       "   99909.04457082713\n",
       "       0.0\n",
       "  158649.08628684757\n",
       "  -32080.25316997243\n",
       "   99909.04457082713\n",
       "   17323.9613584544\n",
       "   26249.04082265166\n",
       "      -3.637978807091713e-11\n",
       "  -46644.688385952584\n",
       "  -17323.96135845445\n",
       "   26249.040822651703\n",
       "  -22886.239144318617\n",
       " -161236.06602909404\n",
       "       4.3655745685100555e-11\n",
       "  -35848.43662966459\n",
       "   22886.239144318664\n",
       " -161236.06602909396"
      ]
     },
     "metadata": {},
     "output_type": "display_data"
    },
    {
     "data": {
      "text/plain": [
       "18-element Vector{Float64}:\n",
       "   34166.449857174746\n",
       "  106571.95708615324\n",
       "       2.6193447411060333e-10\n",
       "  169057.07529200334\n",
       "  -34166.449857174906\n",
       "  106571.9570861534\n",
       "   18470.51289849587\n",
       "   28137.98666833392\n",
       "       1.8080754671245813e-9\n",
       "  -49751.200163629765\n",
       "  -18470.51289849756\n",
       "   28137.986668333382\n",
       "  -24637.24989937709\n",
       " -172061.29635873882\n",
       "       4.3655745685100555e-10\n",
       "  -38603.16991986979\n",
       "   24637.24989937643\n",
       " -172061.2963587388"
      ]
     },
     "metadata": {},
     "output_type": "display_data"
    },
    {
     "data": {
      "text/plain": [
       "18-element Vector{Float64}:\n",
       "   36246.67791647628\n",
       "  113235.43208178657\n",
       "       0.0\n",
       "  179444.9058795714\n",
       "  -36246.67791647627\n",
       "  113235.43208178655\n",
       "   19616.00891416773\n",
       "   30043.98796901427\n",
       "      -7.8580342233181e-10\n",
       "  -52857.56316635675\n",
       "  -19616.0089141672\n",
       "   30043.987969012727\n",
       "  -26414.022063880682\n",
       " -182871.6158545251\n",
       "      -5.384208634495735e-10\n",
       "  -41402.95110576647\n",
       "   26414.02206388149\n",
       " -182871.6158545232"
      ]
     },
     "metadata": {},
     "output_type": "display_data"
    },
    {
     "data": {
      "text/plain": [
       "18-element Vector{Float64}:\n",
       "   38321.035834520204\n",
       "  119899.51507913652\n",
       "       7.275957614183426e-11\n",
       "  189812.72191895355\n",
       "  -38321.03583452028\n",
       "  119899.51507913657\n",
       "   20760.44926842129\n",
       "   31966.98678404186\n",
       "       6.111804395914078e-10\n",
       "  -55963.82099109163\n",
       "  -20760.449268421813\n",
       "   31966.986784041874\n",
       "  -28216.182946691133\n",
       " -193667.10532297165\n",
       "      -2.6921043172478676e-10\n",
       "  -44247.69400827533\n",
       "   28216.182946691293\n",
       " -193667.10532297185"
      ]
     },
     "metadata": {},
     "output_type": "display_data"
    },
    {
     "data": {
      "text/plain": [
       "18-element Vector{Float64}:\n",
       "   40389.620906911725\n",
       "  126564.25098598698\n",
       "      -4.0745362639427185e-10\n",
       "  200160.66376506205\n",
       "  -40389.62090691141\n",
       "  126564.25098598668\n",
       "   21903.83404173713\n",
       "   33906.92503517782\n",
       "      -1.418811734765768e-9\n",
       "  -59070.017304004316\n",
       "  -21903.834041735394\n",
       "   33906.925035178196\n",
       "  -30043.369155911787\n",
       " -204447.84193499802\n",
       "       1.4551915228366852e-10\n",
       "  -47137.31463339124\n",
       "   30043.36915591143\n",
       " -204447.84193499817"
      ]
     },
     "metadata": {},
     "output_type": "display_data"
    },
    {
     "data": {
      "text/plain": [
       "18-element Vector{Float64}:\n",
       "   42452.52927274627\n",
       "  133229.68409975042\n",
       "       0.0\n",
       "  210488.86837983562\n",
       "  -42452.52927274626\n",
       "  133229.68409975042\n",
       "   23046.163517795598\n",
       "   35863.7445337805\n",
       "       1.709850039333105e-10\n",
       "  -62176.195823698436\n",
       "  -23046.163517795776\n",
       "   35863.74453378111\n",
       "  -31895.2261965801\n",
       " -215213.89938360374\n",
       "       1.8917489796876907e-10\n",
       "  -50071.731055991564\n",
       "   31895.226196579933\n",
       " -215213.89938360435"
      ]
     },
     "metadata": {},
     "output_type": "display_data"
    },
    {
     "data": {
      "text/plain": [
       "18-element Vector{Float64}:\n",
       "   44509.85594800629\n",
       "  139895.85811095114\n",
       "       0.0\n",
       "  220797.46944861385\n",
       "  -44509.85594800629\n",
       "  139895.85811095114\n",
       "   24187.43817017899\n",
       "   37837.38700465183\n",
       "      -1.709850039333105e-10\n",
       "  -65282.40030602622\n",
       "  -24187.43817017839\n",
       "   37837.38700465066\n",
       "  -33771.408088924894\n",
       " -225965.34803324335\n",
       "      -5.238689482212067e-10\n",
       "  -53050.86330730651\n",
       "   33771.408088924996\n",
       " -225965.34803324257"
      ]
     },
     "metadata": {},
     "output_type": "display_data"
    },
    {
     "data": {
      "text/plain": [
       "18-element Vector{Float64}:\n",
       "   46561.694857864444\n",
       "  146562.8161068779\n",
       "       2.4010660126805305e-10\n",
       "  231086.59749166574\n",
       "  -46561.69485786458\n",
       "  146562.81610687813\n",
       "   25327.65864997985\n",
       "   39827.79410683722\n",
       "       7.130438461899757e-10\n",
       "  -68388.67453032987\n",
       "  -25327.65864998084\n",
       "   39827.79410683547\n",
       "  -35671.57700588883\n",
       " -236702.2550614439\n",
       "      -9.74978320300579e-10\n",
       "  -56074.63326587854\n",
       "   35671.577005889936\n",
       " -236702.2550614422"
      ]
     },
     "metadata": {},
     "output_type": "display_data"
    },
    {
     "data": {
      "text/plain": [
       "18-element Vector{Float64}:\n",
       "   48608.13886794875\n",
       "  153230.60057539487\n",
       "       5.093170329928398e-11\n",
       "  241356.37997113456\n",
       "  -48608.13886794879\n",
       "  153230.60057539487\n",
       "   26466.825774304496\n",
       "   41834.907451607956\n",
       "      -4.001776687800884e-11\n",
       "  -71495.06228697141\n",
       "  -26466.82577430425\n",
       "   41834.90745160755\n",
       "  -37595.40292870004\n",
       " -247424.68459319574\n",
       "      -3.346940502524376e-10\n",
       "  -59142.96455177723\n",
       "   37595.402928700176\n",
       " -247424.6845931954"
      ]
     },
     "metadata": {},
     "output_type": "display_data"
    },
    {
     "data": {
      "text/plain": [
       "18-element Vector{Float64}:\n",
       "   50649.27981459842\n",
       "  159899.2534088398\n",
       "       6.548361852765083e-11\n",
       "  251606.94139366932\n",
       "  -50649.27981459837\n",
       "  159899.2534088398\n",
       "   27604.940515558657\n",
       "   43858.668617859395\n",
       "       8.731149137020111e-10\n",
       "  -74601.60736611336\n",
       "  -27604.940515559745\n",
       "   43858.66861785995\n",
       "  -39542.56331938551\n",
       " -258132.69782856098\n",
       "       9.89530235528946e-10\n",
       "  -62255.782423832294\n",
       "   39542.56331938464\n",
       " -258132.6978285616"
      ]
     },
     "metadata": {},
     "output_type": "display_data"
    },
    {
     "data": {
      "text/plain": [
       "18-element Vector{Float64}:\n",
       "   52685.20853416383\n",
       "  166568.81590801405\n",
       "       1.1132215149700642e-9\n",
       "  261838.4034089725\n",
       "  -52685.20853416482\n",
       "  166568.81590801448\n",
       "   28742.00399150035\n",
       "   45899.01916512594\n",
       "       1.69893610291183e-9\n",
       "  -77708.35354755256\n",
       "  -28742.003991502228\n",
       "   45899.019165125675\n",
       "  -41512.74280917884\n",
       " -268826.3531639642\n",
       "       7.566995918750763e-10\n",
       "  -65413.01367977129\n",
       "   41512.74280917817\n",
       " -268826.3531639645"
      ]
     },
     "metadata": {},
     "output_type": "display_data"
    },
    {
     "data": {
      "text/plain": [
       "18-element Vector{Float64}:\n",
       "   54716.01489138378\n",
       "  173239.32878621639\n",
       "      -4.3655745685100555e-11\n",
       "  272050.8849045199\n",
       "  -54716.01489138374\n",
       "  173239.32878621636\n",
       "   29878.01745599608\n",
       "   47955.9006443962\n",
       "       6.366462912410498e-10\n",
       "  -80815.34459161678\n",
       "  -29878.017455996887\n",
       "   47955.90064439771\n",
       "  -43505.63290186883\n",
       " -279505.7063075534\n",
       "       3.4924596548080444e-10\n",
       "  -68614.58655902161\n",
       "   43505.632901868645\n",
       " -279505.70630755473"
      ]
     },
     "metadata": {},
     "output_type": "display_data"
    },
    {
     "data": {
      "text/plain": [
       "18-element Vector{Float64}:\n",
       "   56741.78780686019\n",
       "  179910.8321732914\n",
       "      -2.1827872842550278e-11\n",
       "  282244.5020966\n",
       "  -56741.78780686017\n",
       "  179910.83217329136\n",
       "   31012.98229041193\n",
       "   50029.254606931325\n",
       "       2.473825588822365e-10\n",
       "  -83922.62423095328\n",
       "  -31012.982290412194\n",
       "   50029.254606931936\n",
       "  -45520.931691185644\n",
       " -290170.8103890261\n",
       "       3.055902197957039e-10\n",
       "  -71860.43064803982\n",
       "   45520.93169118535\n",
       " -290170.81038902677"
      ]
     },
     "metadata": {},
     "output_type": "display_data"
    },
    {
     "data": {
      "text/plain": [
       "18-element Vector{Float64}:\n",
       "   58762.61528369609\n",
       "  186583.36561969802\n",
       "       0.0\n",
       "  292419.3686179547\n",
       "  -58762.61528369608\n",
       "  186583.36561969804\n",
       "   32146.899995639033\n",
       "   52119.022611192806\n",
       "       1.1932570487260818e-9\n",
       "  -87030.236163191\n",
       "  -32146.899995640022\n",
       "   52119.022611193446\n",
       "  -47558.3435914019\n",
       " -300821.7160642521\n",
       "       1.0040821507573128e-9\n",
       "  -75150.47678804086\n",
       "   47558.34359140071\n",
       " -300821.71606425307"
      ]
     },
     "metadata": {},
     "output_type": "display_data"
    },
    {
     "data": {
      "text/plain": [
       "18-element Vector{Float64}:\n",
       "   60778.584433296186\n",
       "  193256.96810054197\n",
       "       1.4551915228366852e-11\n",
       "  302575.59560211713\n",
       "  -60778.5844332962\n",
       "  193256.968100542\n",
       "   33279.772184671005\n",
       "   54225.14622808239\n",
       "       2.9831426218152046e-10\n",
       "  -90138.22404436141\n",
       "  -33279.772184671485\n",
       "   54225.146228084195\n",
       "  -49617.579080372954\n",
       " -311458.47161503247\n",
       "       9.89530235528946e-10\n",
       "  -78484.65698493956\n",
       "   49617.57908037213\n",
       " -311458.47161503433"
      ]
     },
     "metadata": {},
     "output_type": "display_data"
    },
    {
     "data": {
      "text/plain": [
       "18-element Vector{Float64}:\n",
       "   62789.78150037714\n",
       "  199931.67801958264\n",
       "      -5.820766091346741e-11\n",
       "  312713.2917646808\n",
       "  -62789.78150037708\n",
       "  199931.6780195826\n",
       "   34411.60057571626\n",
       "   56347.567044589174\n",
       "       6.184563972055912e-10\n",
       "  -93246.63148303924\n",
       "  -34411.60057571683\n",
       "   56347.56704458868\n",
       "  -51698.35445430444\n",
       " -322081.1230442904\n",
       "       2.6193447411060333e-10\n",
       "  -81862.90432140429\n",
       "   51698.3544543041\n",
       " -322081.12304429"
      ]
     },
     "metadata": {},
     "output_type": "display_data"
    },
    {
     "data": {
      "text/plain": [
       "18-element Vector{Float64}:\n",
       "   64796.29188721466\n",
       "  206607.53321319123\n",
       "      -3.2014213502407074e-10\n",
       "  322832.5634816415\n",
       "  -64796.29188721444\n",
       "  206607.53321319097\n",
       "   35542.386985817415\n",
       "   58486.22666596592\n",
       "      -1.8917489796876907e-9\n",
       "  -96355.50203514118\n",
       "  -35542.386985815334\n",
       "   58486.226665965165\n",
       "  -53800.391593563225\n",
       " -332689.7141669662\n",
       "       1.1641532182693481e-10\n",
       "  -85285.15287088227\n",
       "   53800.39159356302\n",
       " -332689.7141669651"
      ]
     },
     "metadata": {},
     "output_type": "display_data"
    },
    {
     "data": {
      "text/plain": [
       "18-element Vector{Float64}:\n",
       "   66798.2001771534\n",
       "  213284.57095423495\n",
       "       2.9103830456733704e-11\n",
       "  332933.51486496406\n",
       "  -66798.20017715331\n",
       "  213284.57095423483\n",
       "   36672.133324913855\n",
       "   60641.06671658822\n",
       "       3.4924596548080444e-10\n",
       "  -99464.87919931831\n",
       "  -36672.133324914175\n",
       "   60641.066716587695\n",
       "  -55923.417738926815\n",
       " -343284.2866968984\n",
       "       1.4551915228366852e-11\n",
       "  -88751.3376134952\n",
       "   55923.41773892664\n",
       " -343284.28669689794"
      ]
     },
     "metadata": {},
     "output_type": "display_data"
    },
    {
     "data": {
      "text/plain": [
       "18-element Vector{Float64}:\n",
       "   68795.59015739957\n",
       "  219962.82795589225\n",
       "      -2.9103830456733704e-10\n",
       "  343016.2478354882\n",
       "  -68795.59015739936\n",
       "  219962.82795589176\n",
       "   37800.84159036354\n",
       "   62812.02883954786\n",
       "       8.87666828930378e-10\n",
       " -102574.80641287049\n",
       "  -37800.841590364435\n",
       "   62812.02883955106\n",
       "  -58067.16527767509\n",
       " -353864.88032991503\n",
       "       1.760781742632389e-9\n",
       "  -92261.39435366755\n",
       "   58067.165277673404\n",
       " -353864.88032991794"
      ]
     },
     "metadata": {},
     "output_type": "display_data"
    },
    {
     "data": {
      "text/plain": [
       "18-element Vector{Float64}:\n",
       "   70788.54484113306\n",
       "  226642.3403753821\n",
       "       5.238689482212067e-10\n",
       "  353080.86219338514\n",
       "  -70788.5448411335\n",
       "  226642.34037538245\n",
       "   38928.51386185975\n",
       "   64999.0546951131\n",
       "       1.964508555829525e-9\n",
       " -105685.32704819806\n",
       "  -38928.51386186163\n",
       "   64999.054695112805\n",
       "  -60231.37153898124\n",
       " -364431.532823378\n",
       "       4.802132025361061e-10\n",
       "  -95815.2596394211\n",
       "   60231.37153898055\n",
       " -364431.53282337857"
      ]
     },
     "metadata": {},
     "output_type": "display_data"
    },
    {
     "data": {
      "text/plain": [
       "18-element Vector{Float64}:\n",
       "   72777.14648894976\n",
       "  233323.14381758973\n",
       "       1.4551915228366852e-11\n",
       "  363127.4556861862\n",
       "  -72777.14648894976\n",
       "  233323.14381758976\n",
       "   40055.15229672351\n",
       "   67202.0859581249\n",
       "      -6.984919309616089e-10\n",
       " -108796.48440964957\n",
       "  -40055.15229672256\n",
       "   67202.08595812361\n",
       "  -62415.77859811116\n",
       " -374984.2800723723\n",
       "      -7.275957614183426e-11\n",
       "  -99412.87068322118\n",
       "   62415.77859811096\n",
       " -374984.28007237124"
      ]
     },
     "metadata": {},
     "output_type": "display_data"
    },
    {
     "data": {
      "text/plain": [
       "18-element Vector{Float64}:\n",
       "   74761.47662965833\n",
       "  240005.27333858854\n",
       "      -1.4551915228366852e-11\n",
       "  373156.1240745818\n",
       "  -74761.4766296583\n",
       "  240005.2733385885\n",
       "   41180.75912555432\n",
       "   69421.06431442112\n",
       "      -5.456968210637569e-10\n",
       " -111908.32173082084\n",
       "  -41180.75912555389\n",
       "   69421.06431442022\n",
       "  -64620.133088936294\n",
       " -385523.1561827547\n",
       "      -3.7834979593753815e-10\n",
       " -103054.16528427122\n",
       "   64620.13308893676\n",
       " -385523.15618275345"
      ]
     },
     "metadata": {},
     "output_type": "display_data"
    },
    {
     "data": {
      "text/plain": [
       "18-element Vector{Float64}:\n",
       "   76741.61608046998\n",
       "  246688.7634490651\n",
       "      -1.4551915228366852e-11\n",
       "  383166.96119608986\n",
       "  -76741.61608046998\n",
       "  246688.76344906504\n",
       "   42305.33664823586\n",
       "   71655.93145635919\n",
       "       6.83940015733242e-10\n",
       " -115020.88217223076\n",
       "  -42305.336648236305\n",
       "   71655.93145635922\n",
       "  -66844.18602432542\n",
       " -396048.19354125665\n",
       "       4.94765117764473e-10\n",
       " -106739.08175219392\n",
       "   66844.1860243247\n",
       " -396048.1935412571"
      ]
     },
     "metadata": {},
     "output_type": "display_data"
    },
    {
     "data": {
      "text/plain": [
       "18-element Vector{Float64}:\n",
       "   78717.64496656542\n",
       "  253373.64811759393\n",
       "      -8.731149137020111e-11\n",
       "  393160.0590266328\n",
       "  -78717.64496656535\n",
       "  253373.64811759396\n",
       "   43428.887230219276\n",
       "   73906.62907751685\n",
       "      -2.9103830456733704e-11\n",
       " -118134.20881928393\n",
       "  -43428.887230219145\n",
       "   73906.62907751685\n",
       "  -69087.69262400139\n",
       " -406559.4228827792\n",
       "      -4.3655745685100555e-11\n",
       " -110467.5588320119\n",
       "   69087.69262400131\n",
       " -406559.4228827793"
      ]
     },
     "metadata": {},
     "output_type": "display_data"
    },
    {
     "data": {
      "text/plain": [
       "18-element Vector{Float64}:\n",
       "   80689.64274009634\n",
       "  260059.96077382666\n",
       "       1.4551915228366852e-11\n",
       "  403135.50774023007\n",
       "  -80689.64274009634\n",
       "  260059.9607738267\n",
       "   44551.413299135274\n",
       "   76173.09886660642\n",
       "       4.147295840084553e-10\n",
       " -121248.34468058369\n",
       "  -44551.413299135624\n",
       "   76173.09886660712\n",
       "  -71350.41214947581\n",
       " -417056.87335507653\n",
       "       3.4924596548080444e-10\n",
       " -114239.53563035924\n",
       "   71350.41214947542\n",
       " -417056.87335507746"
      ]
     },
     "metadata": {},
     "output_type": "display_data"
    },
    {
     "data": {
      "text/plain": [
       "18-element Vector{Float64}:\n",
       "   82657.68819861734\n",
       "  266747.73431152746\n",
       "       0.0\n",
       "  413093.395766815\n",
       "  -82657.68819861732\n",
       "  266747.73431152746\n",
       "   45672.91734165874\n",
       "   78455.28250070458\n",
       "       9.167706593871117e-10\n",
       " -124363.33268650614\n",
       "  -45672.91734165941\n",
       "   78455.28250070591\n",
       "  -73632.10774568826\n",
       " -427540.5725809683\n",
       "       1.3387762010097504e-9\n",
       " -118054.9515428358\n",
       "   73632.10774568668\n",
       " -427540.57258097024"
      ]
     },
     "metadata": {},
     "output_type": "display_data"
    },
    {
     "data": {
      "text/plain": [
       "18-element Vector{Float64}:\n",
       "   84621.85950296192\n",
       "  273437.00109147996\n",
       "       0.0\n",
       "  423033.8098482785\n",
       "  -84621.8595029619\n",
       "  273437.00109147996\n",
       "   46793.40190064332\n",
       "   80753.12163781398\n",
       "       1.7462298274040222e-10\n",
       " -127479.21568801283\n",
       "  -46793.40190064307\n",
       "   80753.12163781386\n",
       "  -75932.54628902131\n",
       " -438010.5467182\n",
       "      -1.7462298274040222e-10\n",
       " -121913.74618245312\n",
       "   75932.5462890211\n",
       " -438010.5467182003"
      ]
     },
     "metadata": {},
     "output_type": "display_data"
    },
    {
     "data": {
      "text/plain": [
       "18-element Vector{Float64}:\n",
       "   86582.23419459944\n",
       "  280127.7929442683\n",
       "       0.0\n",
       "  432956.8350928588\n",
       "  -86582.23419459941\n",
       "  280127.79294426827\n",
       "   47912.86957249657\n",
       "   83066.55790883745\n",
       "       5.311449058353901e-10\n",
       " -130596.03645566566\n",
       "  -47912.86957249705\n",
       "   83066.55790883879\n",
       "  -78251.49824135995\n",
       " -448466.8205171376\n",
       "       3.7834979593753815e-10\n",
       " -125815.85930912929\n",
       "   78251.49824135948\n",
       " -448466.82051713904"
      ]
     },
     "metadata": {},
     "output_type": "display_data"
    },
    {
     "data": {
      "text/plain": [
       "18-element Vector{Float64}:\n",
       "   88538.88921247039\n",
       "  286820.14117291995\n",
       "       7.275957614183426e-11\n",
       "  442862.5550279364\n",
       "  -88538.88921247034\n",
       "  286820.14117291983\n",
       "   49031.32300478533\n",
       "   85395.53290898335\n",
       "       1.4551915228366852e-11\n",
       " -133713.83767889708\n",
       "  -49031.323004785416\n",
       "   85395.5329089833\n",
       "  -80588.73750989807\n",
       " -458909.41737636254\n",
       "       0.0\n",
       " -129761.23076012064\n",
       "   80588.73750989804\n",
       " -458909.4173763626"
      ]
     },
     "metadata": {},
     "output_type": "display_data"
    },
    {
     "data": {
      "text/plain": [
       "18-element Vector{Float64}:\n",
       "   90491.90090931638\n",
       "  293514.0765553929\n",
       "      -8.149072527885437e-10\n",
       "  452751.0516512663\n",
       "  -90491.9009093157\n",
       "  293514.07655539265\n",
       "   50148.764894048036\n",
       "   87739.98818867852\n",
       "      -9.531504474580288e-10\n",
       " -136832.6619653671\n",
       "  -50148.764894046835\n",
       "   87739.98818867875\n",
       "  -82944.04131241888\n",
       " -469338.3593963179\n",
       "      -5.529727786779404e-10\n",
       " -133749.8003814065\n",
       "   82944.04131241931\n",
       " -469338.3593963177"
      ]
     },
     "metadata": {},
     "output_type": "display_data"
    },
    {
     "data": {
      "text/plain": [
       "18-element Vector{Float64}:\n",
       "   92441.34506753036\n",
       "  300209.6293469435\n",
       "      -4.3655745685100555e-10\n",
       "  462622.40548080264\n",
       "  -92441.34506753001\n",
       "  300209.6293469424\n",
       "   51265.19798382542\n",
       "   90099.86524401\n",
       "       3.128661774098873e-10\n",
       " -139952.55184053112\n",
       "  -51265.19798382558\n",
       "   90099.86524401221\n",
       "  -85317.19004776377\n",
       " -479753.6674311252\n",
       "       1.1641532182693481e-9\n",
       " -137781.5079599279\n",
       "   85317.19004776253\n",
       " -479753.6674311265"
      ]
     },
     "metadata": {},
     "output_type": "display_data"
    },
    {
     "data": {
      "text/plain": [
       "18-element Vector{Float64}:\n",
       "   94387.29691452993\n",
       "  306906.8292823351\n",
       "       1.4551915228366852e-11\n",
       "  472476.6956031044\n",
       "  -94387.29691452993\n",
       "  306906.8292823351\n",
       "   52380.62506286366\n",
       "   92475.10550672689\n",
       "      -2.6193447411060333e-10\n",
       " -143073.54974732173\n",
       "  -52380.62506286333\n",
       "   92475.10550672689\n",
       "  -87707.96717126327\n",
       " -490155.36113862944\n",
       "       2.0372681319713593e-10\n",
       " -141856.29315664782\n",
       "   87707.967171263\n",
       " -490155.3611386295"
      ]
     },
     "metadata": {},
     "output_type": "display_data"
    },
    {
     "data": {
      "text/plain": [
       "18-element Vector{Float64}:\n",
       "   96329.8311376679\n",
       "  313605.70557791623\n",
       "       1.4551915228366852e-11\n",
       "  482313.9997204264\n",
       "  -96329.8311376679\n",
       "  313605.70557791623\n",
       "   53495.048963507885\n",
       "   94865.65033386572\n",
       "      -2.1827872842550278e-11\n",
       " -146195.69804592198\n",
       "  -53495.04896350765\n",
       "   94865.6503338656\n",
       "  -90116.15907488076\n",
       " -500543.45902883215\n",
       "       3.2014213502407074e-10\n",
       " -145974.0954404037\n",
       "   90116.1590748802\n",
       " -500543.4590288325"
      ]
     },
     "metadata": {},
     "output_type": "display_data"
    },
    {
     "data": {
      "text/plain": [
       "18-element Vector{Float64}:\n",
       "   98269.02189869521\n",
       "  320306.2869335471\n",
       "      -5.820766091346741e-11\n",
       "  492134.3941965515\n",
       "  -98269.02189869525\n",
       "  320306.28693354706\n",
       "   54608.47256025521\n",
       "   97271.44099699229\n",
       "      -6.83940015733242e-10\n",
       " -149319.03901367943\n",
       "  -54608.472560254486\n",
       "   97271.44099699089\n",
       "  -92541.55497185301\n",
       " -510917.9785107386\n",
       "      -6.111804395914078e-10\n",
       " -150134.85402247435\n",
       "   92541.55497185368\n",
       " -510917.9785107365"
      ]
     },
     "metadata": {},
     "output_type": "display_data"
    },
    {
     "data": {
      "text/plain": [
       "18-element Vector{Float64}:\n",
       "  100204.94284778702\n",
       "  327008.601534384\n",
       "      -4.802132025361061e-10\n",
       "  501937.95410139335\n",
       " -100204.94284778662\n",
       "  327008.6015343831\n",
       "   55720.89876847283\n",
       "   99692.41867114377\n",
       "      -3.4924596548080444e-10\n",
       " -152443.61484503452\n",
       "  -55720.898768472245\n",
       "   99692.41867114493\n",
       "  -94983.94678561865\n",
       " -521278.9359377672\n",
       "       2.9103830456733704e-11\n",
       " -154338.50779187994\n",
       "   94983.94678561851\n",
       " -521278.93593776756"
      ]
     },
     "metadata": {},
     "output_type": "display_data"
    },
    {
     "data": {
      "text/plain": [
       "18-element Vector{Float64}:\n",
       "  102137.66713713865\n",
       "  333712.67705252167\n",
       "      -2.9103830456733704e-11\n",
       "  511724.7532544624\n",
       " -102137.66713713868\n",
       "  333712.67705252167\n",
       "   56832.33054326053\n",
       "  102128.52442345233\n",
       "       6.83940015733242e-10\n",
       " -155569.4676515605\n",
       "  -56832.330543261014\n",
       "  102128.52442345419\n",
       "  -97443.12904284231\n",
       " -531626.3466517577\n",
       "       4.94765117764473e-10\n",
       " -158584.99525133453\n",
       "   97443.12904284168\n",
       " -531626.3466517598"
      ]
     },
     "metadata": {},
     "output_type": "display_data"
    },
    {
     "data": {
      "text/plain": [
       "18-element Vector{Float64}:\n",
       "  104067.2674341531\n",
       "  340418.54064849863\n",
       "       0.0\n",
       "  521494.86426722293\n",
       " -104067.26743415307\n",
       "  340418.5406484986\n",
       "   57942.77087845815\n",
       "  104579.69920149416\n",
       "       2.255546860396862e-10\n",
       " -158696.63946204126\n",
       "  -57942.770878458294\n",
       "  104579.69920149352\n",
       "  -99918.89877034712\n",
       " -541960.225025671\n",
       "       2.0372681319713593e-10\n",
       " -162874.25445382565\n",
       "   99918.89877034686\n",
       " -541960.2250256701"
      ]
     },
     "metadata": {},
     "output_type": "display_data"
    },
    {
     "data": {
      "text/plain": [
       "18-element Vector{Float64}:\n",
       "  105993.81593421167\n",
       "  347126.2189726516\n",
       "      -7.275957614183426e-11\n",
       "  531248.3585843826\n",
       " -105993.81593421164\n",
       "  347126.2189726516\n",
       "   59052.22280577302\n",
       "  107045.88382139592\n",
       "       6.402842700481415e-10\n",
       " -161825.17222257232\n",
       "  -59052.22280577368\n",
       "  107045.88382139755\n",
       " -102411.05539578586\n",
       " -552280.5845050456\n",
       "       5.529727786779404e-10\n",
       " -167206.2229398141\n",
       "  102411.05539578533\n",
       " -552280.5845050472"
      ]
     },
     "metadata": {},
     "output_type": "display_data"
    },
    {
     "data": {
      "text/plain": [
       "18-element Vector{Float64}:\n",
       "  107917.3843730549\n",
       "  353835.7381663328\n",
       "       8.87666828930378e-10\n",
       "  540985.3065241829\n",
       " -107917.38437305564\n",
       "  353835.7381663331\n",
       "   60160.68939405103\n",
       "  109527.01895573636\n",
       "       8.149072527885437e-10\n",
       " -164955.10779668076\n",
       "  -60160.689394051646\n",
       "  109527.01895573537\n",
       " -104919.40065187763\n",
       " -562587.4376483107\n",
       "       1.7462298274040222e-10\n",
       " -171580.83767501873\n",
       "  104919.40065187716\n",
       " -562587.4376483103"
      ]
     },
     "metadata": {},
     "output_type": "display_data"
    },
    {
     "data": {
      "text/plain": [
       "18-element Vector{Float64}:\n",
       "  109838.0440387781\n",
       "  360547.12386299827\n",
       "       8.87666828930378e-10\n",
       "  550705.7773177184\n",
       " -109838.04403877887\n",
       "  360547.1238629986\n",
       "   61268.173748644076\n",
       "  112023.04512120545\n",
       "       1.0841176845133305e-9\n",
       " -168086.4879654892\n",
       "  -61268.17374864527\n",
       "  112023.0451212048\n",
       " -107443.73848407404\n",
       " -572880.796165955\n",
       "      -4.0745362639427185e-10\n",
       " -175998.03498872631\n",
       "  107443.73848407443\n",
       " -572880.7961659549"
      ]
     },
     "metadata": {},
     "output_type": "display_data"
    },
    {
     "data": {
      "text/plain": [
       "18-element Vector{Float64}:\n",
       "  111755.86578343478\n",
       "  367260.40118913446\n",
       "      -4.3655745685100555e-11\n",
       "  560409.8391473077\n",
       " -111755.86578343474\n",
       "  367260.40118913446\n",
       "   62374.67901089878\n",
       "  114533.9026661354\n",
       "       2.6921043172478676e-10\n",
       " -171219.35442782316\n",
       "  -62374.679010899265\n",
       "  114533.90266613691\n",
       " -109983.87496149006\n",
       " -583160.67095868\n",
       "       4.656612873077393e-10\n",
       " -180457.7505126642\n",
       "  109983.87496148983\n",
       " -583160.6709586815"
      ]
     },
     "metadata": {},
     "output_type": "display_data"
    },
    {
     "data": {
      "text/plain": [
       "18-element Vector{Float64}:\n",
       "  113670.92003428371\n",
       "  373975.594765078\n",
       "       4.3655745685100555e-11\n",
       "  570097.5591840164\n",
       " -113670.92003428367\n",
       "  373975.59476507787\n",
       "   63480.208357751515\n",
       "  117059.5317578488\n",
       "       1.673470251262188e-10\n",
       " -174353.74880034805\n",
       "  -63480.20835775204\n",
       "  117059.53175784845\n",
       " -112539.61819096954\n",
       " -593427.072154567\n",
       "       4.3655745685100555e-10\n",
       " -184959.91912038787\n",
       "  112539.61819096931\n",
       " -593427.0721545665"
      ]
     },
     "metadata": {},
     "output_type": "display_data"
    },
    {
     "data": {
      "text/plain": [
       "18-element Vector{Float64}:\n",
       "  115583.27680466448\n",
       "  380692.7287056803\n",
       "       1.4551915228366852e-11\n",
       "  579769.0036242856\n",
       " -115583.27680466448\n",
       "  380692.72870568035\n",
       "   64584.76500140578\n",
       "  119599.87236984196\n",
       "      -1.7462298274040222e-10\n",
       " -177489.7126176873\n",
       "  -64584.765001405496\n",
       "  119599.87236984196\n",
       " -115110.77823416912\n",
       " -603680.0091452664\n",
       "       1.4551915228366852e-10\n",
       " -189504.47486711002\n",
       "  115110.77823416887\n",
       " -603680.0091452665"
      ]
     },
     "metadata": {},
     "output_type": "display_data"
    },
    {
     "data": {
      "text/plain": [
       "18-element Vector{Float64}:\n",
       "  117493.00570451964\n",
       "  387411.82662084774\n",
       "       8.440110832452774e-10\n",
       "  589424.2377257727\n",
       " -117493.00570452034\n",
       "  387411.8266208481\n",
       "   65688.35218911964\n",
       "  122154.8642689106\n",
       "       1.367880031466484e-9\n",
       " -180627.2873324766\n",
       "  -65688.35218912092\n",
       "  122154.86426891037\n",
       " -117697.167027515\n",
       " -613919.4906213664\n",
       "       3.7834979593753815e-10\n",
       " -194091.35093007958\n",
       "  117697.16702751436\n",
       " -613919.4906213668"
      ]
     },
     "metadata": {},
     "output_type": "display_data"
    },
    {
     "data": {
      "text/plain": [
       "18-element Vector{Float64}:\n",
       "  119400.1759505656\n",
       "  394132.9116159559\n",
       "      -1.0186340659856796e-10\n",
       "  599063.3258423912\n",
       " -119400.17595056558\n",
       "  394132.9116159555\n",
       "   66790.97320306867\n",
       "  124724.44700210856\n",
       "      -1.5279510989785194e-10\n",
       " -183766.51431540772\n",
       "  -66790.97320306866\n",
       "  124724.44700210908\n",
       " -120298.59830493087\n",
       " -624145.5246068757\n",
       "       1.7462298274040222e-10\n",
       " -198720.47954936133\n",
       "  120298.59830493096\n",
       " -624145.5246068756"
      ]
     },
     "metadata": {},
     "output_type": "display_data"
    },
    {
     "data": {
      "text/plain": [
       "18-element Vector{Float64}:\n",
       "  121304.85637612073\n",
       "  400856.0062921235\n",
       "      -5.820766091346741e-11\n",
       "  608686.3314586075\n",
       " -121304.85637612066\n",
       "  400856.0062921234\n",
       "   67892.63136028816\n",
       "  127308.5598836728\n",
       "      -4.802132025361061e-10\n",
       " -186907.43485519578\n",
       "  -67892.63136028756\n",
       "  127308.55988367315\n",
       " -122914.88752323207\n",
       " -634358.1184929439\n",
       "      -4.0745362639427185e-10\n",
       " -203391.79196911654\n",
       "  122914.8875232324\n",
       " -634358.1184929439"
      ]
     },
     "metadata": {},
     "output_type": "display_data"
    },
    {
     "data": {
      "text/plain": [
       "18-element Vector{Float64}:\n",
       "  123207.1154406031\n",
       "  407581.1327463781\n",
       "      -2.0372681319713593e-10\n",
       "  618293.3172230059\n",
       " -123207.115440603\n",
       "  407581.1327463779\n",
       "   68993.33001269714\n",
       "  129907.14198182558\n",
       "      -4.729372449219227e-10\n",
       " -190050.0901585269\n",
       "  -68993.33001269653\n",
       "  129907.14198182902\n",
       " -125545.85179007161\n",
       " -644557.2790708105\n",
       "       1.367880031466484e-9\n",
       " -208105.2183792648\n",
       "  125545.85179007023\n",
       " -644557.2790708144"
      ]
     },
     "metadata": {},
     "output_type": "display_data"
    },
    {
     "data": {
      "text/plain": [
       "18-element Vector{Float64}:\n",
       "  125107.02123869119\n",
       "  414308.3125716873\n",
       "      -4.656612873077393e-10\n",
       "  627884.3449811728\n",
       " -125107.02123869085\n",
       "  414308.312571687\n",
       "   70093.07254719496\n",
       "  132520.1321055771\n",
       "       1.1641532182693481e-10\n",
       " -193194.5213499069\n",
       "  -70093.07254719507\n",
       "  132520.13210557937\n",
       " -128191.30979434508\n",
       " -654743.0125640788\n",
       "       1.0477378964424133e-9\n",
       " -212860.68785763695\n",
       "  128191.30979434408\n",
       " -654743.012564081"
      ]
     },
     "metadata": {},
     "output_type": "display_data"
    },
    {
     "data": {
      "text/plain": [
       "18-element Vector{Float64}:\n",
       "  127004.64150916525\n",
       "  421037.56685687596\n",
       "      -3.2014213502407074e-10\n",
       "  637459.4758079028\n",
       " -127004.6415091651\n",
       "  421037.5668568759\n",
       "   71191.86238581786\n",
       "  135147.4687914279\n",
       "      -1.1568772606551647e-9\n",
       " -196340.76947146287\n",
       "  -71191.86238581681\n",
       "  135147.46879142942\n",
       " -130851.0817389726\n",
       " -664915.3246602747\n",
       "      -2.3283064365386963e-10\n",
       " -217658.128312499\n",
       "  130851.08173897314\n",
       " -664915.3246602754"
      ]
     },
     "metadata": {},
     "output_type": "display_data"
    },
    {
     "data": {
      "text/plain": [
       "18-element Vector{Float64}:\n",
       "  128900.04364342452\n",
       "  427768.9161864178\n",
       "       0.0\n",
       "  647018.7700387532\n",
       " -128900.0436434245\n",
       "  427768.9161864178\n",
       "   72289.70298596207\n",
       "  137789.09029010608\n",
       "      -7.275957614183426e-11\n",
       " -199488.87548263\n",
       "  -72289.70298596195\n",
       "  137789.09029010625\n",
       " -133524.98927595152\n",
       " -675074.2205418214\n",
       "       5.820766091346741e-11\n",
       " -222497.4664255281\n",
       "  133524.98927595143\n",
       " -675074.2205418214"
      ]
     },
     "metadata": {},
     "output_type": "display_data"
    },
    {
     "data": {
      "text/plain": [
       "18-element Vector{Float64}:\n",
       "  130793.29469370082\n",
       "  434502.380640131\n",
       "      -2.9103830456733704e-11\n",
       "  656562.2873010112\n",
       " -130793.2946937008\n",
       "  434502.38064013096\n",
       "   73386.59784066935\n",
       "  140444.93455323315\n",
       "       5.020410753786564e-10\n",
       " -202638.88025981007\n",
       "  -73386.5978406698\n",
       "  140444.93455323437\n",
       " -136212.85544361608\n",
       " -685219.704916374\n",
       "       3.4924596548080444e-10\n",
       " -227378.62759518123\n",
       "  136212.85544361564\n",
       " -685219.7049163756"
      ]
     },
     "metadata": {},
     "output_type": "display_data"
    },
    {
     "data": {
      "text/plain": [
       "18-element Vector{Float64}:\n",
       "  132684.46138095035\n",
       "  441237.9797927395\n",
       "      -4.656612873077393e-10\n",
       "  666090.0865440357\n",
       " -132684.4613809501\n",
       "  441237.9797927394\n",
       "   74482.55047896574\n",
       "  143114.93922003836\n",
       "      -1.8189894035458565e-9\n",
       " -205790.82459588046\n",
       "  -74482.55047896382\n",
       "  143114.93922003894\n",
       " -138914.5046060129\n",
       " -695351.7820466148\n",
       "      -5.529727786779404e-10\n",
       " -232301.53588048194\n",
       "  138914.5046060136\n",
       " -695351.7820466146"
      ]
     },
     "metadata": {},
     "output_type": "display_data"
    },
    {
     "data": {
      "text/plain": [
       "18-element Vector{Float64}:\n",
       "  134573.6101024517\n",
       "  447975.73271334585\n",
       "      -3.2014213502407074e-10\n",
       "  675602.2260690338\n",
       " -134573.6101024514\n",
       "  447975.7327133449\n",
       "   75577.56446624064\n",
       "  145799.04160404392\n",
       "       4.3655745685100555e-11\n",
       " -208944.749199651\n",
       "  -75577.5644662412\n",
       "  145799.04160404543\n",
       " -141629.7623943359\n",
       " -705470.4557794833\n",
       "       1.4551915228366852e-10\n",
       " -237266.11394519647\n",
       "  141629.76239433634\n",
       " -705470.455779483"
      ]
     },
     "metadata": {},
     "output_type": "display_data"
    },
    {
     "data": {
      "text/plain": [
       "18-element Vector{Float64}:\n",
       "  136460.80693910056\n",
       "  454715.65796478925\n",
       "       2.9103830456733704e-11\n",
       "  685098.7635583021\n",
       " -136460.80693910056\n",
       "  454715.6579647893\n",
       "   76671.64340470263\n",
       "  148497.17867981124\n",
       "      -6.548361852765083e-10\n",
       " -212100.69469518264\n",
       "  -76671.6434047019\n",
       "  148497.17867980927\n",
       " -144358.4556503252\n",
       " -715575.7295749285\n",
       "      -6.402842700481415e-10\n",
       " -242272.28300246334\n",
       "  144358.45565032578\n",
       " -715575.7295749267"
      ]
     },
     "metadata": {},
     "output_type": "display_data"
    },
    {
     "data": {
      "text/plain": [
       "18-element Vector{Float64}:\n",
       "  138346.11766241203\n",
       "  461457.77360290784\n",
       "      -5.820766091346741e-11\n",
       "  694579.7561039056\n",
       " -138346.11766241209\n",
       "  461457.7736029078\n",
       "   77764.79093383832\n",
       "  151209.28706968122\n",
       "      -7.130438461899757e-10\n",
       " -215258.70162102833\n",
       "  -77764.79093383806\n",
       "  151209.28706968157\n",
       " -147100.41237159487\n",
       " -725667.6065341432\n",
       "      -2.9103830456733704e-10\n",
       " -247319.96275976996\n",
       "  147100.41237159568\n",
       " -725667.6065341425"
      ]
     },
     "metadata": {},
     "output_type": "display_data"
    },
    {
     "data": {
      "text/plain": [
       "18-element Vector{Float64}:\n",
       "  140229.6077412253\n",
       "  468202.0971756914\n",
       "       2.9103830456733704e-11\n",
       "  704045.2602358581\n",
       " -140229.60774122534\n",
       "  468202.0971756914\n",
       "   78857.01073095808\n",
       "  153935.30303062615\n",
       "      -8.003553375601768e-11\n",
       " -218418.81042931633\n",
       "  -78857.01073095817\n",
       "  153935.30303062598\n",
       " -149855.46165880133\n",
       " -735746.0894273836\n",
       "       0.0\n",
       " -252409.07136440987\n",
       "  149855.46165880153\n",
       " -735746.0894273832"
      ]
     },
     "metadata": {},
     "output_type": "display_data"
    },
    {
     "data": {
      "text/plain": [
       "18-element Vector{Float64}:\n",
       "  142111.3423481287\n",
       "  474948.6457223579\n",
       "       8.731149137020111e-11\n",
       "  713495.3319498133\n",
       " -142111.3423481287\n",
       "  474948.64572235785\n",
       "   79948.30651174816\n",
       "  156675.16244108195\n",
       "      -1.8917489796876907e-10\n",
       " -221581.06148478563\n",
       "  -79948.30651174807\n",
       "  156675.16244108137\n",
       " -152623.43366461288\n",
       " -745811.1807213083\n",
       "      -2.0372681319713593e-10\n",
       " -257539.52534929052\n",
       "  152623.43366461303\n",
       " -745811.1807213079"
      ]
     },
     "metadata": {},
     "output_type": "display_data"
    },
    {
     "data": {
      "text/plain": [
       "18-element Vector{Float64}:\n",
       "  143991.38636559783\n",
       "  481697.43577232334\n",
       "       1.4551915228366852e-10\n",
       "  722930.0267342529\n",
       " -143991.38636559795\n",
       "  481697.4357723225\n",
       "   81038.68203086416\n",
       "  159428.8007879167\n",
       "       9.604264050722122e-10\n",
       " -224745.49506362402\n",
       "  -81038.68203086546\n",
       "  159428.80078791914\n",
       " -155404.15954441135\n",
       " -755862.8826059452\n",
       "       2.9103830456733704e-10\n",
       " -262711.2395792185\n",
       "  155404.1595444114\n",
       " -755862.8826059466"
      ]
     },
     "metadata": {},
     "output_type": "display_data"
    },
    {
     "data": {
      "text/plain": [
       "18-element Vector{Float64}:\n",
       "  145869.80439185468\n",
       "  488448.483344092\n",
       "       0.0\n",
       "  732349.3995972212\n",
       " -145869.80439185465\n",
       "  488448.483344092\n",
       "   82128.14108257668\n",
       "  162196.15315345064\n",
       "       1.2369127944111824e-10\n",
       " -227912.15135220755\n",
       "  -82128.14108257667\n",
       "  162196.15315345064\n",
       " -158197.47140868363\n",
       " -765901.1970212521\n",
       "       0.0\n",
       " -267924.1271975942\n",
       "  158197.47140868343\n",
       " -765901.1970212524"
      ]
     },
     "metadata": {},
     "output_type": "display_data"
    },
    {
     "data": {
      "text/plain": [
       "18-element Vector{Float64}:\n",
       "  147746.66074644652\n",
       "  495201.80394405907\n",
       "       0.0\n",
       "  741753.5050926136\n",
       " -147746.6607464465\n",
       "  495201.8039440592\n",
       "   83216.6875014236\n",
       "  164977.15420256625\n",
       "      -5.602487362921238e-10\n",
       " -231081.07044572907\n",
       "  -83216.68750142318\n",
       "  164977.15420256613\n",
       " -161003.20227704474\n",
       " -775926.1256833012\n",
       "      -3.7834979593753815e-10\n",
       " -273178.09957353334\n",
       "  161003.2022770453\n",
       " -775926.1256833009"
      ]
     },
     "metadata": {},
     "output_type": "display_data"
    },
    {
     "data": {
      "text/plain": [
       "18-element Vector{Float64}:\n",
       "  149622.01947555935\n",
       "  501957.4125652396\n",
       "       2.9103830456733704e-11\n",
       "  751142.3973460139\n",
       " -149622.01947555927\n",
       "  501957.41256523953\n",
       "   84304.3251629007\n",
       "  167771.73816993646\n",
       "      -3.92901711165905e-10\n",
       " -234252.29234665877\n",
       "  -84304.32516290064\n",
       "  167771.73816993565\n",
       " -163821.18603385804\n",
       " -785937.670110126\n",
       "      -2.3283064365386963e-10\n",
       " -278473.0662494553\n",
       "  163821.1860338584\n",
       " -785937.670110125"
      ]
     },
     "metadata": {},
     "output_type": "display_data"
    },
    {
     "data": {
      "text/plain": [
       "18-element Vector{Float64}:\n",
       "  151495.94435705047\n",
       "  508715.3236859085\n",
       "      -2.9103830456733704e-11\n",
       "  760516.1300801111\n",
       " -151495.94435705044\n",
       "  508715.32368590846\n",
       "   85391.05798417827\n",
       "  170579.8388473494\n",
       "       4.0745362639427185e-10\n",
       " -237425.8569630761\n",
       "  -85391.05798417922\n",
       "  170579.83884735126\n",
       " -166651.2573853909\n",
       " -795935.8316472166\n",
       "       6.984919309616089e-10\n",
       " -283808.93488911807\n",
       "  166651.2573853907\n",
       " -795935.8316472181"
      ]
     },
     "metadata": {},
     "output_type": "display_data"
    },
    {
     "data": {
      "text/plain": [
       "18-element Vector{Float64}:\n",
       "  153368.49890522528\n",
       "  515475.55126818724\n",
       "       0.0\n",
       "  769874.7566397204\n",
       " -153368.49890522528\n",
       "  515475.55126818724\n",
       "   86476.88992484222\n",
       "  173401.3895711822\n",
       "      -1.3096723705530167e-10\n",
       " -240601.8041068639\n",
       "  -86476.88992484227\n",
       "  173401.3895711823\n",
       " -169493.25181847558\n",
       " -805920.611492732\n",
       "       8.731149137020111e-11\n",
       " -289185.61122613173\n",
       "  169493.2518184757\n",
       " -805920.6114927318"
      ]
     },
     "metadata": {},
     "output_type": "display_data"
    },
    {
     "data": {
      "text/plain": [
       "18-element Vector{Float64}:\n",
       "  155239.74637533943\n",
       "  522238.10875654384\n",
       "      -5.820766091346741e-11\n",
       "  779218.3300163746\n",
       " -155239.7463753394\n",
       "  522238.10875654395\n",
       "   87561.82498765292\n",
       "  176236.32320997247\n",
       "      -6.039044819772243e-10\n",
       " -243780.17349173455\n",
       "  -87561.82498765188\n",
       "  176236.32320997096\n",
       " -172347.00556064036\n",
       " -815892.0107223572\n",
       "      -4.94765117764473e-10\n",
       " -294602.9990129586\n",
       "  172347.00556064042\n",
       " -815892.0107223557"
      ]
     },
     "metadata": {},
     "output_type": "display_data"
    },
    {
     "data": {
      "text/plain": [
       "18-element Vector{Float64}:\n",
       "  157109.74976784576\n",
       "  529003.0090762418\n",
       "       5.820766091346741e-11\n",
       "  788546.902872545\n",
       " -157109.74976784573\n",
       "  529003.009076242\n",
       "   88645.86721931587\n",
       "  179084.57215216267\n",
       "       2.255546860396862e-10\n",
       " -246961.00473113393\n",
       "  -88645.86721931605\n",
       "  179084.57215216372\n",
       " -175212.35554165835\n",
       " -825850.0303139145\n",
       "       5.820766091346741e-11\n",
       " -300060.9999703907\n",
       "  175212.35554165827\n",
       " -825850.0303139159"
      ]
     },
     "metadata": {},
     "output_type": "display_data"
    },
    {
     "data": {
      "text/plain": [
       "18-element Vector{Float64}:\n",
       "  158978.5718323777\n",
       "  535770.2646317208\n",
       "      -2.9103830456733704e-11\n",
       "  797860.5275654717\n",
       " -158978.57183237773\n",
       "  535770.2646317208\n",
       "   89729.0207112857\n",
       "  181946.06829399522\n",
       "       7.785274647176266e-10\n",
       " -250144.33733595806\n",
       "  -89729.02071128643\n",
       "  181946.06829399557\n",
       " -178089.1393564895\n",
       " -835794.6711716882\n",
       "      -1.1641532182693481e-10\n",
       " -305559.51373756904\n",
       "  178089.1393564896\n",
       " -835794.6711716886"
      ]
     },
     "metadata": {},
     "output_type": "display_data"
    },
    {
     "data": {
      "text/plain": [
       "18-element Vector{Float64}:\n",
       "  160846.27507148037\n",
       "  542539.8873049268\n",
       "      -4.0745362639427185e-10\n",
       "  807159.256170634\n",
       " -160846.27507147985\n",
       "  542539.8873049266\n",
       "   90811.28960056847\n",
       "  184820.74302755517\n",
       "       1.7462298274040222e-10\n",
       " -253330.21071214555\n",
       "  -90811.28960056901\n",
       "  184820.7430275546\n",
       " -180977.1952295819\n",
       " -845725.9341504723\n",
       "      -4.3655745685100555e-10\n",
       " -311098.43782250804\n",
       "  180977.1952295826\n",
       " -845725.9341504712"
      ]
     },
     "metadata": {},
     "output_type": "display_data"
    },
    {
     "data": {
      "text/plain": [
       "18-element Vector{Float64}:\n",
       "  162712.92174407985\n",
       "  549311.8884535868\n",
       "       2.9103830456733704e-11\n",
       "  816443.1405048403\n",
       " -162712.92174407988\n",
       "  549311.8884535868\n",
       "   91892.67807054005\n",
       "  187708.52722900175\n",
       "      -1.673470251262188e-10\n",
       " -256518.66415809054\n",
       "  -91892.6780705398\n",
       "  187708.52722900175\n",
       " -183876.3619804972\n",
       " -855643.8200793777\n",
       "      -2.3283064365386963e-10\n",
       " -316677.66755317163\n",
       "  183876.36198049734\n",
       " -855643.8200793776"
      ]
     },
     "metadata": {},
     "output_type": "display_data"
    },
    {
     "data": {
      "text/plain": [
       "18-element Vector{Float64}:\n",
       "  164578.5738687142\n",
       "  556086.2789094419\n",
       "       5.820766091346741e-11\n",
       "  825712.2321489821\n",
       " -164578.57386871433\n",
       "  556086.2789094418\n",
       "   92973.19035178532\n",
       "  190609.35124698468\n",
       "      -1.1641532182693481e-9\n",
       " -259709.7368618796\n",
       "  -92973.19035178417\n",
       "  190609.35124698363\n",
       " -186786.4789908267\n",
       " -865548.3297854082\n",
       "      -4.0745362639427185e-10\n",
       " -322297.09602913936\n",
       "  186786.47899082722\n",
       " -865548.3297854066"
      ]
     },
     "metadata": {},
     "output_type": "display_data"
    },
    {
     "data": {
      "text/plain": [
       "18-element Vector{Float64}:\n",
       "  166443.29322649672\n",
       "  562863.0689764282\n",
       "       0.0\n",
       "  834966.5824704245\n",
       " -166443.29322649672\n",
       "  562863.0689764284\n",
       "   94052.83072293072\n",
       "  193523.14489124203\n",
       "      -5.893525667488575e-10\n",
       " -262903.4678983877\n",
       "  -94052.83072293003\n",
       "  193523.14489124075\n",
       " -189707.3861723797\n",
       " -875439.4641167806\n",
       "      -5.529727786779404e-10\n",
       " -327956.6140738169\n",
       "  189707.38617238015\n",
       " -875439.4641167786"
      ]
     },
     "metadata": {},
     "output_type": "display_data"
    },
    {
     "data": {
      "text/plain": [
       "18-element Vector{Float64}:\n",
       "  168307.14136384625\n",
       "  569642.2684288318\n",
       "       5.238689482212067e-10\n",
       "  844206.2426450684\n",
       " -168307.14136384663\n",
       "  569642.2684288322\n",
       "   95131.60351148935\n",
       "  196449.8374214106\n",
       "       1.5570549294352531e-9\n",
       " -266099.8962262089\n",
       "  -95131.60351149095\n",
       "  196449.83742141013\n",
       " -192638.92393661407\n",
       " -885317.2239660359\n",
       "       4.0745362639427185e-10\n",
       " -333656.11018727237\n",
       "  192638.92393661366\n",
       " -885317.2239660361"
      ]
     },
     "metadata": {},
     "output_type": "display_data"
    },
    {
     "data": {
      "text/plain": [
       "18-element Vector{Float64}:\n",
       "  170170.17959496562\n",
       "  576423.8865093944\n",
       "      -4.656612873077393e-10\n",
       "  853431.2636790646\n",
       " -170170.17959496524\n",
       "  576423.8865093944\n",
       "   96209.51309471474\n",
       "  199389.35753605235\n",
       "      -3.92901711165905e-10\n",
       " -269299.06068437436\n",
       "  -96209.51309471423\n",
       "  199389.357536052\n",
       " -195580.93316527287\n",
       " -895181.6102929389\n",
       "      -4.656612873077393e-10\n",
       " -339395.4704997059\n",
       "  195580.93316527337\n",
       " -895181.6102929384"
      ]
     },
     "metadata": {},
     "output_type": "display_data"
    },
    {
     "data": {
      "text/plain": [
       "18-element Vector{Float64}:\n",
       "  172032.46900407644\n",
       "  583207.9319274053\n",
       "      -3.7834979593753815e-10\n",
       "  862641.6964302135\n",
       " -172032.46900407595\n",
       "  583207.9319274051\n",
       "   97286.56390044958\n",
       "  202341.6333618951\n",
       "       1.8917489796876907e-9\n",
       " -272500.9999889499\n",
       "  -97286.56390045179\n",
       "  202341.63336189708\n",
       " -198533.25518222206\n",
       " -905032.6241471565\n",
       "       1.367880031466484e-9\n",
       " -345174.57872555044\n",
       "  198533.25518222095\n",
       " -905032.6241471593"
      ]
     },
     "metadata": {},
     "output_type": "display_data"
    },
    {
     "data": {
      "text/plain": [
       "18-element Vector{Float64}:\n",
       "  173894.0704474144\n",
       "  589994.412856755\n",
       "       2.9103830456733704e-10\n",
       "  871837.5916290268\n",
       " -173894.07044741462\n",
       "  589994.4128567551\n",
       "   98362.76040798523\n",
       "  205306.59244331508\n",
       "       8.149072527885437e-10\n",
       " -275705.7527294153\n",
       "  -98362.76040798631\n",
       "  205306.59244331403\n",
       " -201495.73172644552\n",
       " -914870.2666907487\n",
       "       1.4551915228366852e-10\n",
       " -350993.3161182544\n",
       "  201495.73172644555\n",
       " -914870.2666907478"
      ]
     },
     "metadata": {},
     "output_type": "display_data"
    },
    {
     "data": {
      "text/plain": [
       "18-element Vector{Float64}:\n",
       "  175755.04455498996\n",
       "  596783.3369339851\n",
       "       2.9103830456733704e-11\n",
       "  881018.9998994911\n",
       " -175755.04455499005\n",
       "  596783.3369339848\n",
       "   99438.10714890808\n",
       "  208284.1617320386\n",
       "      -7.275957614183426e-11\n",
       " -278913.35736491194\n",
       "  -99438.10714890817\n",
       "  208284.16173203907\n",
       " -204468.2049261995\n",
       " -924694.5392204393\n",
       "       8.731149137020111e-11\n",
       " -356851.5614257482\n",
       "  204468.2049261996\n",
       " -924694.5392204389"
      ]
     },
     "metadata": {},
     "output_type": "display_data"
    },
    {
     "data": {
      "text/plain": [
       "18-element Vector{Float64}:\n",
       "  177615.45173209763\n",
       "  603574.7112562971\n",
       "      -5.820766091346741e-11\n",
       "  890185.9717794829\n",
       " -177615.4517320976\n",
       "  603574.7112562967\n",
       "  100512.60870795345\n",
       "  211274.26757714723\n",
       "       5.093170329928398e-11\n",
       " -282123.8522202558\n",
       " -100512.60870795367\n",
       "  211274.2675771478\n",
       " -207450.51727427955\n",
       " -934505.4431897358\n",
       "       1.7462298274040222e-10\n",
       " -362749.190846644\n",
       "  207450.51727427953\n",
       " -934505.4431897361"
      ]
     },
     "metadata": {},
     "output_type": "display_data"
    },
    {
     "data": {
      "text/plain": [
       "18-element Vector{Float64}:\n",
       "  179475.35216060575\n",
       "  610368.5423795824\n",
       "       0.0\n",
       "  899338.5577409067\n",
       " -179475.35216060575\n",
       "  610368.5423795824\n",
       "  101586.26972385413\n",
       "  214276.83571527712\n",
       "       1.0695657692849636e-9\n",
       " -285337.27548181923\n",
       " -101586.26972385524\n",
       "  214276.83571527922\n",
       " -210442.5116044047\n",
       " -944302.9802308191\n",
       "       1.5425030142068863e-9\n",
       " -368686.07798716764\n",
       "  210442.51160440323\n",
       " -944302.9802308221"
      ]
     },
     "metadata": {},
     "output_type": "display_data"
    },
    {
     "data": {
      "text/plain": [
       "18-element Vector{Float64}:\n",
       "  181334.8058000035\n",
       "  617164.8363164193\n",
       "      -4.656612873077393e-10\n",
       "  908476.8082094993\n",
       " -181334.80580000315\n",
       "  617164.8363164179\n",
       "  102659.09489018103\n",
       "  217291.79126114817\n",
       "      -6.83940015733242e-10\n",
       " -288553.6651932057\n",
       " -102659.09489018045\n",
       "  217291.7912611491\n",
       " -213444.0310686835\n",
       " -954087.1521762807\n",
       "      -1.7462298274040222e-10\n",
       " -374662.0938188676\n",
       "  213444.03106868375\n",
       " -954087.1521762797"
      ]
     },
     "metadata": {},
     "output_type": "display_data"
    },
    {
     "data": {
      "text/plain": [
       "18-element Vector{Float64}:\n",
       "  183193.87238822033\n",
       "  623963.5985340825\n",
       "       0.0\n",
       "  917600.7735843494\n",
       " -183193.87238822033\n",
       "  623963.5985340824\n",
       "  103731.08895617037\n",
       "  220319.0586983387\n",
       "      -3.4924596548080444e-10\n",
       " -291773.05925075006\n",
       " -103731.08895616987\n",
       "  220319.0586983374\n",
       " -216454.9191161585\n",
       " -963857.9610806601\n",
       "      -3.2014213502407074e-10\n",
       " -380677.1066371216\n",
       "  216454.9191161587\n",
       " -963857.9610806584"
      ]
     },
     "metadata": {},
     "output_type": "display_data"
    },
    {
     "data": {
      "text/plain": [
       "18-element Vector{Float64}:\n",
       "  185052.6114422143\n",
       "  630764.833952559\n",
       "      -2.9103830456733704e-10\n",
       "  926710.5042570936\n",
       " -185052.61144221405\n",
       "  630764.8339525588\n",
       "  104802.25672755751\n",
       "  223358.5618703526\n",
       "      -1.2332748156040907e-9\n",
       " -294995.4953988408\n",
       " -104802.25672755612\n",
       "  223358.56187035225\n",
       " -219475.01947239792\n",
       " -973615.4092418116\n",
       "      -3.4924596548080444e-10\n",
       " -386730.9820204535\n",
       "  219475.01947239827\n",
       " -973615.4092418106"
      ]
     },
     "metadata": {},
     "output_type": "display_data"
    },
    {
     "data": {
      "text/plain": [
       "18-element Vector{Float64}:\n",
       "  186911.0822583321\n",
       "  637568.5469425633\n",
       "      -3.7834979593753815e-10\n",
       "  935806.0506308277\n",
       " -186911.08225833176\n",
       "  637568.5469425616\n",
       "  105872.60306738754\n",
       "  226410.22397201776\n",
       "      -9.1313268058002e-10\n",
       " -298221.0112250338\n",
       " -105872.6030673869\n",
       "  226410.22397201997\n",
       " -222504.17612012825\n",
       " -983359.4992221101\n",
       "      -2.3283064365386963e-10\n",
       " -392823.58279073617\n",
       "  222504.17612012883\n",
       " -983359.4992221104"
      ]
     },
     "metadata": {},
     "output_type": "display_data"
    },
    {
     "data": {
      "text/plain": [
       "18-element Vector{Float64}:\n",
       "  188769.34391244577\n",
       "  644374.7413235696\n",
       "       3.4924596548080444e-10\n",
       "  944887.4631387056\n",
       " -188769.34391244603\n",
       "  644374.7413235698\n",
       "  106942.13289681928\n",
       "  229473.96754116018\n",
       "       1.1314114090055227e-9\n",
       " -301449.6441550043\n",
       " -106942.13289682046\n",
       "  229473.96754115936\n",
       " -225542.23328089516\n",
       " -993090.2338694606\n",
       "      -2.3283064365386963e-10\n",
       " -398954.7689742399\n",
       "  225542.23328089534\n",
       " -993090.23386946"
      ]
     },
     "metadata": {},
     "output_type": "display_data"
    },
    {
     "data": {
      "text/plain": [
       "18-element Vector{Float64}:\n",
       "  190627.45525986547\n",
       "  651183.4203618722\n",
       "       0.0\n",
       "  953954.7922622492\n",
       " -190627.45525986544\n",
       "  651183.420361872\n",
       "  108010.85119591115\n",
       "  232549.71445059066\n",
       "      -2.473825588822365e-10\n",
       " -304681.4314473193\n",
       " -108010.85119591077\n",
       "  232549.71445058996\n",
       " -228589.03539772925\n",
       "      -1.0028076163381257e6\n",
       "      -2.9103830456733704e-10\n",
       " -405124.3977636048\n",
       "  228589.0353977294\n",
       "      -1.0028076163381247e6"
      ]
     },
     "metadata": {},
     "output_type": "display_data"
    },
    {
     "data": {
      "text/plain": [
       "18-element Vector{Float64}:\n",
       "  192485.4749350269\n",
       "  657994.5867686529\n",
       "       0.0\n",
       "  963008.0885493524\n",
       " -192485.4749350269\n",
       "  657994.5867686529\n",
       "  109078.76300439713\n",
       "  235637.38590046437\n",
       "       3.41970007866621e-10\n",
       " -307916.410187989\n",
       " -109078.76300439725\n",
       "  235637.38590046496\n",
       " -231644.42711881053\n",
       "      -1.0125116501094176e6\n",
       "       1.1641532182693481e-10\n",
       " -411332.32348076266\n",
       "  231644.42711881016\n",
       "      -1.0125116501094188e6"
      ]
     },
     "metadata": {},
     "output_type": "display_data"
    },
    {
     "data": {
      "text/plain": [
       "18-element Vector{Float64}:\n",
       "  194343.46135096689\n",
       "  664808.2426981002\n",
       "      -4.0745362639427185e-10\n",
       "  972047.4026320002\n",
       " -194343.46135096648\n",
       "  664808.2426980993\n",
       "  110145.87342244963\n",
       "  238736.9024109284\n",
       "      -3.055902197957039e-10\n",
       " -311154.6172848732\n",
       " -110145.87342244915\n",
       "  238736.90241092967\n",
       " -234708.25328211463\n",
       "      -1.0222023390121844e6\n",
       "      -1.1641532182693481e-10\n",
       " -417578.397540816\n",
       "  234708.2532821146\n",
       "      -1.0222023390121843e6"
      ]
     },
     "metadata": {},
     "output_type": "display_data"
    },
    {
     "data": {
      "text/plain": [
       "18-element Vector{Float64}:\n",
       "  196201.47269857148\n",
       "  671624.389745534\n",
       "       4.3655745685100555e-10\n",
       "  981072.7852436713\n",
       " -196201.47269857192\n",
       "  671624.3897455335\n",
       "  111212.18761141079\n",
       "  241848.18381514843\n",
       "       1.0331859812140465e-9\n",
       " -314396.08946187224\n",
       " -111212.18761141221\n",
       "  241848.18381515075\n",
       " -237780.35890103248\n",
       "      -1.0318796872431212e6\n",
       "       2.3283064365386963e-10\n",
       " -423862.4684169216\n",
       "  237780.35890103268\n",
       "      -1.0318796872431223e6"
      ]
     },
     "metadata": {},
     "output_type": "display_data"
    },
    {
     "data": {
      "text/plain": [
       "18-element Vector{Float64}:\n",
       "  198059.56694561886\n",
       "  678443.0289455972\n",
       "       2.9103830456733704e-11\n",
       "  990084.2872364572\n",
       " -198059.56694561892\n",
       "  678443.0289455975\n",
       "  112277.71079452193\n",
       "  244971.149252675\n",
       "       3.310560714453459e-10\n",
       " -317640.8632529323\n",
       " -112277.71079452231\n",
       "  244971.14925267594\n",
       " -240860.58915094583\n",
       "      -1.0415436993869257e6\n",
       "       8.731149137020111e-10\n",
       " -430184.3816062182\n",
       "  240860.58915094496\n",
       "      -1.041543699386927e6"
      ]
     },
     "metadata": {},
     "output_type": "display_data"
    }
   ],
   "source": [
    "it = 0\n",
    "KG = zeros(GDLG, GDLG)\n",
    "RG = zeros(GDLG)\n",
    "RG[18] = 3000\n",
    "RG[14] = 3000\n",
    "RA = zeros(GDLG)\n",
    "Ui = U\n",
    "ΔU = 0\n",
    "#=\n",
    "KG = KGL1(mConectG, mGCoorNodales, C, numElementos, GDLG, mGdlG, GL9Q, wGL9Q, Ui) + KGNL(mConectG, mGCoorNodales, C, numElementos, GDLG, mGdlG, GL9Q, wGL9Q, Ui)\n",
    "display(KG)\n",
    "display(RG)\n",
    "RA = RG - FGA(Ui)\n",
    "display(RA)\n",
    "=#\n",
    "while it <= 100\n",
    "    #display(Ui)\n",
    "    display(RG - FGA(Ui))\n",
    "    KG = KGL1(mConectG, mGCoorNodales, C, numElementos, GDLG, mGdlG, GL9Q, wGL9Q, Ui) + KGNL(mConectG, mGCoorNodales, C, numElementos, GDLG, mGdlG, GL9Q, wGL9Q, Ui)\n",
    "    RA = RG - FGA(Ui)\n",
    "    RA = zeros(GDLG)\n",
    "    RA[18] = 3000\n",
    "    RA[14] = 3000\n",
    "    #display(RA)\n",
    "\n",
    "    KG[1, :] .= 0\n",
    "    KG[:, 1] .= 0\n",
    "    KG[1, 1] = 1\n",
    "\n",
    "    # U1y=0 => U2=0\n",
    "    KG[2, :] .= 0\n",
    "    KG[:, 2] .= 0\n",
    "    KG[2, 2] = 1\n",
    "\n",
    "    # U2x=0 => U3=0\n",
    "    KG[3, :] .= 0\n",
    "    KG[:, 3] .= 0\n",
    "    KG[3, 3] = 1\n",
    "\n",
    "    # U2y=0 => U4=0\n",
    "    KG[4, :] .= 0\n",
    "    KG[:, 4] .= 0\n",
    "    KG[4, 4] = 1\n",
    "\n",
    "    # U3x=0 => U5=0\n",
    "    KG[5, :] .= 0\n",
    "    KG[:, 5] .= 0\n",
    "    KG[5, 5] = 1\n",
    "\n",
    "    # U3y=0 => U6=0\n",
    "    KG[6, :] .= 0\n",
    "    KG[:, 6] .= 0\n",
    "    KG[6, 6] = 1   \n",
    "    #display(KG)\n",
    "\n",
    "    ΔU = KG \\ RA\n",
    "    Ui +=  ΔU    # OJO REVISAR CUIDADOSAMENTE\n",
    "it += 1\n",
    "end"
   ]
  }
 ],
 "metadata": {
  "kernelspec": {
   "display_name": "Julia 1.10.2",
   "language": "julia",
   "name": "julia-1.10"
  },
  "language_info": {
   "file_extension": ".jl",
   "mimetype": "application/julia",
   "name": "julia",
   "version": "1.10.2"
  }
 },
 "nbformat": 4,
 "nbformat_minor": 2
}
