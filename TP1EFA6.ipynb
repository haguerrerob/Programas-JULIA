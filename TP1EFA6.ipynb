{
 "cells": [
  {
   "cell_type": "code",
   "execution_count": 1,
   "id": "ddb53ccd",
   "metadata": {},
   "outputs": [],
   "source": [
    "using LinearAlgebra, Symbolics"
   ]
  },
  {
   "cell_type": "code",
   "execution_count": 2,
   "id": "c221fbbf",
   "metadata": {},
   "outputs": [],
   "source": [
    "@variables r s;"
   ]
  },
  {
   "cell_type": "code",
   "execution_count": 3,
   "id": "5d067fcd",
   "metadata": {},
   "outputs": [],
   "source": [
    "ν = 0.3 # Coeficiente de Poisson\n",
    "EM = 2.1E06 # Módulo de Young - kgf/cm^2\n",
    "C = (EM/(1-ν^2)) * [1 ν 0; ν 1 0; 0 0 (1-ν)/2]; # Matriz de constantes elásticas (Tensión plana)"
   ]
  },
  {
   "cell_type": "code",
   "execution_count": 4,
   "id": "4f0d0443",
   "metadata": {},
   "outputs": [
    {
     "data": {
      "text/plain": [
       "3×2 Matrix{Float64}:\n",
       " 0.0  0.0\n",
       " 3.0  0.0\n",
       " 1.5  3.0"
      ]
     },
     "metadata": {},
     "output_type": "display_data"
    }
   ],
   "source": [
    "NodalCoords = [0 0; 3 0; 1.5 3] # Coordenadas Globales para elemento de 3 nodos"
   ]
  },
  {
   "cell_type": "code",
   "execution_count": 5,
   "id": "b704f66e",
   "metadata": {},
   "outputs": [],
   "source": [
    "# Funciones de interpolación para un elemento isoparamétrico triangular de 3 nodos\n",
    "h1 = 1-r-s\n",
    "h2 = r\n",
    "h3 = s;"
   ]
  },
  {
   "cell_type": "code",
   "execution_count": 6,
   "id": "9215447f",
   "metadata": {},
   "outputs": [
    {
     "data": {
      "text/plain": [
       "(::Differential) (generic function with 2 methods)"
      ]
     },
     "metadata": {},
     "output_type": "display_data"
    }
   ],
   "source": [
    "Dr = Differential(r)\n",
    "Ds = Differential(s)"
   ]
  },
  {
   "cell_type": "code",
   "execution_count": 7,
   "id": "bec84cc2",
   "metadata": {},
   "outputs": [
    {
     "data": {
      "text/latex": [
       "$$ \\begin{equation}\n",
       "\\left[\n",
       "\\begin{array}{ccc}\n",
       "1 - r - s & r & s \\\\\n",
       "\\end{array}\n",
       "\\right]\n",
       "\\end{equation}\n",
       " $$"
      ],
      "text/plain": [
       "1×3 Matrix{Num}:\n",
       " 1 - r - s  r  s"
      ]
     },
     "metadata": {},
     "output_type": "display_data"
    }
   ],
   "source": [
    "H = [h1 h2 h3]\n",
    "H1 = [h1 h2 h3; h1 h2 h3]\n",
    "HM = [h1 0 h2 0 h3 0 ; 0 h1 0 h2 0 h3]\n",
    "display(H)"
   ]
  },
  {
   "cell_type": "code",
   "execution_count": 8,
   "id": "ae0b3a8a",
   "metadata": {},
   "outputs": [
    {
     "data": {
      "text/latex": [
       "$$ \\begin{equation}\n",
       "\\left[\n",
       "\\begin{array}{ccc}\n",
       "-1 & 1 & 0 \\\\\n",
       "-1 & 0 & 1 \\\\\n",
       "\\end{array}\n",
       "\\right]\n",
       "\\end{equation}\n",
       " $$"
      ],
      "text/plain": [
       "2×3 Matrix{Num}:\n",
       " -1  1  0\n",
       " -1  0  1"
      ]
     },
     "metadata": {},
     "output_type": "display_data"
    }
   ],
   "source": [
    "∇H = [transpose([expand_derivatives.(Dr(H1[1,i])) for i in 1:3]); transpose([expand_derivatives.(Ds(H1[2,i])) for i in 1:3])]"
   ]
  },
  {
   "cell_type": "code",
   "execution_count": 9,
   "id": "a8f74694",
   "metadata": {},
   "outputs": [
    {
     "data": {
      "text/latex": [
       "$$ \\begin{equation}\n",
       "1.5 s + 3 r\n",
       "\\end{equation}\n",
       " $$"
      ],
      "text/plain": [
       "1.5s + 3.0r"
      ]
     },
     "metadata": {},
     "output_type": "display_data"
    },
    {
     "data": {
      "text/latex": [
       "$$ \\begin{equation}\n",
       "3 s\n",
       "\\end{equation}\n",
       " $$"
      ],
      "text/plain": [
       "3.0s"
      ]
     },
     "metadata": {},
     "output_type": "display_data"
    }
   ],
   "source": [
    "x = expand((H * NodalCoords[:,1])[1])\n",
    "y = expand((H * NodalCoords[:,2])[1])\n",
    "display(x)\n",
    "display(y)"
   ]
  },
  {
   "cell_type": "code",
   "execution_count": 10,
   "id": "f64c0a66",
   "metadata": {},
   "outputs": [
    {
     "data": {
      "text/latex": [
       "$$ \\begin{equation}\n",
       "3\n",
       "\\end{equation}\n",
       " $$"
      ],
      "text/plain": [
       "3.0"
      ]
     },
     "metadata": {},
     "output_type": "display_data"
    }
   ],
   "source": [
    "dxdr = expand_derivatives(Dr(x))\n",
    "dxds = expand_derivatives(Ds(x))        \n",
    "dydr = expand_derivatives(Dr(y))\n",
    "dyds = expand_derivatives(Ds(y))"
   ]
  },
  {
   "cell_type": "code",
   "execution_count": 11,
   "id": "eda051a4",
   "metadata": {},
   "outputs": [
    {
     "data": {
      "text/latex": [
       "$$ \\begin{equation}\n",
       "\\left[\n",
       "\\begin{array}{cc}\n",
       "3 & 0 \\\\\n",
       "1.5 & 3 \\\\\n",
       "\\end{array}\n",
       "\\right]\n",
       "\\end{equation}\n",
       " $$"
      ],
      "text/plain": [
       "2×2 Matrix{Num}:\n",
       " 3.0  0\n",
       " 1.5  3.0"
      ]
     },
     "metadata": {},
     "output_type": "display_data"
    },
    {
     "data": {
      "text/latex": [
       "$$ \\begin{equation}\n",
       "\\left[\n",
       "\\begin{array}{cc}\n",
       "0.33333 & 0 \\\\\n",
       "-0.16667 & 0.33333 \\\\\n",
       "\\end{array}\n",
       "\\right]\n",
       "\\end{equation}\n",
       " $$"
      ],
      "text/plain": [
       "2×2 Matrix{Num}:\n",
       "  0.333333  0.0\n",
       " -0.166667  0.333333"
      ]
     },
     "metadata": {},
     "output_type": "display_data"
    },
    {
     "data": {
      "text/latex": [
       "$$ \\begin{equation}\n",
       "9\n",
       "\\end{equation}\n",
       " $$"
      ],
      "text/plain": [
       "9.0"
      ]
     },
     "metadata": {},
     "output_type": "display_data"
    }
   ],
   "source": [
    "J = [dxdr dydr; dxds dyds] # Jacobiano\n",
    "J_inv = inv(J) # Inversa del Jacobiano\n",
    "J_det = det(J) # Determinante del Jacobiano\n",
    "display(J)\n",
    "display(J_inv)\n",
    "display(J_det)"
   ]
  },
  {
   "cell_type": "code",
   "execution_count": 12,
   "id": "0d7f612a",
   "metadata": {},
   "outputs": [
    {
     "data": {
      "text/latex": [
       "$$ \\begin{equation}\n",
       "\\left[\n",
       "\\begin{array}{cc}\n",
       "-0.16667 & -0.33333 \\\\\n",
       "0.33333 & 0 \\\\\n",
       "-0.16667 & 0.33333 \\\\\n",
       "\\end{array}\n",
       "\\right]\n",
       "\\end{equation}\n",
       " $$"
      ],
      "text/plain": [
       "3×2 Matrix{Num}:\n",
       " -0.166667  -0.333333\n",
       "  0.333333   0.0\n",
       " -0.166667   0.333333"
      ]
     },
     "metadata": {},
     "output_type": "display_data"
    }
   ],
   "source": [
    "B1 = transpose(∇H) * J_inv"
   ]
  },
  {
   "cell_type": "code",
   "execution_count": 13,
   "id": "7f11be5f",
   "metadata": {},
   "outputs": [
    {
     "data": {
      "text/latex": [
       "$$ \\begin{equation}\n",
       "\\left[\n",
       "\\begin{array}{cccccc}\n",
       "-0.16667 & 0 & 0.33333 & 0 & -0.16667 & 0 \\\\\n",
       "0 & -0.33333 & 0 & 0 & 0 & 0.33333 \\\\\n",
       "-0.33333 & -0.16667 & 0 & 0.33333 & 0.33333 & -0.16667 \\\\\n",
       "\\end{array}\n",
       "\\right]\n",
       "\\end{equation}\n",
       " $$"
      ],
      "text/plain": [
       "3×6 Matrix{Num}:\n",
       " -0.166667   0         0.333333  0         -0.166667   0\n",
       "  0         -0.333333  0         0.0        0          0.333333\n",
       " -0.333333  -0.166667  0.0       0.333333   0.333333  -0.166667"
      ]
     },
     "metadata": {},
     "output_type": "display_data"
    }
   ],
   "source": [
    "B = [B1[1,1] 0 B1[2,1] 0 B1[3,1] 0 \n",
    "    0 B1[1,2] 0 B1[2,2] 0 B1[3,2] \n",
    "    B1[1,2] B1[1,1] B1[2,2] B1[2,1] B1[3,2] B1[3,1]]"
   ]
  },
  {
   "cell_type": "code",
   "execution_count": 14,
   "id": "260829eb",
   "metadata": {},
   "outputs": [
    {
     "data": {
      "text/plain": [
       "3×2 Matrix{Float64}:\n",
       " 0.166667  0.166667\n",
       " 0.666667  0.166667\n",
       " 0.166667  0.666667"
      ]
     },
     "metadata": {},
     "output_type": "display_data"
    }
   ],
   "source": [
    "GL3T = [3/18 3/18; 2/3 3/18; 3/18 2/3] # Puntos de Gauss para integración"
   ]
  },
  {
   "cell_type": "code",
   "execution_count": 15,
   "id": "e64c7595",
   "metadata": {},
   "outputs": [
    {
     "data": {
      "text/plain": [
       "3×2 Matrix{Float64}:\n",
       " 0.333333  0.333333\n",
       " 0.333333  0.333333\n",
       " 0.333333  0.333333"
      ]
     },
     "metadata": {},
     "output_type": "display_data"
    }
   ],
   "source": [
    "WGL3T = [1/3 1/3; 1/3 1/3; 1/3 1/3]"
   ]
  },
  {
   "cell_type": "code",
   "execution_count": 24,
   "id": "3a165d76",
   "metadata": {},
   "outputs": [
    {
     "data": {
      "text/latex": [
       "$$ \\begin{equation}\n",
       "\\left[\n",
       "\\begin{array}{cc}\n",
       "3 & 0 \\\\\n",
       "1.5 & 3 \\\\\n",
       "\\end{array}\n",
       "\\right]\n",
       "\\end{equation}\n",
       " $$"
      ],
      "text/plain": [
       "2×2 Matrix{Num}:\n",
       " 3.0  0\n",
       " 1.5  3.0"
      ]
     },
     "metadata": {},
     "output_type": "display_data"
    },
    {
     "data": {
      "text/latex": [
       "$$ \\begin{equation}\n",
       "\\left[\n",
       "\\begin{array}{cccccc}\n",
       "4.6154 \\cdot 10^{5} & 2.5 \\cdot 10^{5} & -3.8462 \\cdot 10^{5} & -2.6923 \\cdot 10^{5} & -76923 & 19231 \\\\\n",
       "2.5 \\cdot 10^{5} & 8.3654 \\cdot 10^{5} & -2.3077 \\cdot 10^{5} & -1.3462 \\cdot 10^{5} & -19231 & -7.0192 \\cdot 10^{5} \\\\\n",
       "-3.8462 \\cdot 10^{5} & -2.3077 \\cdot 10^{5} & 7.6923 \\cdot 10^{5} & 0 & -3.8462 \\cdot 10^{5} & 2.3077 \\cdot 10^{5} \\\\\n",
       "-2.6923 \\cdot 10^{5} & -1.3462 \\cdot 10^{5} & 0 & 2.6923 \\cdot 10^{5} & 2.6923 \\cdot 10^{5} & -1.3462 \\cdot 10^{5} \\\\\n",
       "-76923 & -19231 & -3.8462 \\cdot 10^{5} & 2.6923 \\cdot 10^{5} & 4.6154 \\cdot 10^{5} & -2.5 \\cdot 10^{5} \\\\\n",
       "19231 & -7.0192 \\cdot 10^{5} & 2.3077 \\cdot 10^{5} & -1.3462 \\cdot 10^{5} & -2.5 \\cdot 10^{5} & 8.3654 \\cdot 10^{5} \\\\\n",
       "\\end{array}\n",
       "\\right]\n",
       "\\end{equation}\n",
       " $$"
      ],
      "text/plain": [
       "6×6 Matrix{Num}:\n",
       "      4.61538e5  250000.0        …   -76923.1          19230.8\n",
       " 250000.0             8.36538e5      -19230.8             -7.01923e5\n",
       "     -3.84615e5      -2.30769e5          -3.84615e5        2.30769e5\n",
       "     -2.69231e5      -1.34615e5           2.69231e5       -1.34615e5\n",
       " -76923.1        -19230.8                 4.61538e5  -250000.0\n",
       "  19230.8            -7.01923e5  …  -250000.0              8.36538e5"
      ]
     },
     "metadata": {},
     "output_type": "display_data"
    }
   ],
   "source": [
    "K = zeros(6,6) \n",
    "\n",
    "#Integramos por medio de cuadratura de Gauss para tres puntos sobre dominios triangulares\n",
    "for i in 1:3        \n",
    "        global Jg = substitute(J, Dict([r => GL3T[i,1], s => GL3T[i,2]]))        \n",
    "        Jg_inv = substitute(J_inv, Dict([r => GL3T[i,1], s => GL3T[i,2]]))\n",
    "        Jg_det = substitute(J_det, Dict([r => GL3T[i,1], s => GL3T[i,2]]))                \n",
    "        Bg = substitute(B, Dict([r => GL3T[i,1], s => GL3T[i,2]]))                    \n",
    "        K += (transpose(Bg) * C * Bg * Jg_det * WGL3T[i,1] * WGL3T[i,2])\n",
    "        \n",
    "    end\n",
    "    display(Jg)\n",
    "display(K)"
   ]
  },
  {
   "cell_type": "code",
   "execution_count": 17,
   "id": "502c863a",
   "metadata": {},
   "outputs": [
    {
     "data": {
      "text/latex": [
       "$$ \\begin{equation}\n",
       "\\left[\n",
       "\\begin{array}{cccccc}\n",
       "1 & 0 & 0 & 0 & 0 & 0 \\\\\n",
       "0 & 8.3654 \\cdot 10^{5} & 0 & 0 & -19231 & -7.0192 \\cdot 10^{5} \\\\\n",
       "0 & 0 & 1 & 0 & 0 & 0 \\\\\n",
       "0 & 0 & 0 & 1 & 0 & 0 \\\\\n",
       "0 & -19231 & 0 & 0 & 4.6154 \\cdot 10^{5} & -2.5 \\cdot 10^{5} \\\\\n",
       "0 & -7.0192 \\cdot 10^{5} & 0 & 0 & -2.5 \\cdot 10^{5} & 8.3654 \\cdot 10^{5} \\\\\n",
       "\\end{array}\n",
       "\\right]\n",
       "\\end{equation}\n",
       " $$"
      ],
      "text/plain": [
       "6×6 Matrix{Num}:\n",
       " 1       0          0  0        0                0\n",
       " 0       8.36538e5  0  0   -19230.8             -7.01923e5\n",
       " 0       0          1  0        0                0\n",
       " 0       0          0  1        0                0\n",
       " 0  -19230.8        0  0        4.61538e5  -250000.0\n",
       " 0      -7.01923e5  0  0  -250000.0              8.36538e5"
      ]
     },
     "metadata": {},
     "output_type": "display_data"
    }
   ],
   "source": [
    " # Imponemos condiciones de contorno de Dirichlet\n",
    " # U1x=0 => U1=0\n",
    "    K[1,:] .= 0\n",
    "    K[:,1] .= 0\n",
    "    K[1,1] =1\n",
    " # U2x=0 => U3=0\n",
    "    K[3,:] .= 0\n",
    "    K[:,3] .= 0\n",
    "    K[3,3] =1\n",
    " # U2y=0 => U4=0\n",
    "    K[4,:] .= 0\n",
    "    K[:,4] .= 0\n",
    "    K[4,4] =1\n",
    "\n",
    "display(K)"
   ]
  },
  {
   "cell_type": "code",
   "execution_count": 18,
   "id": "4870b795",
   "metadata": {},
   "outputs": [],
   "source": [
    "#= \\(A,B)\n",
    "Matrix division using a polyalgorithm. For input matrices A and B, the result X is such that A*X == B when A is square. \n",
    "The solver that is used depends upon the structure of A. If A is upper or lower triangular (or diagonal), no factorization \n",
    "of A is required and the system is solved with either forward or backward substitution. For non-triangular square matrices, \n",
    "an LU factorization is used.\n",
    "=#"
   ]
  },
  {
   "cell_type": "code",
   "execution_count": 19,
   "id": "f19f78ac",
   "metadata": {},
   "outputs": [
    {
     "data": {
      "text/latex": [
       "$$ \\begin{equation}\n",
       "\\left[\n",
       "\\begin{array}{c}\n",
       "-0.00047619 \\\\\n",
       "0.00014286 \\\\\n",
       "7.5894 \\cdot 10^{-19} \\\\\n",
       "\\end{array}\n",
       "\\right]\n",
       "\\end{equation}\n",
       " $$"
      ],
      "text/plain": [
       "3-element Vector{Num}:\n",
       " -0.0004761904761904749\n",
       "  0.0001428571428571425\n",
       "  7.589415207398531e-19"
      ]
     },
     "metadata": {},
     "output_type": "display_data"
    },
    {
     "data": {
      "text/latex": [
       "$$ \\begin{equation}\n",
       "\\left[\n",
       "\\begin{array}{c}\n",
       "-1000 \\\\\n",
       "5.6843 \\cdot 10^{-14} \\\\\n",
       "6.1299 \\cdot 10^{-13} \\\\\n",
       "\\end{array}\n",
       "\\right]\n",
       "\\end{equation}\n",
       " $$"
      ],
      "text/plain": [
       "3-element Vector{Num}:\n",
       " -999.9999999999972\n",
       "    5.684341886080802e-14\n",
       "    6.129912282898813e-13"
      ]
     },
     "metadata": {},
     "output_type": "display_data"
    }
   ],
   "source": [
    "# CASO 1. F1 = 500kgf ; F2 = 0kgf\n",
    "\n",
    "R1 =[0, 0, 0, 0, 500, 0] # Fuerzas nodales en kgf.\n",
    "U1 = K \\ R1 # U1 --> Desplazamientos nodales.\n",
    "E1 = B * U1\n",
    "E1[3] = E1[3]/2\n",
    "σ1 = C * E1\n",
    "display(E1)\n",
    "display(σ1)"
   ]
  },
  {
   "cell_type": "code",
   "execution_count": 20,
   "id": "b0567f3f",
   "metadata": {},
   "outputs": [
    {
     "data": {
      "text/latex": [
       "$$ \\begin{equation}\n",
       "\\left[\n",
       "\\begin{array}{c}\n",
       "-1000 \\\\\n",
       "250 \\\\\n",
       "-250 \\\\\n",
       "\\end{array}\n",
       "\\right]\n",
       "\\end{equation}\n",
       " $$"
      ],
      "text/plain": [
       "3-element Vector{Num}:\n",
       " -999.9999999999957\n",
       "  249.99999999999966\n",
       " -249.9999999999991"
      ]
     },
     "metadata": {},
     "output_type": "display_data"
    }
   ],
   "source": [
    "# CASO 2. F1 = 0kgf ; F2 = 500kgf\n",
    "\n",
    "R2 =[0, 0, 0, 0, 0, 500] # Fuerzas nodales en kgf.\n",
    "U2 = K \\ R2 # U1 --> Desplazamientos nodales.\n",
    "E2 = B * U2\n",
    "E2[3] = E2[3]/2\n",
    "σ2 = C * E2"
   ]
  },
  {
   "cell_type": "code",
   "execution_count": 21,
   "id": "2b0da9f1",
   "metadata": {},
   "outputs": [
    {
     "data": {
      "text/latex": [
       "$$ \\begin{equation}\n",
       "\\left[\n",
       "\\begin{array}{c}\n",
       "-2000 \\\\\n",
       "250 \\\\\n",
       "-250 \\\\\n",
       "\\end{array}\n",
       "\\right]\n",
       "\\end{equation}\n",
       " $$"
      ],
      "text/plain": [
       "3-element Vector{Num}:\n",
       " -1999.999999999993\n",
       "   250.00000000000023\n",
       "  -249.99999999999844"
      ]
     },
     "metadata": {},
     "output_type": "display_data"
    }
   ],
   "source": [
    "# CASO 3. F1 = 500kgf ; F2 = 500kgf\n",
    "\n",
    "R3 =[0, 0, 0, 0, 500, 500] # Fuerzas nodales en kgf.\n",
    "U3 = K \\ R3 # U1 --> Desplazamientos nodales.\n",
    "E3 = B * U3\n",
    "E3[3] = E3[3]/2\n",
    "σ3 = C * E3"
   ]
  }
 ],
 "metadata": {
  "kernelspec": {
   "display_name": "Julia 1.8.5",
   "language": "julia",
   "name": "julia-1.8"
  },
  "language_info": {
   "file_extension": ".jl",
   "mimetype": "application/julia",
   "name": "julia",
   "version": "1.8.5"
  }
 },
 "nbformat": 4,
 "nbformat_minor": 5
}
