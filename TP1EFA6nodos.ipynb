{
 "cells": [
  {
   "cell_type": "code",
   "execution_count": 1,
   "id": "1e908c6d",
   "metadata": {},
   "outputs": [],
   "source": [
    "using LinearAlgebra, Symbolics"
   ]
  },
  {
   "cell_type": "code",
   "execution_count": 2,
   "id": "9f32c13c",
   "metadata": {},
   "outputs": [],
   "source": [
    "@variables r s;"
   ]
  },
  {
   "cell_type": "code",
   "execution_count": 32,
   "id": "dbd7e64f",
   "metadata": {},
   "outputs": [],
   "source": [
    "#=\n",
    "using DelimitedFiles\n",
    "datos = 10*ones(100,5) + 5*randn(100,5);\n",
    "writedlm(\"miarchivo.txt\", datos)\n",
    "=#"
   ]
  },
  {
   "cell_type": "code",
   "execution_count": 3,
   "id": "e8973334",
   "metadata": {},
   "outputs": [],
   "source": [
    "ν = 0.3 # Coeficiente de Poisson\n",
    "EM = 2.1E06 # Módulo de Young - kgf/cm^2\n",
    "C = (EM/(1-ν^2)) * [1 ν 0; ν 1 0; 0 0 (1-ν)/2]; # Matriz de constantes elásticas (Tensión plana)"
   ]
  },
  {
   "cell_type": "code",
   "execution_count": 4,
   "id": "e7f3f6c2",
   "metadata": {},
   "outputs": [
    {
     "data": {
      "text/plain": [
       "6×2 Matrix{Float64}:\n",
       " 0.0   0.0\n",
       " 3.0   0.0\n",
       " 1.5   3.0\n",
       " 1.5   0.0\n",
       " 2.25  1.5\n",
       " 0.75  1.5"
      ]
     },
     "metadata": {},
     "output_type": "display_data"
    }
   ],
   "source": [
    "NodalCoords = [0 0; 3 0; 1.5 3; 1.5 0; 2.25 1.5; 0.75 1.5] # Coordenadas Globales para elemento de 6 nodos"
   ]
  },
  {
   "cell_type": "code",
   "execution_count": 5,
   "id": "5a8875c4",
   "metadata": {},
   "outputs": [],
   "source": [
    "# Funciones de interpolación para un elemento isoparamétrico triangular de 6 nodos\n",
    "h6 = 4*s*(1-r-s)\n",
    "h5 = 4*r*s\n",
    "h4 = 4*r*(1-r-s)\n",
    "h1 = 1-r-s-1/2*h4-1/2*h6\n",
    "h2 = r-1/2*h4-1/2*h5\n",
    "h3 = s-1/2*h5-1/2*h6;"
   ]
  },
  {
   "cell_type": "code",
   "execution_count": 6,
   "id": "6777d8fa",
   "metadata": {},
   "outputs": [
    {
     "data": {
      "text/plain": [
       "(::Differential) (generic function with 2 methods)"
      ]
     },
     "metadata": {},
     "output_type": "display_data"
    }
   ],
   "source": [
    "Dr = Differential(r)\n",
    "Ds = Differential(s)"
   ]
  },
  {
   "cell_type": "code",
   "execution_count": 7,
   "id": "99b534d8",
   "metadata": {},
   "outputs": [
    {
     "data": {
      "text/latex": [
       "$$ \\begin{equation}\n",
       "\\left[\n",
       "\\begin{array}{cccccc}\n",
       "1 - r - s - 2 r \\left( 1 - r - s \\right) - 2 s \\left( 1 - r - s \\right) & r - 2 r s - 2 r \\left( 1 - r - s \\right) & s - 2 r s - 2 s \\left( 1 - r - s \\right) & 4 r \\left( 1 - r - s \\right) & 4 r s & 4 s \\left( 1 - r - s \\right) \\\\\n",
       "\\end{array}\n",
       "\\right]\n",
       "\\end{equation}\n",
       " $$"
      ],
      "text/plain": [
       "1×6 Matrix{Num}:\n",
       " 1 - r - s - 2.0r*(1 - r - s) - 2.0s*(1 - r - s)  …  4r*s  4s*(1 - r - s)"
      ]
     },
     "metadata": {},
     "output_type": "display_data"
    }
   ],
   "source": [
    "H = [h1 h2 h3 h4 h5 h6]\n",
    "H1 = [h1 h2 h3 h4 h5 h6; h1 h2 h3 h4 h5 h6]\n",
    "HM = [h1 0 h2 0 h3 0 h4 0 h5 0 h6 0; 0 h1 0 h2 0 h3 0 h4 0 h5 0 h6]\n",
    "display(H)"
   ]
  },
  {
   "cell_type": "code",
   "execution_count": 8,
   "id": "0be5bbc4",
   "metadata": {},
   "outputs": [
    {
     "data": {
      "text/latex": [
       "$$ \\begin{equation}\n",
       "\\left[\n",
       "\\begin{array}{cccccc}\n",
       "-1 + 2 r + 2 s - 2 \\left( 1 - r - s \\right) & 1 + 2 r - 2 s - 2 \\left( 1 - r - s \\right) & 0 &  - 4 r + 4 \\left( 1 - r - s \\right) & 4 s &  - 4 s \\\\\n",
       "-1 + 2 r + 2 s - 2 \\left( 1 - r - s \\right) & 0 & 1 - 2 r + 2 s - 2 \\left( 1 - r - s \\right) &  - 4 r & 4 r &  - 4 s + 4 \\left( 1 - r - s \\right) \\\\\n",
       "\\end{array}\n",
       "\\right]\n",
       "\\end{equation}\n",
       " $$"
      ],
      "text/plain": [
       "2×6 Matrix{Num}:\n",
       " 2.0r + 2.0s - 1 - 2.0(1 - r - s)  …  4s                -4s\n",
       " 2.0r + 2.0s - 1 - 2.0(1 - r - s)     4r  4(1 - r - s) - 4s"
      ]
     },
     "metadata": {},
     "output_type": "display_data"
    }
   ],
   "source": [
    "∇H = [transpose([expand_derivatives.(Dr(H1[1,i])) for i in 1:6]); transpose([expand_derivatives.(Ds(H1[2,i])) for i in 1:6])]"
   ]
  },
  {
   "cell_type": "code",
   "execution_count": 9,
   "id": "d856883e",
   "metadata": {},
   "outputs": [
    {
     "data": {
      "text/latex": [
       "$$ \\begin{equation}\n",
       "1.5 s + 3 r\n",
       "\\end{equation}\n",
       " $$"
      ],
      "text/plain": [
       "1.5s + 3.0r"
      ]
     },
     "metadata": {},
     "output_type": "display_data"
    },
    {
     "data": {
      "text/latex": [
       "$$ \\begin{equation}\n",
       "3 s\n",
       "\\end{equation}\n",
       " $$"
      ],
      "text/plain": [
       "3.0s"
      ]
     },
     "metadata": {},
     "output_type": "display_data"
    }
   ],
   "source": [
    "x = expand((H * NodalCoords[:,1])[1])\n",
    "y = expand((H * NodalCoords[:,2])[1])\n",
    "display(x)\n",
    "display(y)"
   ]
  },
  {
   "cell_type": "code",
   "execution_count": 10,
   "id": "427e90fb",
   "metadata": {},
   "outputs": [],
   "source": [
    "dxdr = expand_derivatives(Dr(x))\n",
    "dxds = expand_derivatives(Ds(x))        \n",
    "dydr = expand_derivatives(Dr(y))\n",
    "dyds = expand_derivatives(Ds(y));"
   ]
  },
  {
   "cell_type": "code",
   "execution_count": 11,
   "id": "7265aaaf",
   "metadata": {},
   "outputs": [
    {
     "data": {
      "text/latex": [
       "$$ \\begin{equation}\n",
       "\\left[\n",
       "\\begin{array}{cc}\n",
       "3 & 0 \\\\\n",
       "1.5 & 3 \\\\\n",
       "\\end{array}\n",
       "\\right]\n",
       "\\end{equation}\n",
       " $$"
      ],
      "text/plain": [
       "2×2 Matrix{Num}:\n",
       " 3.0  0\n",
       " 1.5  3.0"
      ]
     },
     "metadata": {},
     "output_type": "display_data"
    },
    {
     "data": {
      "text/latex": [
       "$$ \\begin{equation}\n",
       "\\left[\n",
       "\\begin{array}{cc}\n",
       "0.33333 & 0 \\\\\n",
       "-0.16667 & 0.33333 \\\\\n",
       "\\end{array}\n",
       "\\right]\n",
       "\\end{equation}\n",
       " $$"
      ],
      "text/plain": [
       "2×2 Matrix{Num}:\n",
       "  0.333333  0.0\n",
       " -0.166667  0.333333"
      ]
     },
     "metadata": {},
     "output_type": "display_data"
    },
    {
     "data": {
      "text/latex": [
       "$$ \\begin{equation}\n",
       "9\n",
       "\\end{equation}\n",
       " $$"
      ],
      "text/plain": [
       "9.0"
      ]
     },
     "metadata": {},
     "output_type": "display_data"
    }
   ],
   "source": [
    "J = [dxdr dydr; dxds dyds] # Jacobiano\n",
    "J_inv = inv(J) # Inversa del Jacobiano\n",
    "J_det = det(J) # Determinante del Jacobiano\n",
    "display(J)\n",
    "display(J_inv)\n",
    "display(J_det)"
   ]
  },
  {
   "cell_type": "code",
   "execution_count": 12,
   "id": "13099efd",
   "metadata": {},
   "outputs": [
    {
     "data": {
      "text/latex": [
       "$$ \\begin{equation}\n",
       "\\left[\n",
       "\\begin{array}{cc}\n",
       "0.16667 \\left( -1 + 2 r + 2 s - 2 \\left( 1 - r - s \\right) \\right) & 0.33333 \\left( -1 + 2 r + 2 s - 2 \\left( 1 - r - s \\right) \\right) \\\\\n",
       "0.33333 \\left( 1 + 2 r - 2 s - 2 \\left( 1 - r - s \\right) \\right) & 0 \\\\\n",
       " - 0.16667 \\left( 1 - 2 r + 2 s - 2 \\left( 1 - r - s \\right) \\right) & 0.33333 \\left( 1 - 2 r + 2 s - 2 \\left( 1 - r - s \\right) \\right) \\\\\n",
       "0.33333 \\left(  - 4 r + 4 \\left( 1 - r - s \\right) \\right) + 0.66667 r &  - 1.3333 r \\\\\n",
       " - 0.66667 r + 1.3333 s & 1.3333 r \\\\\n",
       " - 1.3333 s - 0.16667 \\left(  - 4 s + 4 \\left( 1 - r - s \\right) \\right) & 0.33333 \\left(  - 4 s + 4 \\left( 1 - r - s \\right) \\right) \\\\\n",
       "\\end{array}\n",
       "\\right]\n",
       "\\end{equation}\n",
       " $$"
      ],
      "text/plain": [
       "6×2 Matrix{Num}:\n",
       "  0.166667(2.0r + 2.0s - 1 - 2.0(1 - r - s))  …   0.333333(2.0r + 2.0s - 1 - 2.0(1 - r - s))\n",
       "  0.333333(1 + 2.0r - 2.0s - 2.0(1 - r - s))      0.0\n",
       " -0.166667(1 + 2.0s - 2.0r - 2.0(1 - r - s))      0.333333(1 + 2.0s - 2.0r - 2.0(1 - r - s))\n",
       "  0.333333(4(1 - r - s) - 4r) + 0.666667r        -1.33333r\n",
       "  1.33333s - 0.666667r                            1.33333r\n",
       " -1.33333s - 0.166667(4(1 - r - s) - 4s)      …   0.333333(4(1 - r - s) - 4s)"
      ]
     },
     "metadata": {},
     "output_type": "display_data"
    }
   ],
   "source": [
    "B1 = transpose(∇H) * J_inv"
   ]
  },
  {
   "cell_type": "code",
   "execution_count": 13,
   "id": "7f399983",
   "metadata": {},
   "outputs": [
    {
     "data": {
      "text/latex": [
       "$$ \\begin{equation}\n",
       "\\left[\n",
       "\\begin{array}{cccccccccccc}\n",
       "0.16667 \\left( -1 + 2 r + 2 s - 2 \\left( 1 - r - s \\right) \\right) & 0 & 0.33333 \\left( 1 + 2 r - 2 s - 2 \\left( 1 - r - s \\right) \\right) & 0 &  - 0.16667 \\left( 1 - 2 r + 2 s - 2 \\left( 1 - r - s \\right) \\right) & 0 & 0.33333 \\left(  - 4 r + 4 \\left( 1 - r - s \\right) \\right) + 0.66667 r & 0 &  - 0.66667 r + 1.3333 s & 0 &  - 1.3333 s - 0.16667 \\left(  - 4 s + 4 \\left( 1 - r - s \\right) \\right) & 0 \\\\\n",
       "0 & 0.33333 \\left( -1 + 2 r + 2 s - 2 \\left( 1 - r - s \\right) \\right) & 0 & 0 & 0 & 0.33333 \\left( 1 - 2 r + 2 s - 2 \\left( 1 - r - s \\right) \\right) & 0 &  - 1.3333 r & 0 & 1.3333 r & 0 & 0.33333 \\left(  - 4 s + 4 \\left( 1 - r - s \\right) \\right) \\\\\n",
       "0.33333 \\left( -1 + 2 r + 2 s - 2 \\left( 1 - r - s \\right) \\right) & 0.16667 \\left( -1 + 2 r + 2 s - 2 \\left( 1 - r - s \\right) \\right) & 0 & 0.33333 \\left( 1 + 2 r - 2 s - 2 \\left( 1 - r - s \\right) \\right) & 0.33333 \\left( 1 - 2 r + 2 s - 2 \\left( 1 - r - s \\right) \\right) &  - 0.16667 \\left( 1 - 2 r + 2 s - 2 \\left( 1 - r - s \\right) \\right) &  - 1.3333 r & 0.33333 \\left(  - 4 r + 4 \\left( 1 - r - s \\right) \\right) + 0.66667 r & 1.3333 r &  - 0.66667 r + 1.3333 s & 0.33333 \\left(  - 4 s + 4 \\left( 1 - r - s \\right) \\right) &  - 1.3333 s - 0.16667 \\left(  - 4 s + 4 \\left( 1 - r - s \\right) \\right) \\\\\n",
       "\\end{array}\n",
       "\\right]\n",
       "\\end{equation}\n",
       " $$"
      ],
      "text/plain": [
       "3×12 Matrix{Num}:\n",
       " 0.166667(2.0r + 2.0s - 1 - 2.0(1 - r - s))  …   0\n",
       " 0                                               0.333333(4(1 - r - s) - 4s)\n",
       " 0.333333(2.0r + 2.0s - 1 - 2.0(1 - r - s))     -1.33333s - 0.166667(4(1 - r - s) - 4s)"
      ]
     },
     "metadata": {},
     "output_type": "display_data"
    }
   ],
   "source": [
    "B = [B1[1,1] 0 B1[2,1] 0 B1[3,1] 0 B1[4,1] 0 B1[5,1] 0 B1[6,1] 0\n",
    "    0 B1[1,2] 0 B1[2,2] 0 B1[3,2] 0 B1[4,2] 0 B1[5,2] 0 B1[6,2]\n",
    "    B1[1,2] B1[1,1] B1[2,2] B1[2,1] B1[3,2] B1[3,1] B1[4,2] B1[4,1] B1[5,2] B1[5,1] B1[6,2] B1[6,1]]"
   ]
  },
  {
   "cell_type": "code",
   "execution_count": 29,
   "id": "31b4bf63",
   "metadata": {},
   "outputs": [
    {
     "data": {
      "text/latex": [
       "$$ \\begin{equation}\n",
       "\\left[\n",
       "\\begin{array}{cccccccccccc}\n",
       "0.16667 \\left( -1 + 2 r + 2 s - 2 \\left( 1 - r - s \\right) \\right) & 0 & 0.33333 \\left( 1 + 2 r - 2 s - 2 \\left( 1 - r - s \\right) \\right) & 0 &  - 0.16667 \\left( 1 - 2 r + 2 s - 2 \\left( 1 - r - s \\right) \\right) & 0 & 0.33333 \\left(  - 4 r + 4 \\left( 1 - r - s \\right) \\right) + 0.66667 r & 0 &  - 0.66667 r + 1.3333 s & 0 &  - 1.3333 s - 0.16667 \\left(  - 4 s + 4 \\left( 1 - r - s \\right) \\right) & 0 \\\\\n",
       "0 & 0.33333 \\left( -1 + 2 r + 2 s - 2 \\left( 1 - r - s \\right) \\right) & 0 & 0 & 0 & 0.33333 \\left( 1 - 2 r + 2 s - 2 \\left( 1 - r - s \\right) \\right) & 0 &  - 1.3333 r & 0 & 1.3333 r & 0 & 0.33333 \\left(  - 4 s + 4 \\left( 1 - r - s \\right) \\right) \\\\\n",
       "0.33333 \\left( -1 + 2 r + 2 s - 2 \\left( 1 - r - s \\right) \\right) & 0.16667 \\left( -1 + 2 r + 2 s - 2 \\left( 1 - r - s \\right) \\right) & 0 & 0.33333 \\left( 1 + 2 r - 2 s - 2 \\left( 1 - r - s \\right) \\right) & 0.33333 \\left( 1 - 2 r + 2 s - 2 \\left( 1 - r - s \\right) \\right) &  - 0.16667 \\left( 1 - 2 r + 2 s - 2 \\left( 1 - r - s \\right) \\right) &  - 1.3333 r & 0.33333 \\left(  - 4 r + 4 \\left( 1 - r - s \\right) \\right) + 0.66667 r & 1.3333 r &  - 0.66667 r + 1.3333 s & 0.33333 \\left(  - 4 s + 4 \\left( 1 - r - s \\right) \\right) &  - 1.3333 s - 0.16667 \\left(  - 4 s + 4 \\left( 1 - r - s \\right) \\right) \\\\\n",
       "\\end{array}\n",
       "\\right]\n",
       "\\end{equation}\n",
       " $$"
      ],
      "text/plain": [
       "3×12 Matrix{Num}:\n",
       " 0.166667(2.0r + 2.0s - 1 - 2.0(1 - r - s))  …   0\n",
       " 0                                               0.333333(4(1 - r - s) - 4s)\n",
       " 0.333333(2.0r + 2.0s - 1 - 2.0(1 - r - s))     -1.33333s - 0.166667(4(1 - r - s) - 4s)"
      ]
     },
     "metadata": {},
     "output_type": "display_data"
    },
    {
     "data": {
      "text/latex": [
       "$$ \\begin{equation}\n",
       "\\left[\n",
       "\\begin{array}{cccccccccccc}\n",
       "-0.055556 & 0 & 0.11111 & 0 & -0.055556 & 0 & 0.22222 & 0 & 0.22222 & 0 & -0.44444 & 0 \\\\\n",
       "0 & -0.11111 & 0 & 0 & 0 & 0.11111 & 0 & -0.44444 & 0 & 0.44444 & 0 & 1.4803 \\cdot 10^{-16} \\\\\n",
       "-0.11111 & -0.055556 & 0 & 0.11111 & 0.11111 & -0.055556 & -0.44444 & 0.22222 & 0.44444 & 0.22222 & 1.4803 \\cdot 10^{-16} & -0.44444 \\\\\n",
       "\\end{array}\n",
       "\\right]\n",
       "\\end{equation}\n",
       " $$"
      ],
      "text/plain": [
       "3×12 Matrix{Num}:\n",
       " -0.0555556   0          0.111111  …  0         -0.444444     0\n",
       "  0          -0.111111   0            0.444444   0            1.4803e-16\n",
       " -0.111111   -0.0555556  0.0          0.222222   1.4803e-16  -0.444444"
      ]
     },
     "metadata": {},
     "output_type": "display_data"
    },
    {
     "data": {
      "text/latex": [
       "$$ \\begin{equation}\n",
       "\\left[\n",
       "\\begin{array}{cccccccccccc}\n",
       "6.9231 \\cdot 10^{5} & 3.75 \\cdot 10^{5} & 1.9231 \\cdot 10^{5} & 1.3462 \\cdot 10^{5} & 38462 & -9615.4 & -7.6923 \\cdot 10^{5} & -5.3846 \\cdot 10^{5} & 2.1333 \\cdot 10^{-8} & 1.1532 \\cdot 10^{-8} & -1.5385 \\cdot 10^{5} & 38462 \\\\\n",
       "3.75 \\cdot 10^{5} & 1.2548 \\cdot 10^{6} & 1.1538 \\cdot 10^{5} & 67308 & 9615.4 & 3.5096 \\cdot 10^{5} & -4.6154 \\cdot 10^{5} & -2.6923 \\cdot 10^{5} & 1.1532 \\cdot 10^{-8} & 3.8664 \\cdot 10^{-8} & -38462 & -1.4038 \\cdot 10^{6} \\\\\n",
       "1.9231 \\cdot 10^{5} & 1.1538 \\cdot 10^{5} & 1.1538 \\cdot 10^{6} & 0 & 1.9231 \\cdot 10^{5} & -1.1538 \\cdot 10^{5} & -7.6923 \\cdot 10^{5} & -4.6154 \\cdot 10^{5} & -7.6923 \\cdot 10^{5} & 4.6154 \\cdot 10^{5} & -1.6745 \\cdot 10^{-7} & -1.7422 \\cdot 10^{-8} \\\\\n",
       "1.3462 \\cdot 10^{5} & 67308 & 0 & 4.0385 \\cdot 10^{5} & -1.3462 \\cdot 10^{5} & 67308 & -5.3846 \\cdot 10^{5} & -2.6923 \\cdot 10^{5} & 5.3846 \\cdot 10^{5} & -2.6923 \\cdot 10^{5} & -2.033 \\cdot 10^{-8} & -5.8615 \\cdot 10^{-8} \\\\\n",
       "38462 & 9615.4 & 1.9231 \\cdot 10^{5} & -1.3462 \\cdot 10^{5} & 6.9231 \\cdot 10^{5} & -3.75 \\cdot 10^{5} & -8.8898 \\cdot 10^{-8} & 4.3554 \\cdot 10^{-8} & -7.6923 \\cdot 10^{5} & 5.3846 \\cdot 10^{5} & -1.5385 \\cdot 10^{5} & -38462 \\\\\n",
       "-9615.4 & 3.5096 \\cdot 10^{5} & -1.1538 \\cdot 10^{5} & 67308 & -3.75 \\cdot 10^{5} & 1.2548 \\cdot 10^{6} & 4.6508 \\cdot 10^{-8} & -2.036 \\cdot 10^{-7} & 4.6154 \\cdot 10^{5} & -2.6923 \\cdot 10^{5} & 38462 & -1.4038 \\cdot 10^{6} \\\\\n",
       "-7.6923 \\cdot 10^{5} & -4.6154 \\cdot 10^{5} & -7.6923 \\cdot 10^{5} & -5.3846 \\cdot 10^{5} & -8.8898 \\cdot 10^{-8} & 4.6508 \\cdot 10^{-8} & 3.3846 \\cdot 10^{6} & -2.9278 \\cdot 10^{-8} & -3.0769 \\cdot 10^{5} & -8.3504 \\cdot 10^{-8} & -1.5385 \\cdot 10^{6} & 1 \\cdot 10^{6} \\\\\n",
       "-5.3846 \\cdot 10^{5} & -2.6923 \\cdot 10^{5} & -4.6154 \\cdot 10^{5} & -2.6923 \\cdot 10^{5} & 4.3583 \\cdot 10^{-8} & -2.0365 \\cdot 10^{-7} & -2.9278 \\cdot 10^{-8} & 3.8846 \\cdot 10^{6} & -6.7403 \\cdot 10^{-8} & -2.8077 \\cdot 10^{6} & 1 \\cdot 10^{6} & -5.3846 \\cdot 10^{5} \\\\\n",
       "2.1319 \\cdot 10^{-8} & 1.1547 \\cdot 10^{-8} & -7.6923 \\cdot 10^{5} & 5.3846 \\cdot 10^{5} & -7.6923 \\cdot 10^{5} & 4.6154 \\cdot 10^{5} & -3.0769 \\cdot 10^{5} & -6.7401 \\cdot 10^{-8} & 3.3846 \\cdot 10^{6} & 1.8018 \\cdot 10^{-7} & -1.5385 \\cdot 10^{6} & -1 \\cdot 10^{6} \\\\\n",
       "1.1547 \\cdot 10^{-8} & 3.8664 \\cdot 10^{-8} & 4.6154 \\cdot 10^{5} & -2.6923 \\cdot 10^{5} & 5.3846 \\cdot 10^{5} & -2.6923 \\cdot 10^{5} & -8.3504 \\cdot 10^{-8} & -2.8077 \\cdot 10^{6} & 1.8018 \\cdot 10^{-7} & 3.8846 \\cdot 10^{6} & -1 \\cdot 10^{6} & -5.3846 \\cdot 10^{5} \\\\\n",
       "-1.5385 \\cdot 10^{5} & -38462 & -1.6748 \\cdot 10^{-7} & -2.033 \\cdot 10^{-8} & -1.5385 \\cdot 10^{5} & 38462 & -1.5385 \\cdot 10^{6} & 1 \\cdot 10^{6} & -1.5385 \\cdot 10^{6} & -1 \\cdot 10^{6} & 3.3846 \\cdot 10^{6} & 1.5066 \\cdot 10^{-7} \\\\\n",
       "38462 & -1.4038 \\cdot 10^{6} & -1.7436 \\cdot 10^{-8} & -5.8615 \\cdot 10^{-8} & -38462 & -1.4038 \\cdot 10^{6} & 1 \\cdot 10^{6} & -5.3846 \\cdot 10^{5} & -1 \\cdot 10^{6} & -5.3846 \\cdot 10^{5} & 1.5066 \\cdot 10^{-7} & 3.8846 \\cdot 10^{6} \\\\\n",
       "\\end{array}\n",
       "\\right]\n",
       "\\end{equation}\n",
       " $$"
      ],
      "text/plain": [
       "12×12 Matrix{Num}:\n",
       "      6.92308e5   375000.0         …      -1.53846e5    38461.5\n",
       " 375000.0              1.25481e6      -38461.5             -1.40385e6\n",
       "      1.92308e5        1.15385e5          -1.67449e-7      -1.74217e-8\n",
       "      1.34615e5    67307.7                -2.03301e-8      -5.86151e-8\n",
       "  38461.5           9615.38               -1.53846e5   -38461.5\n",
       "  -9615.38             3.50962e5   …   38461.5             -1.40385e6\n",
       "     -7.69231e5       -4.61538e5          -1.53846e6        1.0e6\n",
       "     -5.38462e5       -2.69231e5           1.0e6           -5.38462e5\n",
       "      2.13186e-8       1.15469e-8         -1.53846e6       -1.0e6\n",
       "      1.15469e-8       3.86644e-8         -1.0e6           -5.38462e5\n",
       "     -1.53846e5   -38461.5         …       3.38462e6        1.50658e-7\n",
       "  38461.5             -1.40385e6           1.50658e-7       3.88462e6"
      ]
     },
     "metadata": {},
     "output_type": "display_data"
    }
   ],
   "source": [
    "K = zeros(12,12) \n",
    "\n",
    "#Integramos por medio de cuadratura de Gauss para siete puntos de integración sobre dominios triangulares\n",
    "r1 = 0.1012865073235\n",
    "r2 = 0.7974269853531\n",
    "r3 = r1\n",
    "r4 = 0.4701420641051\n",
    "r5 = r4\n",
    "r6 = 0.0597158717898\n",
    "r7 =  1/3\n",
    "\n",
    "s1 = r1\n",
    "s2 = r1\n",
    "s3 = r2\n",
    "s4 = r6\n",
    "s5 = r4\n",
    "s6 = r4\n",
    "s7 = r7\n",
    "\n",
    "w1 = 0.1259391805448\n",
    "w2 = w1\n",
    "w3 = w1\n",
    "w4 = 0.1323941527885\n",
    "w5 = w4\n",
    "w6 = w4\n",
    "w7 = 0.225\n",
    "\n",
    "GL7T = [r1 s1; r2 s2; r3 s3; r4 s4; r5 s5; r6 s6; r7 s7] # Puntos de Gauss para integración\n",
    "#display(GL7T)\n",
    "WGL7T = [w1 w2 w3 w4 w5 w6 w7]\n",
    "\n",
    "for i in 1:7\n",
    "    Jg = substitute(J, Dict([r => GL7T[i,1], s => GL7T[i,2]]))        \n",
    "    Jg_inv = substitute(J_inv, Dict([r => GL7T[i,1], s => GL7T[i,2]]))\n",
    "    Jg_det = substitute(J_det, Dict([r => GL7T[i,1], s => GL7T[i,2]]))\n",
    "                \n",
    "    global Bg = substitute(B, Dict([r => GL7T[i,1], s => GL7T[i,2]]))\n",
    "    \n",
    "    K += 1/2*(transpose(Bg) * C * Bg * Jg_det * WGL7T[i])\n",
    "        \n",
    "end\n",
    "display(B)\n",
    "display(Bg)\n",
    "display(K)"
   ]
  },
  {
   "cell_type": "code",
   "execution_count": 15,
   "id": "cf03d16f",
   "metadata": {},
   "outputs": [
    {
     "data": {
      "text/latex": [
       "$$ \\begin{equation}\n",
       "\\left[\n",
       "\\begin{array}{cccccccccccc}\n",
       "1 & 0 & 0 & 0 & 0 & 0 & 0 & 0 & 0 & 0 & 0 & 0 \\\\\n",
       "0 & 1.2548 \\cdot 10^{6} & 0 & 0 & 9615.4 & 3.5096 \\cdot 10^{5} & -4.6154 \\cdot 10^{5} & -2.6923 \\cdot 10^{5} & 1.1532 \\cdot 10^{-8} & 3.8664 \\cdot 10^{-8} & -38462 & -1.4038 \\cdot 10^{6} \\\\\n",
       "0 & 0 & 1 & 0 & 0 & 0 & 0 & 0 & 0 & 0 & 0 & 0 \\\\\n",
       "0 & 0 & 0 & 1 & 0 & 0 & 0 & 0 & 0 & 0 & 0 & 0 \\\\\n",
       "0 & 9615.4 & 0 & 0 & 6.9231 \\cdot 10^{5} & -3.75 \\cdot 10^{5} & -8.8898 \\cdot 10^{-8} & 4.3554 \\cdot 10^{-8} & -7.6923 \\cdot 10^{5} & 5.3846 \\cdot 10^{5} & -1.5385 \\cdot 10^{5} & -38462 \\\\\n",
       "0 & 3.5096 \\cdot 10^{5} & 0 & 0 & -3.75 \\cdot 10^{5} & 1.2548 \\cdot 10^{6} & 4.6508 \\cdot 10^{-8} & -2.036 \\cdot 10^{-7} & 4.6154 \\cdot 10^{5} & -2.6923 \\cdot 10^{5} & 38462 & -1.4038 \\cdot 10^{6} \\\\\n",
       "0 & -4.6154 \\cdot 10^{5} & 0 & 0 & -8.8898 \\cdot 10^{-8} & 4.6508 \\cdot 10^{-8} & 3.3846 \\cdot 10^{6} & -2.9278 \\cdot 10^{-8} & -3.0769 \\cdot 10^{5} & -8.3504 \\cdot 10^{-8} & -1.5385 \\cdot 10^{6} & 1 \\cdot 10^{6} \\\\\n",
       "0 & -2.6923 \\cdot 10^{5} & 0 & 0 & 4.3583 \\cdot 10^{-8} & -2.0365 \\cdot 10^{-7} & -2.9278 \\cdot 10^{-8} & 3.8846 \\cdot 10^{6} & -6.7403 \\cdot 10^{-8} & -2.8077 \\cdot 10^{6} & 1 \\cdot 10^{6} & -5.3846 \\cdot 10^{5} \\\\\n",
       "0 & 1.1547 \\cdot 10^{-8} & 0 & 0 & -7.6923 \\cdot 10^{5} & 4.6154 \\cdot 10^{5} & -3.0769 \\cdot 10^{5} & -6.7401 \\cdot 10^{-8} & 3.3846 \\cdot 10^{6} & 1.8018 \\cdot 10^{-7} & -1.5385 \\cdot 10^{6} & -1 \\cdot 10^{6} \\\\\n",
       "0 & 3.8664 \\cdot 10^{-8} & 0 & 0 & 5.3846 \\cdot 10^{5} & -2.6923 \\cdot 10^{5} & -8.3504 \\cdot 10^{-8} & -2.8077 \\cdot 10^{6} & 1.8018 \\cdot 10^{-7} & 3.8846 \\cdot 10^{6} & -1 \\cdot 10^{6} & -5.3846 \\cdot 10^{5} \\\\\n",
       "0 & -38462 & 0 & 0 & -1.5385 \\cdot 10^{5} & 38462 & -1.5385 \\cdot 10^{6} & 1 \\cdot 10^{6} & -1.5385 \\cdot 10^{6} & -1 \\cdot 10^{6} & 3.3846 \\cdot 10^{6} & 1.5066 \\cdot 10^{-7} \\\\\n",
       "0 & -1.4038 \\cdot 10^{6} & 0 & 0 & -38462 & -1.4038 \\cdot 10^{6} & 1 \\cdot 10^{6} & -5.3846 \\cdot 10^{5} & -1 \\cdot 10^{6} & -5.3846 \\cdot 10^{5} & 1.5066 \\cdot 10^{-7} & 3.8846 \\cdot 10^{6} \\\\\n",
       "\\end{array}\n",
       "\\right]\n",
       "\\end{equation}\n",
       " $$"
      ],
      "text/plain": [
       "12×12 Matrix{Num}:\n",
       " 1       0           0  0  …       0                0\n",
       " 0       1.25481e6   0  0     -38461.5             -1.40385e6\n",
       " 0       0           1  0          0                0\n",
       " 0       0           0  1          0                0\n",
       " 0    9615.38        0  0         -1.53846e5   -38461.5\n",
       " 0       3.50962e5   0  0  …   38461.5             -1.40385e6\n",
       " 0      -4.61538e5   0  0         -1.53846e6        1.0e6\n",
       " 0      -2.69231e5   0  0          1.0e6           -5.38462e5\n",
       " 0       1.15469e-8  0  0         -1.53846e6       -1.0e6\n",
       " 0       3.86644e-8  0  0         -1.0e6           -5.38462e5\n",
       " 0  -38461.5         0  0  …       3.38462e6        1.50658e-7\n",
       " 0      -1.40385e6   0  0          1.50658e-7       3.88462e6"
      ]
     },
     "metadata": {},
     "output_type": "display_data"
    }
   ],
   "source": [
    " # Imponemos condiciones de contorno de Dirichlet\n",
    " # U1x=0 => U1=0\n",
    "    K[1,:] .= 0\n",
    "    K[:,1] .= 0\n",
    "    K[1,1] =1\n",
    " # U2x=0 => U3=0\n",
    "    K[3,:] .= 0\n",
    "    K[:,3] .= 0\n",
    "    K[3,3] =1\n",
    " # U2y=0 => U4=0\n",
    "    K[4,:] .= 0\n",
    "    K[:,4] .= 0\n",
    "    K[4,4] =1\n",
    "\n",
    "display(K)"
   ]
  },
  {
   "cell_type": "code",
   "execution_count": 16,
   "id": "4d16533b",
   "metadata": {},
   "outputs": [],
   "source": [
    "#= \\(A,B)\n",
    "Matrix division using a polyalgorithm. For input matrices A and B, the result X is such that A*X == B when A is square. \n",
    "The solver that is used depends upon the structure of A. If A is upper or lower triangular (or diagonal), no factorization \n",
    "of A is required and the system is solved with either forward or backward substitution. For non-triangular square matrices, \n",
    "an LU factorization is used.\n",
    "=#"
   ]
  },
  {
   "cell_type": "code",
   "execution_count": 17,
   "id": "fe3b4915",
   "metadata": {},
   "outputs": [
    {
     "data": {
      "text/latex": [
       "$$ \\begin{equation}\n",
       "\\left[\n",
       "\\begin{array}{c}\n",
       "0 \\\\\n",
       "0.0044643 \\\\\n",
       "0 \\\\\n",
       "0 \\\\\n",
       "0.0048214 \\\\\n",
       "0.0051786 \\\\\n",
       "4.4643 \\cdot 10^{-6} \\\\\n",
       "0.0023929 \\\\\n",
       "0.0024152 \\\\\n",
       "0.0024286 \\\\\n",
       "0.0013214 \\\\\n",
       "0.0048214 \\\\\n",
       "\\end{array}\n",
       "\\right]\n",
       "\\end{equation}\n",
       " $$"
      ],
      "text/plain": [
       "12-element Vector{Num}:\n",
       " 0.0\n",
       " 0.004464285714286873\n",
       " 0.0\n",
       " 0.0\n",
       " 0.00482142857142951\n",
       " 0.005178571428572778\n",
       " 4.464285714207837e-6\n",
       " 0.002392857142857827\n",
       " 0.002415178571429064\n",
       " 0.002428571428572098\n",
       " 0.001321428571428712\n",
       " 0.004821428571429841"
      ]
     },
     "metadata": {},
     "output_type": "display_data"
    },
    {
     "data": {
      "text/latex": [
       "$$ \\begin{equation}\n",
       "\\left[\n",
       "\\begin{array}{cccccc}\n",
       "-7.1429 \\cdot 10^{-5} & -0.00080952 & -7.1429 \\cdot 10^{-5} & -0.00044048 & -0.00044048 & -7.1429 \\cdot 10^{-5} \\\\\n",
       "0.0002381 & -0.00019048 & 0.0002381 & 2.381 \\cdot 10^{-5} & 2.381 \\cdot 10^{-5} & 0.0002381 \\\\\n",
       "-0.0012381 & -3.6754 \\cdot 10^{-17} & 0.0012381 & -0.00061905 & 0.00061905 & -4.9114 \\cdot 10^{-17} \\\\\n",
       "\\end{array}\n",
       "\\right]\n",
       "\\end{equation}\n",
       " $$"
      ],
      "text/plain": [
       "3×6 Matrix{Num}:\n",
       " -7.14286e-5   -0.000809524  -7.14286e-5   …  -0.000440476  -7.14286e-5\n",
       "  0.000238095  -0.000190476   0.000238095      2.38095e-5    0.000238095\n",
       " -0.0012381    -3.67545e-17   0.0012381        0.000619048  -4.91144e-17"
      ]
     },
     "metadata": {},
     "output_type": "display_data"
    },
    {
     "data": {
      "text/latex": [
       "$$ \\begin{equation}\n",
       "\\left[\n",
       "\\begin{array}{cccccc}\n",
       "-3.6863 \\cdot 10^{-11} & -2000 & 2.4556 \\cdot 10^{-10} & -1000 & -1000 & 1.0476 \\cdot 10^{-10} \\\\\n",
       "500 & -1000 & 500 & -250 & -250 & 500 \\\\\n",
       "-1000 & -2.9686 \\cdot 10^{-11} & 1000 & -500 & 500 & -3.9669 \\cdot 10^{-11} \\\\\n",
       "\\end{array}\n",
       "\\right]\n",
       "\\end{equation}\n",
       " $$"
      ],
      "text/plain": [
       "3×6 Matrix{Num}:\n",
       "    -3.6863e-11  -2000.0          …  -1000.0  -1000.0    1.04762e-10\n",
       "   500.0         -1000.0              -250.0   -250.0  500.0\n",
       " -1000.0            -2.96863e-11      -500.0    500.0   -3.96693e-11"
      ]
     },
     "metadata": {},
     "output_type": "display_data"
    }
   ],
   "source": [
    "# CASO 1. F1 = 500kgf ; F2 = 0kgf\n",
    "\n",
    "R1 =[0, 0, 0, 0, 500, 0, 0, 0, 0, 0, 0, 0] # Fuerzas nodales en kgf.\n",
    "U1 = K \\ R1 # U1 --> Desplazamientos nodales.\n",
    "display(U1)\n",
    "E1 = B * U1\n",
    "σ1 = C * E1\n",
    "\n",
    "# Matriz de deformaciones nodales\n",
    "Enodal1 = zeros(Num,3,6)\n",
    "CoordEl = [0 0; 1 0; 0 1; 1/2 0; 1/2 1/2; 0 1/2]\n",
    "\n",
    "for i in 1:6, j in 1:3\n",
    "    Enodal1[j,i] = substitute(E1[j], Dict(r => CoordEl[i,1], s => CoordEl[i,2]),)\n",
    "end\n",
    "σNodal1 = C * Enodal1\n",
    "display(Enodal1)\n",
    "display(σNodal1)"
   ]
  },
  {
   "cell_type": "code",
   "execution_count": 18,
   "id": "6021e6f3",
   "metadata": {},
   "outputs": [
    {
     "data": {
      "text/latex": [
       "$$ \\begin{equation}\n",
       "\\left[\n",
       "\\begin{array}{cccccc}\n",
       "-0.0010238 & -0.0007381 & 0.0007381 & -0.00088095 & 8.8471 \\cdot 10^{-17} & -0.00014286 \\\\\n",
       "0.00052381 & -0.00042857 & 0.00042857 & 4.7619 \\cdot 10^{-5} & -4.6404 \\cdot 10^{-17} & 0.00047619 \\\\\n",
       "-0.0012381 & -0.0012381 & 0.0012381 & -0.0012381 & 1.1753 \\cdot 10^{-16} & 1.1709 \\cdot 10^{-17} \\\\\n",
       "\\end{array}\n",
       "\\right]\n",
       "\\end{equation}\n",
       " $$"
      ],
      "text/plain": [
       "3×6 Matrix{Num}:\n",
       " -0.00102381  -0.000738095  0.000738095  …   8.84709e-17  -0.000142857\n",
       "  0.00052381  -0.000428571  0.000428571     -4.64039e-17   0.00047619\n",
       " -0.0012381   -0.0012381    0.0012381        1.17528e-16   1.17094e-17"
      ]
     },
     "metadata": {},
     "output_type": "display_data"
    },
    {
     "data": {
      "text/latex": [
       "$$ \\begin{equation}\n",
       "\\left[\n",
       "\\begin{array}{cccccc}\n",
       "-2000 & -2000 & 2000 & -2000 & 1.7204 \\cdot 10^{-10} & 2.8592 \\cdot 10^{-11} \\\\\n",
       "500 & -1500 & 1500 & -500 & -4.5837 \\cdot 10^{-11} & 1000 \\\\\n",
       "-1000 & -1000 & 1000 & -1000 & 9.4926 \\cdot 10^{-11} & 9.4576 \\cdot 10^{-12} \\\\\n",
       "\\end{array}\n",
       "\\right]\n",
       "\\end{equation}\n",
       " $$"
      ],
      "text/plain": [
       "3×6 Matrix{Num}:\n",
       " -2000.0  -2000.0  2000.0  -2000.0   1.72038e-10     2.85922e-11\n",
       "   500.0  -1500.0  1500.0   -500.0  -4.58367e-11  1000.0\n",
       " -1000.0  -1000.0  1000.0  -1000.0   9.49261e-11     9.45758e-12"
      ]
     },
     "metadata": {},
     "output_type": "display_data"
    }
   ],
   "source": [
    "# CASO 2. F1 = 0kgf ; F2 = 500kgf\n",
    "\n",
    "R2 =[0, 0, 0, 0, 0, 500, 0, 0, 0, 0, 0, 0] # Fuerzas nodales en kgf.\n",
    "U2 = K \\ R2 # U3 --> Desplazamientos nodales.\n",
    "E2 = B * U2\n",
    "σ2 = C * E2\n",
    "\n",
    "# Matriz de deformaciones nodales\n",
    "Enodal2 = zeros(Num,3,6)\n",
    "CoordEl = [0 0; 1 0; 0 1; 1/2 0; 1/2 1/2; 0 1/2]\n",
    "\n",
    "for i in 1:6, j in 1:3\n",
    "    Enodal2[j,i] = substitute(E2[j], Dict(r => CoordEl[i,1], s => CoordEl[i,2]),)\n",
    "end\n",
    "σNodal2 = C * Enodal2\n",
    "display(Enodal2)\n",
    "display(σNodal2)"
   ]
  },
  {
   "cell_type": "code",
   "execution_count": 19,
   "id": "e6dad534",
   "metadata": {},
   "outputs": [
    {
     "data": {
      "text/latex": [
       "$$ \\begin{equation}\n",
       "\\left[\n",
       "\\begin{array}{cccccc}\n",
       "-0.0010952 & -0.0015476 & 0.00066667 & -0.0013214 & -0.00044048 & -0.00021429 \\\\\n",
       "0.0007619 & -0.00061905 & 0.00066667 & 7.1429 \\cdot 10^{-5} & 2.381 \\cdot 10^{-5} & 0.00071429 \\\\\n",
       "-0.0024762 & -0.0012381 & 0.0024762 & -0.0018571 & 0.00061905 & -3.5562 \\cdot 10^{-17} \\\\\n",
       "\\end{array}\n",
       "\\right]\n",
       "\\end{equation}\n",
       " $$"
      ],
      "text/plain": [
       "3×6 Matrix{Num}:\n",
       " -0.00109524   -0.00154762   0.000666667  …  -0.000440476  -0.000214286\n",
       "  0.000761905  -0.000619048  0.000666667      2.38095e-5    0.000714286\n",
       " -0.00247619   -0.0012381    0.00247619       0.000619048  -3.55618e-17"
      ]
     },
     "metadata": {},
     "output_type": "display_data"
    },
    {
     "data": {
      "text/latex": [
       "$$ \\begin{equation}\n",
       "\\left[\n",
       "\\begin{array}{cccccc}\n",
       "-2000 & -4000 & 2000 & -3000 & -1000 & 1.3375 \\cdot 10^{-10} \\\\\n",
       "1000 & -2500 & 2000 & -750 & -250 & 1500 \\\\\n",
       "-2000 & -1000 & 2000 & -1500 & 500 & -2.8723 \\cdot 10^{-11} \\\\\n",
       "\\end{array}\n",
       "\\right]\n",
       "\\end{equation}\n",
       " $$"
      ],
      "text/plain": [
       "3×6 Matrix{Num}:\n",
       " -2000.0  -4000.0  2000.0  -3000.0  -1000.0     1.33753e-10\n",
       "  1000.0  -2500.0  2000.0   -750.0   -250.0  1500.0\n",
       " -2000.0  -1000.0  2000.0  -1500.0    500.0    -2.8723e-11"
      ]
     },
     "metadata": {},
     "output_type": "display_data"
    }
   ],
   "source": [
    "# CASO 3. F1 = 500kgf ; F2 = 500kgf\n",
    "\n",
    "R3 =[0, 0, 0, 0, 500, 500, 0, 0, 0, 0, 0, 0] # Fuerzas nodales en kgf.\n",
    "U3 = K \\ R3 # U3 --> Desplazamientos nodales.\n",
    "E3 = B * U3\n",
    "σ3 = C * E3\n",
    "\n",
    "# Matriz de deformaciones nodales\n",
    "Enodal3 = zeros(Num,3,6)\n",
    "CoordEl = [0 0; 1 0; 0 1; 1/2 0; 1/2 1/2; 0 1/2]\n",
    "\n",
    "for i in 1:6, j in 1:3\n",
    "    Enodal3[j,i] = substitute(E3[j], Dict(r => CoordEl[i,1], s => CoordEl[i,2]),)\n",
    "end\n",
    "σNodal3 = C * Enodal3\n",
    "display(Enodal3)\n",
    "display(σNodal3)"
   ]
  },
  {
   "cell_type": "code",
   "execution_count": 20,
   "id": "315d4071",
   "metadata": {},
   "outputs": [
    {
     "data": {
      "text/latex": [
       "$$ \\begin{equation}\n",
       "\\left[\n",
       "\\begin{array}{ccccccc}\n",
       "-0.00014619 & -0.00066001 & -0.00014619 & -0.00041844 & -0.00041844 & -0.0001155 & -0.00031746 \\\\\n",
       "0.00019469 & -0.00010366 & 0.00019469 & 3.6606 \\cdot 10^{-5} & 3.6606 \\cdot 10^{-5} & 0.0002125 & 9.5238 \\cdot 10^{-5} \\\\\n",
       "-0.00086189 & 8.473 \\cdot 10^{-17} & 0.00086189 & -0.00050815 & 0.00050815 & -4.7922 \\cdot 10^{-17} & -4.5211 \\cdot 10^{-17} \\\\\n",
       "\\end{array}\n",
       "\\right]\n",
       "\\end{equation}\n",
       " $$"
      ],
      "text/plain": [
       "3×7 Matrix{Num}:\n",
       " -0.000146188  -0.000660006  -0.000146188  …  -0.000115505  -0.00031746\n",
       "  0.000194687  -0.000103659   0.000194687      0.000212503   9.52381e-5\n",
       " -0.000861888   8.47304e-17   0.000861888     -4.79217e-17  -4.52112e-17"
      ]
     },
     "metadata": {},
     "output_type": "display_data"
    }
   ],
   "source": [
    "# Deformaciones en los puntos de Gauss.\n",
    "#Caso 1.\n",
    "EGauss1 = zeros(Num,3,7)\n",
    "\n",
    "for i in 1:7, j in 1:3\n",
    "    EGauss1[j,i] = substitute(E1[j], Dict(r => GL7T[i,1], s => GL7T[i,2]),)\n",
    "end\n",
    "EGauss1[3,:] = EGauss1[3,:]\n",
    "display(EGauss1)"
   ]
  },
  {
   "cell_type": "code",
   "execution_count": 21,
   "id": "0a1bab85",
   "metadata": {},
   "outputs": [
    {
     "data": {
      "text/latex": [
       "$$ \\begin{equation}\n",
       "\\left[\n",
       "\\begin{array}{ccccccc}\n",
       "-202.57 & -1594.9 & -202.57 & -940.28 & -940.28 & -119.43 & -666.67 \\\\\n",
       "348.07 & -696.14 & 348.07 & -205.21 & -205.21 & 410.43 & 1.8161 \\cdot 10^{-11} \\\\\n",
       "-696.14 & 6.8436 \\cdot 10^{-11} & 696.14 & -410.43 & 410.43 & -3.8706 \\cdot 10^{-11} & -3.6517 \\cdot 10^{-11} \\\\\n",
       "\\end{array}\n",
       "\\right]\n",
       "\\end{equation}\n",
       " $$"
      ],
      "text/plain": [
       "3×7 Matrix{Num}:\n",
       " -202.573  -1594.85         -202.573  …  -119.432       -666.667\n",
       "  348.07    -696.14          348.07       410.426          1.81615e-11\n",
       " -696.14       6.84361e-11   696.14        -3.8706e-11    -3.65168e-11"
      ]
     },
     "metadata": {},
     "output_type": "display_data"
    }
   ],
   "source": [
    "SigmaGauss1 = C * EGauss1"
   ]
  },
  {
   "cell_type": "code",
   "execution_count": 22,
   "id": "3f4f3eb7",
   "metadata": {},
   "outputs": [
    {
     "data": {
      "text/latex": [
       "$$ \\begin{equation}\n",
       "\\left[\n",
       "\\begin{array}{ccccccc}\n",
       "-0.00081641 & -0.00061752 & 0.00041012 & -0.00078427 & -6.1138 \\cdot 10^{-5} & -0.0001784 & -0.00034127 \\\\\n",
       "0.0004177 & -0.00024529 & 0.0003514 & 7.0368 \\cdot 10^{-5} & 3.128 \\cdot 10^{-5} & 0.00042216 & 0.0001746 \\\\\n",
       "-0.00098729 & -0.00098729 & 0.00073649 & -0.0010902 & -7.3934 \\cdot 10^{-5} & -7.3934 \\cdot 10^{-5} & -0.0004127 \\\\\n",
       "\\end{array}\n",
       "\\right]\n",
       "\\end{equation}\n",
       " $$"
      ],
      "text/plain": [
       "3×7 Matrix{Num}:\n",
       " -0.000816413  -0.000617516  0.00041012   …  -0.000178402  -0.00034127\n",
       "  0.0004177    -0.000245291  0.000351401      0.000422162   0.000174603\n",
       " -0.000987291  -0.000987291  0.000736486     -7.39339e-5   -0.000412698"
      ]
     },
     "metadata": {},
     "output_type": "display_data"
    }
   ],
   "source": [
    "# Deformaciones en los puntos de Gauss.\n",
    "#Caso 2.\n",
    "EGauss2 = zeros(Num,3,7)\n",
    "\n",
    "for i in 1:7, j in 1:3\n",
    "    EGauss2[j,i] = substitute(E2[j], Dict(r => GL7T[i,1], s => GL7T[i,2]),)\n",
    "end\n",
    "EGauss2[3,:] = EGauss2[3,:]\n",
    "display(EGauss2)"
   ]
  },
  {
   "cell_type": "code",
   "execution_count": 23,
   "id": "32a53a51",
   "metadata": {},
   "outputs": [
    {
     "data": {
      "text/latex": [
       "$$ \\begin{equation}\n",
       "\\left[\n",
       "\\begin{array}{ccccccc}\n",
       "-1594.9 & -1594.9 & 1189.7 & -1761.1 & -119.43 & -119.43 & -666.67 \\\\\n",
       "398.71 & -993.57 & 1094.9 & -380.57 & 29.858 & 850.71 & 166.67 \\\\\n",
       "-797.43 & -797.43 & 594.85 & -880.57 & -59.716 & -59.716 & -333.33 \\\\\n",
       "\\end{array}\n",
       "\\right]\n",
       "\\end{equation}\n",
       " $$"
      ],
      "text/plain": [
       "3×7 Matrix{Num}:\n",
       " -1594.85   -1594.85   1189.71   -1761.14   -119.432   -119.432   -666.667\n",
       "   398.713   -993.567  1094.85    -380.568    29.8579   850.71     166.667\n",
       "  -797.427   -797.427   594.854   -880.568   -59.7159   -59.7159  -333.333"
      ]
     },
     "metadata": {},
     "output_type": "display_data"
    }
   ],
   "source": [
    "SigmaGauss2 = C * EGauss2"
   ]
  },
  {
   "cell_type": "code",
   "execution_count": 24,
   "id": "aedbdc93",
   "metadata": {},
   "outputs": [
    {
     "data": {
      "text/latex": [
       "$$ \\begin{equation}\n",
       "\\left[\n",
       "\\begin{array}{ccccccc}\n",
       "-0.0009626 & -0.0012775 & 0.00026393 & -0.0012027 & -0.00047958 & -0.00029391 & -0.00065873 \\\\\n",
       "0.00061239 & -0.00034895 & 0.00054609 & 0.00010697 & 6.7886 \\cdot 10^{-5} & 0.00063466 & 0.00026984 \\\\\n",
       "-0.0018492 & -0.00098729 & 0.0015984 & -0.0015984 & 0.00043421 & -7.3934 \\cdot 10^{-5} & -0.0004127 \\\\\n",
       "\\end{array}\n",
       "\\right]\n",
       "\\end{equation}\n",
       " $$"
      ],
      "text/plain": [
       "3×7 Matrix{Num}:\n",
       " -0.000962601  -0.00127752   0.000263932  …  -0.000293907  -0.00065873\n",
       "  0.000612387  -0.00034895   0.000546087      0.000634665   0.000269841\n",
       " -0.00184918   -0.000987291  0.00159837      -7.39339e-5   -0.000412698"
      ]
     },
     "metadata": {},
     "output_type": "display_data"
    }
   ],
   "source": [
    "# Deformaciones en los puntos de Gauss.\n",
    "#Caso 3.\n",
    "EGauss3 = zeros(Num,3,7)\n",
    "\n",
    "for i in 1:7, j in 1:3\n",
    "    EGauss3[j,i] = substitute(E3[j], Dict(r => GL7T[i,1], s => GL7T[i,2]),)\n",
    "end\n",
    "EGauss3[3,:] = EGauss3[3,:]\n",
    "display(EGauss3)"
   ]
  },
  {
   "cell_type": "code",
   "execution_count": 25,
   "id": "666a3f4f",
   "metadata": {},
   "outputs": [
    {
     "data": {
      "text/latex": [
       "$$ \\begin{equation}\n",
       "\\left[\n",
       "\\begin{array}{ccccccc}\n",
       "-1797.4 & -3189.7 & 987.13 & -2701.4 & -1059.7 & -238.86 & -1333.3 \\\\\n",
       "746.78 & -1689.7 & 1442.9 & -585.78 & -175.36 & 1261.1 & 166.67 \\\\\n",
       "-1493.6 & -797.43 & 1291 & -1291 & 350.71 & -59.716 & -333.33 \\\\\n",
       "\\end{array}\n",
       "\\right]\n",
       "\\end{equation}\n",
       " $$"
      ],
      "text/plain": [
       "3×7 Matrix{Num}:\n",
       " -1797.43   -3189.71    987.135  -2701.42   -1059.72   -238.863   -1333.33\n",
       "   746.784  -1689.71   1442.92    -585.781   -175.355  1261.14      166.667\n",
       " -1493.57    -797.427  1290.99   -1290.99     350.71    -59.7159   -333.333"
      ]
     },
     "metadata": {},
     "output_type": "display_data"
    }
   ],
   "source": [
    "SigmaGauss3 = C * EGauss3"
   ]
  },
  {
   "cell_type": "code",
   "execution_count": 26,
   "id": "c3c6e34b",
   "metadata": {},
   "outputs": [],
   "source": []
  }
 ],
 "metadata": {
  "kernelspec": {
   "display_name": "Julia 1.8.5",
   "language": "julia",
   "name": "julia-1.8"
  },
  "language_info": {
   "file_extension": ".jl",
   "mimetype": "application/julia",
   "name": "julia",
   "version": "1.8.5"
  }
 },
 "nbformat": 4,
 "nbformat_minor": 5
}
