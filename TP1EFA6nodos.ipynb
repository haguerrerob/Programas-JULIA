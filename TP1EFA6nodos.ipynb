{
 "cells": [
  {
   "cell_type": "code",
   "execution_count": 1,
   "id": "1e908c6d",
   "metadata": {},
   "outputs": [],
   "source": [
    "using LinearAlgebra, Symbolics"
   ]
  },
  {
   "cell_type": "code",
   "execution_count": 2,
   "id": "9f32c13c",
   "metadata": {},
   "outputs": [],
   "source": [
    "@variables r s;"
   ]
  },
  {
   "cell_type": "code",
   "execution_count": 3,
   "id": "e8973334",
   "metadata": {},
   "outputs": [],
   "source": [
    "ν = 0.3 # Coeficiente de Poisson\n",
    "EM = 2.1E06 # Módulo de Young - kgf/cm^2\n",
    "C = (EM/(1-ν^2)) * [1 ν 0; ν 1 0; 0 0 (1-ν)/2]; # Matriz de constantes elásticas (Tensión plana)"
   ]
  },
  {
   "cell_type": "code",
   "execution_count": 40,
   "id": "e7f3f6c2",
   "metadata": {},
   "outputs": [],
   "source": [
    "NodalCoords = [0 0; 3 0; 1.5 3; 1.5 0; 2.25 1.5; 0.75 1.5]; # Coordenadas Globales para elemento de 6 nodos"
   ]
  },
  {
   "cell_type": "code",
   "execution_count": 5,
   "id": "5a8875c4",
   "metadata": {},
   "outputs": [],
   "source": [
    "# Funciones de interpolación para un elemento isoparamétrico triangular de 6 nodos\n",
    "h4 = 4*r*(1-r-s)\n",
    "h5 = 4*r*s\n",
    "h6 = 4*s*(1-r-s)\n",
    "h1 = 1-r-s-1/2*h4-1/2*h6\n",
    "h2 = r-1/2*h4-1/2*h5\n",
    "h3 = s-1/2*h5-1/2*h6;"
   ]
  },
  {
   "cell_type": "code",
   "execution_count": 6,
   "id": "6777d8fa",
   "metadata": {},
   "outputs": [
    {
     "data": {
      "text/plain": [
       "(::Differential) (generic function with 3 methods)"
      ]
     },
     "metadata": {},
     "output_type": "display_data"
    }
   ],
   "source": [
    "Dr = Differential(r)\n",
    "Ds = Differential(s)"
   ]
  },
  {
   "cell_type": "code",
   "execution_count": 7,
   "id": "99b534d8",
   "metadata": {},
   "outputs": [
    {
     "data": {
      "text/latex": [
       "$$ \\begin{equation}\n",
       "\\left[\n",
       "\\begin{array}{cccccc}\n",
       "-1 + 2 r - 2 \\left( 1 - r - s \\right) + 2 s & 1 + 2 r - 2 \\left( 1 - r - s \\right) - 2 s & 0 &  - 4 r + 4 \\left( 1 - r - s \\right) & 4 s &  - 4 s \\\\\n",
       "-1 + 2 r - 2 \\left( 1 - r - s \\right) + 2 s & 0 & 1 - 2 r - 2 \\left( 1 - r - s \\right) + 2 s &  - 4 r & 4 r & 4 \\left( 1 - r - s \\right) - 4 s \\\\\n",
       "\\end{array}\n",
       "\\right]\n",
       "\\end{equation}\n",
       " $$"
      ],
      "text/plain": [
       "2×6 Matrix{Num}:\n",
       " -1 + 2.0r - 2.0(1 - r - s) + 2.0s  …  4s                -4s\n",
       " -1 + 2.0r - 2.0(1 - r - s) + 2.0s     4r  4(1 - r - s) - 4s"
      ]
     },
     "metadata": {},
     "output_type": "display_data"
    }
   ],
   "source": [
    "# Funciones de interpolación para un elemento isoparamétrico triangular de 3 nodos\n",
    "H = [h1 h2 h3 h4 h5 h6]\n",
    "∇H = [transpose([expand_derivatives.(Dr(H[i])) for i in 1:6]); transpose([expand_derivatives.(Ds(H[i])) for i in 1:6])]"
   ]
  },
  {
   "cell_type": "code",
   "execution_count": 8,
   "id": "d856883e",
   "metadata": {},
   "outputs": [],
   "source": [
    "x = expand((H * NodalCoords[:,1])[1])\n",
    "y = expand((H * NodalCoords[:,2])[1]);"
   ]
  },
  {
   "cell_type": "code",
   "execution_count": 39,
   "id": "38418d29",
   "metadata": {},
   "outputs": [
    {
     "data": {
      "text/latex": [
       "$$ \\begin{equation}\n",
       "\\left[\n",
       "\\begin{array}{cc}\n",
       "3 & 0 \\\\\n",
       "1.5 & 3 \\\\\n",
       "\\end{array}\n",
       "\\right]\n",
       "\\end{equation}\n",
       " $$"
      ],
      "text/plain": [
       "2×2 Matrix{Num}:\n",
       " 3.0  0\n",
       " 1.5  3.0"
      ]
     },
     "metadata": {},
     "output_type": "display_data"
    },
    {
     "data": {
      "text/latex": [
       "$$ \\begin{equation}\n",
       "\\left[\n",
       "\\begin{array}{cc}\n",
       "0.33333 & 0 \\\\\n",
       "-0.16667 & 0.33333 \\\\\n",
       "\\end{array}\n",
       "\\right]\n",
       "\\end{equation}\n",
       " $$"
      ],
      "text/plain": [
       "2×2 Matrix{Num}:\n",
       "  0.333333  0.0\n",
       " -0.166667  0.333333"
      ]
     },
     "metadata": {},
     "output_type": "display_data"
    },
    {
     "data": {
      "text/latex": [
       "$$ \\begin{equation}\n",
       "9\n",
       "\\end{equation}\n",
       " $$"
      ],
      "text/plain": [
       "9.0"
      ]
     },
     "metadata": {},
     "output_type": "display_data"
    }
   ],
   "source": [
    "# J - Jacobiano. Fundamentals of FEA, Koutromanos-pag.240 (ec.8.5.25)\n",
    "J = expand.(∇H * NodalCoords) \n",
    "\n",
    "J_inv = inv(J) # Inversa del Jacobiano\n",
    "J_det = det(J) # Determinante del Jacobiano\n",
    "display(J)\n",
    "display(J_inv)\n",
    "display(J_det)"
   ]
  },
  {
   "cell_type": "code",
   "execution_count": 10,
   "id": "13099efd",
   "metadata": {},
   "outputs": [
    {
     "data": {
      "text/latex": [
       "$$ \\begin{equation}\n",
       "\\left[\n",
       "\\begin{array}{cccccccccccc}\n",
       "-1 + 1.3333 r + 1.3333 s & 0 & -0.33333 + 1.3333 r & 0 & 0 & 0 & 1.3333 - 2.6667 r - 1.3333 s & 0 & 1.3333 s & 0 &  - 1.3333 s & 0 \\\\\n",
       "0 & -0.5 + 0.66667 r + 0.66667 s & 0 & 0.16667 - 0.66667 r & 0 & -0.33333 + 1.3333 s & 0 & -0.66667 + 0.66667 s & 0 & 1.3333 r - 0.66667 s & 0 & 1.3333 - 1.3333 r - 2 s \\\\\n",
       "-0.5 + 0.66667 r + 0.66667 s & -1 + 1.3333 r + 1.3333 s & 0.16667 - 0.66667 r & -0.33333 + 1.3333 r & -0.33333 + 1.3333 s & 0 & -0.66667 + 0.66667 s & 1.3333 - 2.6667 r - 1.3333 s & 1.3333 r - 0.66667 s & 1.3333 s & 1.3333 - 1.3333 r - 2 s &  - 1.3333 s \\\\\n",
       "\\end{array}\n",
       "\\right]\n",
       "\\end{equation}\n",
       " $$"
      ],
      "text/plain": [
       "3×12 Matrix{Num}:\n",
       " -1.0 + 1.33333r + 1.33333s    …   0\n",
       "  0                                1.33333 - 1.33333r - 2.0s\n",
       " -0.5 + 0.666667r + 0.666667s     -1.33333s"
      ]
     },
     "metadata": {},
     "output_type": "display_data"
    }
   ],
   "source": [
    "B1 = expand.( J_inv * ∇H)\n",
    "\n",
    "B = expand.([B1[1,1] 0 B1[1,2] 0 B1[1,3] 0 B1[1,4] 0 B1[1,5] 0 B1[1,6] 0\n",
    "    0 B1[2,1] 0 B1[2,2] 0 B1[2,3] 0 B1[2,4] 0 B1[2,5] 0 B1[2,6]\n",
    "    B1[2,1] B1[1,1] B1[2,2] B1[1,2] B1[2,3] B1[1,3] B1[2,4] B1[1,4] B1[2,5] B1[1,5] B1[2,6] B1[1,6]])"
   ]
  },
  {
   "cell_type": "code",
   "execution_count": 38,
   "id": "1334a42d",
   "metadata": {},
   "outputs": [],
   "source": [
    "#Integramos por medio de cuadratura de Gauss para siete puntos de integración sobre dominios triangulares\n",
    "r1 = 0.1012865073235\n",
    "r2 = 0.7974269853531\n",
    "r3 = r1\n",
    "r4 = 0.4701420641051\n",
    "r5 = r4\n",
    "r6 = 0.0597158717898\n",
    "r7 =  1/3\n",
    "\n",
    "s1 = r1\n",
    "s2 = r1\n",
    "s3 = r2\n",
    "s4 = r6\n",
    "s5 = r4\n",
    "s6 = r4\n",
    "s7 = r7\n",
    "\n",
    "w1 = 0.1259391805448\n",
    "w2 = w1\n",
    "w3 = w1\n",
    "w4 = 0.1323941527885\n",
    "w5 = w4\n",
    "w6 = w4\n",
    "w7 = 0.225\n",
    "\n",
    "GL7T = [r1 s1; r2 s2; r3 s3; r4 s4; r5 s5; r6 s6; r7 s7] # Puntos de Gauss para integración\n",
    "WGL7T = [w1 w2 w3 w4 w5 w6 w7]; # Pesos para  puntos de Gauss\n"
   ]
  },
  {
   "cell_type": "code",
   "execution_count": 12,
   "id": "31b4bf63",
   "metadata": {},
   "outputs": [
    {
     "data": {
      "text/latex": [
       "$$ \\begin{equation}\n",
       "\\left[\n",
       "\\begin{array}{cccccccccccc}\n",
       "1.2548 \\cdot 10^{6} & 3.75 \\cdot 10^{5} & 3.5096 \\cdot 10^{5} & 9615.4 & 67308 & 1.1538 \\cdot 10^{5} & -1.4038 \\cdot 10^{6} & -38462 & 3.8359 \\cdot 10^{-8} & 1.1431 \\cdot 10^{-8} & -2.6923 \\cdot 10^{5} & -4.6154 \\cdot 10^{5} \\\\\n",
       "3.75 \\cdot 10^{5} & 6.9231 \\cdot 10^{5} & -9615.4 & 38462 & 1.3462 \\cdot 10^{5} & 1.9231 \\cdot 10^{5} & 38462 & -1.5385 \\cdot 10^{5} & 1.1423 \\cdot 10^{-8} & 2.1144 \\cdot 10^{-8} & -5.3846 \\cdot 10^{5} & -7.6923 \\cdot 10^{5} \\\\\n",
       "3.5096 \\cdot 10^{5} & -9615.4 & 1.2548 \\cdot 10^{6} & -3.75 \\cdot 10^{5} & 67308 & -1.1538 \\cdot 10^{5} & -1.4038 \\cdot 10^{6} & 38462 & -2.6923 \\cdot 10^{5} & 4.6154 \\cdot 10^{5} & -2.0376 \\cdot 10^{-7} & 4.6508 \\cdot 10^{-8} \\\\\n",
       "9615.4 & 38462 & -3.75 \\cdot 10^{5} & 6.9231 \\cdot 10^{5} & -1.3462 \\cdot 10^{5} & 1.9231 \\cdot 10^{5} & -38462 & -1.5385 \\cdot 10^{5} & 5.3846 \\cdot 10^{5} & -7.6923 \\cdot 10^{5} & 4.3619 \\cdot 10^{-8} & -8.9 \\cdot 10^{-8} \\\\\n",
       "67308 & 1.3462 \\cdot 10^{5} & 67308 & -1.3462 \\cdot 10^{5} & 4.0385 \\cdot 10^{5} & 0 & -5.8673 \\cdot 10^{-8} & -2.03 \\cdot 10^{-8} & -2.6923 \\cdot 10^{5} & 5.3846 \\cdot 10^{5} & -2.6923 \\cdot 10^{5} & -5.3846 \\cdot 10^{5} \\\\\n",
       "1.1538 \\cdot 10^{5} & 1.9231 \\cdot 10^{5} & -1.1538 \\cdot 10^{5} & 1.9231 \\cdot 10^{5} & 0 & 1.1538 \\cdot 10^{6} & -1.7419 \\cdot 10^{-8} & -1.6764 \\cdot 10^{-7} & 4.6154 \\cdot 10^{5} & -7.6923 \\cdot 10^{5} & -4.6154 \\cdot 10^{5} & -7.6923 \\cdot 10^{5} \\\\\n",
       "-1.4038 \\cdot 10^{6} & 38462 & -1.4038 \\cdot 10^{6} & -38462 & -5.8673 \\cdot 10^{-8} & -1.7404 \\cdot 10^{-8} & 3.8846 \\cdot 10^{6} & 1.509 \\cdot 10^{-7} & -5.3846 \\cdot 10^{5} & -1 \\cdot 10^{6} & -5.3846 \\cdot 10^{5} & 1 \\cdot 10^{6} \\\\\n",
       "-38462 & -1.5385 \\cdot 10^{5} & 38462 & -1.5385 \\cdot 10^{5} & -2.03 \\cdot 10^{-8} & -1.6781 \\cdot 10^{-7} & 1.509 \\cdot 10^{-7} & 3.3846 \\cdot 10^{6} & -1 \\cdot 10^{6} & -1.5385 \\cdot 10^{6} & 1 \\cdot 10^{6} & -1.5385 \\cdot 10^{6} \\\\\n",
       "3.8359 \\cdot 10^{-8} & 1.1423 \\cdot 10^{-8} & -2.6923 \\cdot 10^{5} & 5.3846 \\cdot 10^{5} & -2.6923 \\cdot 10^{5} & 4.6154 \\cdot 10^{5} & -5.3846 \\cdot 10^{5} & -1 \\cdot 10^{6} & 3.8846 \\cdot 10^{6} & 1.8018 \\cdot 10^{-7} & -2.8077 \\cdot 10^{6} & -8.3623 \\cdot 10^{-8} \\\\\n",
       "1.146 \\cdot 10^{-8} & 2.1144 \\cdot 10^{-8} & 4.6154 \\cdot 10^{5} & -7.6923 \\cdot 10^{5} & 5.3846 \\cdot 10^{5} & -7.6923 \\cdot 10^{5} & -1 \\cdot 10^{6} & -1.5385 \\cdot 10^{6} & 1.8018 \\cdot 10^{-7} & 3.3846 \\cdot 10^{6} & -6.7514 \\cdot 10^{-8} & -3.0769 \\cdot 10^{5} \\\\\n",
       "-2.6923 \\cdot 10^{5} & -5.3846 \\cdot 10^{5} & -2.038 \\cdot 10^{-7} & 4.3627 \\cdot 10^{-8} & -2.6923 \\cdot 10^{5} & -4.6154 \\cdot 10^{5} & -5.3846 \\cdot 10^{5} & 1 \\cdot 10^{6} & -2.8077 \\cdot 10^{6} & -6.7514 \\cdot 10^{-8} & 3.8846 \\cdot 10^{6} & -2.9017 \\cdot 10^{-8} \\\\\n",
       "-4.6154 \\cdot 10^{5} & -7.6923 \\cdot 10^{5} & 4.6515 \\cdot 10^{-8} & -8.9043 \\cdot 10^{-8} & -5.3846 \\cdot 10^{5} & -7.6923 \\cdot 10^{5} & 1 \\cdot 10^{6} & -1.5385 \\cdot 10^{6} & -8.3623 \\cdot 10^{-8} & -3.0769 \\cdot 10^{5} & -2.9017 \\cdot 10^{-8} & 3.3846 \\cdot 10^{6} \\\\\n",
       "\\end{array}\n",
       "\\right]\n",
       "\\end{equation}\n",
       " $$"
      ],
      "text/plain": [
       "12×12 Matrix{Num}:\n",
       "      1.25481e6   375000.0         …  -2.69231e5   -4.61538e5\n",
       " 375000.0              6.92308e5      -5.38462e5   -7.69231e5\n",
       "      3.50962e5    -9615.38           -2.03756e-7   4.65079e-8\n",
       "   9615.38         38461.5             4.36194e-8  -8.89995e-8\n",
       "  67307.7              1.34615e5      -2.69231e5   -5.38462e5\n",
       "      1.15385e5        1.92308e5   …  -4.61538e5   -7.69231e5\n",
       "     -1.40385e6    38461.5            -5.38462e5    1.0e6\n",
       " -38461.5             -1.53846e5       1.0e6       -1.53846e6\n",
       "      3.83588e-8       1.14233e-8     -2.80769e6   -8.36226e-8\n",
       "      1.14596e-8       2.11439e-8     -6.75136e-8  -3.07692e5\n",
       "     -2.69231e5       -5.38462e5   …   3.88462e6   -2.90165e-8\n",
       "     -4.61538e5       -7.69231e5      -2.90165e-8   3.38462e6"
      ]
     },
     "metadata": {},
     "output_type": "display_data"
    }
   ],
   "source": [
    "K = zeros(12,12) \n",
    "\n",
    "for i in 1:7\n",
    "    Jg = substitute(J, Dict([r => GL7T[i,1], s => GL7T[i,2]]))        \n",
    "    Jg_inv = substitute(J_inv, Dict([r => GL7T[i,1], s => GL7T[i,2]]))\n",
    "    Jg_det = substitute(J_det, Dict([r => GL7T[i,1], s => GL7T[i,2]]))                \n",
    "    Bg = substitute(B, Dict([r => GL7T[i,1], s => GL7T[i,2]]))\n",
    "    \n",
    "    K += 1/2 * (transpose(Bg) * C * Bg * Jg_det * WGL7T[i])\n",
    "        \n",
    "end\n",
    "display(K)"
   ]
  },
  {
   "cell_type": "code",
   "execution_count": 13,
   "id": "cf03d16f",
   "metadata": {},
   "outputs": [
    {
     "data": {
      "text/latex": [
       "$$ \\begin{equation}\n",
       "\\left[\n",
       "\\begin{array}{cccccccccccc}\n",
       "1.2548 \\cdot 10^{6} & 0 & 0 & 0 & 67308 & 1.1538 \\cdot 10^{5} & -1.4038 \\cdot 10^{6} & -38462 & 3.8359 \\cdot 10^{-8} & 1.1431 \\cdot 10^{-8} & -2.6923 \\cdot 10^{5} & -4.6154 \\cdot 10^{5} \\\\\n",
       "0 & 1 & 0 & 0 & 0 & 0 & 0 & 0 & 0 & 0 & 0 & 0 \\\\\n",
       "0 & 0 & 1 & 0 & 0 & 0 & 0 & 0 & 0 & 0 & 0 & 0 \\\\\n",
       "0 & 0 & 0 & 1 & 0 & 0 & 0 & 0 & 0 & 0 & 0 & 0 \\\\\n",
       "67308 & 0 & 0 & 0 & 4.0385 \\cdot 10^{5} & 0 & -5.8673 \\cdot 10^{-8} & -2.03 \\cdot 10^{-8} & -2.6923 \\cdot 10^{5} & 5.3846 \\cdot 10^{5} & -2.6923 \\cdot 10^{5} & -5.3846 \\cdot 10^{5} \\\\\n",
       "1.1538 \\cdot 10^{5} & 0 & 0 & 0 & 0 & 1.1538 \\cdot 10^{6} & -1.7419 \\cdot 10^{-8} & -1.6764 \\cdot 10^{-7} & 4.6154 \\cdot 10^{5} & -7.6923 \\cdot 10^{5} & -4.6154 \\cdot 10^{5} & -7.6923 \\cdot 10^{5} \\\\\n",
       "-1.4038 \\cdot 10^{6} & 0 & 0 & 0 & -5.8673 \\cdot 10^{-8} & -1.7404 \\cdot 10^{-8} & 3.8846 \\cdot 10^{6} & 1.509 \\cdot 10^{-7} & -5.3846 \\cdot 10^{5} & -1 \\cdot 10^{6} & -5.3846 \\cdot 10^{5} & 1 \\cdot 10^{6} \\\\\n",
       "-38462 & 0 & 0 & 0 & -2.03 \\cdot 10^{-8} & -1.6781 \\cdot 10^{-7} & 1.509 \\cdot 10^{-7} & 3.3846 \\cdot 10^{6} & -1 \\cdot 10^{6} & -1.5385 \\cdot 10^{6} & 1 \\cdot 10^{6} & -1.5385 \\cdot 10^{6} \\\\\n",
       "3.8359 \\cdot 10^{-8} & 0 & 0 & 0 & -2.6923 \\cdot 10^{5} & 4.6154 \\cdot 10^{5} & -5.3846 \\cdot 10^{5} & -1 \\cdot 10^{6} & 3.8846 \\cdot 10^{6} & 1.8018 \\cdot 10^{-7} & -2.8077 \\cdot 10^{6} & -8.3623 \\cdot 10^{-8} \\\\\n",
       "1.146 \\cdot 10^{-8} & 0 & 0 & 0 & 5.3846 \\cdot 10^{5} & -7.6923 \\cdot 10^{5} & -1 \\cdot 10^{6} & -1.5385 \\cdot 10^{6} & 1.8018 \\cdot 10^{-7} & 3.3846 \\cdot 10^{6} & -6.7514 \\cdot 10^{-8} & -3.0769 \\cdot 10^{5} \\\\\n",
       "-2.6923 \\cdot 10^{5} & 0 & 0 & 0 & -2.6923 \\cdot 10^{5} & -4.6154 \\cdot 10^{5} & -5.3846 \\cdot 10^{5} & 1 \\cdot 10^{6} & -2.8077 \\cdot 10^{6} & -6.7514 \\cdot 10^{-8} & 3.8846 \\cdot 10^{6} & -2.9017 \\cdot 10^{-8} \\\\\n",
       "-4.6154 \\cdot 10^{5} & 0 & 0 & 0 & -5.3846 \\cdot 10^{5} & -7.6923 \\cdot 10^{5} & 1 \\cdot 10^{6} & -1.5385 \\cdot 10^{6} & -8.3623 \\cdot 10^{-8} & -3.0769 \\cdot 10^{5} & -2.9017 \\cdot 10^{-8} & 3.3846 \\cdot 10^{6} \\\\\n",
       "\\end{array}\n",
       "\\right]\n",
       "\\end{equation}\n",
       " $$"
      ],
      "text/plain": [
       "12×12 Matrix{Num}:\n",
       "      1.25481e6   0  0  0  67307.7         …  -2.69231e5   -4.61538e5\n",
       "      0           1  0  0      0               0            0\n",
       "      0           0  1  0      0               0            0\n",
       "      0           0  0  1      0               0            0\n",
       "  67307.7         0  0  0      4.03846e5      -2.69231e5   -5.38462e5\n",
       "      1.15385e5   0  0  0      0.0         …  -4.61538e5   -7.69231e5\n",
       "     -1.40385e6   0  0  0     -5.86733e-8     -5.38462e5    1.0e6\n",
       " -38461.5         0  0  0     -2.02999e-8      1.0e6       -1.53846e6\n",
       "      3.83588e-8  0  0  0     -2.69231e5      -2.80769e6   -8.36226e-8\n",
       "      1.14596e-8  0  0  0      5.38462e5      -6.75136e-8  -3.07692e5\n",
       "     -2.69231e5   0  0  0     -2.69231e5   …   3.88462e6   -2.90165e-8\n",
       "     -4.61538e5   0  0  0     -5.38462e5      -2.90165e-8   3.38462e6"
      ]
     },
     "metadata": {},
     "output_type": "display_data"
    }
   ],
   "source": [
    " # Imponemos condiciones de contorno de Dirichlet\n",
    " # U1y=0 => U2=0\n",
    "    K[2,:] .= 0\n",
    "    K[:,2] .= 0\n",
    "    K[2,2] =1\n",
    " # U2x=0 => U3=0\n",
    "    K[3,:] .= 0\n",
    "    K[:,3] .= 0\n",
    "    K[3,3] =1\n",
    " # U2y=0 => U4=0\n",
    "    K[4,:] .= 0\n",
    "    K[:,4] .= 0\n",
    "    K[4,4] =1\n",
    "\n",
    "display(K)"
   ]
  },
  {
   "cell_type": "code",
   "execution_count": 14,
   "id": "4d16533b",
   "metadata": {},
   "outputs": [],
   "source": [
    "#= \\(A,B)\n",
    "Matrix division using a polyalgorithm. For input matrices A and B, the result X is such that A*X == B when A is square. \n",
    "The solver that is used depends upon the structure of A. If A is upper or lower triangular (or diagonal), no factorization \n",
    "of A is required and the system is solved with either forward or backward substitution. For non-triangular square matrices, \n",
    "an LU factorization is used.\n",
    "=#"
   ]
  },
  {
   "cell_type": "code",
   "execution_count": 31,
   "id": "fe3b4915",
   "metadata": {},
   "outputs": [
    {
     "data": {
      "text/latex": [
       "$$ \\begin{equation}\n",
       "\\left[\n",
       "\\begin{array}{c}\n",
       "0.00071429 \\\\\n",
       "0 \\\\\n",
       "0 \\\\\n",
       "0 \\\\\n",
       "0.0048214 \\\\\n",
       "0.00017857 \\\\\n",
       "0.00032143 \\\\\n",
       "0.00017857 \\\\\n",
       "0.0014554 \\\\\n",
       "-0.00047321 \\\\\n",
       "0.0014554 \\\\\n",
       "0.00084821 \\\\\n",
       "\\end{array}\n",
       "\\right]\n",
       "\\end{equation}\n",
       " $$"
      ],
      "text/plain": [
       "12-element Vector{Num}:\n",
       "  0.0007142857142859171\n",
       "  0.0\n",
       "  0.0\n",
       "  0.0\n",
       "  0.004821428571429651\n",
       "  0.00017857142857164574\n",
       "  0.0003214285714286487\n",
       "  0.00017857142857155732\n",
       "  0.0014553571428574355\n",
       " -0.00047321428571432537\n",
       "  0.0014553571428574195\n",
       "  0.0008482142857146421"
      ]
     },
     "metadata": {},
     "output_type": "display_data"
    },
    {
     "data": {
      "text/latex": [
       "$$ \\begin{equation}\n",
       "\\left[\n",
       "\\begin{array}{cccccc}\n",
       "-0.00028571 & -0.00019048 & 0.0002381 & -0.0002381 & 2.381 \\cdot 10^{-5} & -2.381 \\cdot 10^{-5} \\\\\n",
       "0.00095238 & -0.00080952 & -7.1429 \\cdot 10^{-5} & 7.1429 \\cdot 10^{-5} & -0.00044048 & 0.00044048 \\\\\n",
       "0 & 0 & 0.0012381 & 0 & 0.00061905 & 0.00061905 \\\\\n",
       "\\end{array}\n",
       "\\right]\n",
       "\\end{equation}\n",
       " $$"
      ],
      "text/plain": [
       "3×6 Matrix{Num}:\n",
       " -0.000285714  -0.000190476   0.000238095  …   2.38095e-5   -2.38095e-5\n",
       "  0.000952381  -0.000809524  -7.14286e-5      -0.000440476   0.000440476\n",
       "  0             0             0.0012381        0.000619048   0.000619048"
      ]
     },
     "metadata": {},
     "output_type": "display_data"
    },
    {
     "data": {
      "text/latex": [
       "$$ \\begin{equation}\n",
       "\\left[\n",
       "\\begin{array}{cccccc}\n",
       "0 & -1000 & 500 & -500 & -250 & 250 \\\\\n",
       "2000 & -2000 & 0 & 0 & -1000 & 1000 \\\\\n",
       "0 & 0 & 1000 & 0 & 500 & 500 \\\\\n",
       "\\end{array}\n",
       "\\right]\n",
       "\\end{equation}\n",
       " $$"
      ],
      "text/plain": [
       "3×6 Matrix{Num}:\n",
       "    0    -1000.0   500.0  -500.0   -250.0   250.0\n",
       " 2000.0  -2000.0     0       0    -1000.0  1000.0\n",
       "    0        0    1000.0     0      500.0   500.0"
      ]
     },
     "metadata": {},
     "output_type": "display_data"
    }
   ],
   "source": [
    "# CASO 1. F1 = 500kgf ; F2 = 0kgf\n",
    "\n",
    "R1 =[0, 0, 0, 0, 500., 0, 0, 0, 0, 0, 0, 0] # Fuerzas nodales en kgf.\n",
    "U1 = K \\ R1 # U1 --> Desplazamientos nodales.\n",
    "display(U1)\n",
    "E1 = B * U1 # E1 --> vector de deformaciones caso de carga 1. Voigt notation\n",
    "σ1 = C * E1 # σ1 --> vector de esfuerzos, caso de carga 1.\n",
    "\n",
    "# Matriz de deformaciones y de esfuerzos nodales\n",
    "Enodal1 = zeros(Num,3,6)\n",
    "σNodal1 = zeros(Num,3,6)\n",
    "\n",
    "ParamCoords = [0 0; 1 0; 0 1; 1/2 0; 1/2 1/2; 0 1/2]\n",
    "\n",
    "for i in 1:6, j in 1:3\n",
    "    Enodal1[j,i] = substitute(E1[j], Dict([r => ParamCoords[i,1], s => ParamCoords[i,2]]))\n",
    "    if (abs(Enodal1[j,i]) <= 1E-8)  Enodal1[j,i] = 0 end\n",
    "    σNodal1[j,i] = substitute(σ1[j], Dict([r => ParamCoords[i,1], s => ParamCoords[i,2]]))\n",
    "    if (abs(σNodal1[j,i]) <= 1E-8)  σNodal1[j,i] = 0 end\n",
    "end\n",
    "\n",
    "display(Enodal1)\n",
    "display(σNodal1)\n",
    "\n",
    "#=\n",
    "# Deformaciones en los puntos de Gauss.\n",
    "EGauss1 = zeros(Num,3,7)\n",
    "SigmaGauss1 = zeros(Num,3,7)\n",
    "\n",
    "for i in 1:7, j in 1:3\n",
    "    EGauss1[j,i] = substitute(E1[j], Dict(r => GL7T[i,1], s => GL7T[i,2]),)\n",
    "    SigmaGauss1[j,i] = substitute(σ1[j], Dict(r => GL7T[i,1], s => GL7T[i,2]),)\n",
    "end\n",
    "display(EGauss1)\n",
    "display(SigmaGauss1)\n",
    "=#"
   ]
  },
  {
   "cell_type": "code",
   "execution_count": 37,
   "id": "03de5295",
   "metadata": {},
   "outputs": [
    {
     "data": {
      "text/latex": [
       "$$ \\begin{equation}\n",
       "0.0004127\n",
       "\\end{equation}\n",
       " $$"
      ],
      "text/plain": [
       "0.00041269841269847026"
      ]
     },
     "metadata": {},
     "output_type": "display_data"
    }
   ],
   "source": [
    "sum(Enodal1[3,:]) / length(Enodal1[3,:])"
   ]
  },
  {
   "cell_type": "code",
   "execution_count": 27,
   "id": "bc290692",
   "metadata": {},
   "outputs": [
    {
     "data": {
      "text/latex": [
       "$$ \\begin{equation}\n",
       "333.33\n",
       "\\end{equation}\n",
       " $$"
      ],
      "text/plain": [
       "333.3333333333798"
      ]
     },
     "metadata": {},
     "output_type": "display_data"
    }
   ],
   "source": [
    "sum(σNodal1[3,:]) / length(σNodal1[3,:])"
   ]
  },
  {
   "cell_type": "code",
   "execution_count": 16,
   "id": "6021e6f3",
   "metadata": {},
   "outputs": [
    {
     "data": {
      "text/latex": [
       "$$ \\begin{equation}\n",
       "\\left[\n",
       "\\begin{array}{cccccc}\n",
       "-0.00011905 & -0.00011905 & 9.5238 \\cdot 10^{-5} & -0.00011905 & -1.1905 \\cdot 10^{-5} & -1.1905 \\cdot 10^{-5} \\\\\n",
       "3.5714 \\cdot 10^{-5} & 3.5714 \\cdot 10^{-5} & 0.00040476 & 3.5714 \\cdot 10^{-5} & 0.00022024 & 0.00022024 \\\\\n",
       "0.00061905 & -0.00061905 & 0 & 0 & -0.00030952 & 0.00030952 \\\\\n",
       "\\end{array}\n",
       "\\right]\n",
       "\\end{equation}\n",
       " $$"
      ],
      "text/plain": [
       "3×6 Matrix{Num}:\n",
       " -0.000119048  -0.000119048  9.52381e-5   …  -1.19048e-5   -1.19048e-5\n",
       "  3.57143e-5    3.57143e-5   0.000404762      0.000220238   0.000220238\n",
       "  0.000619048  -0.000619048  0               -0.000309524   0.000309524"
      ]
     },
     "metadata": {},
     "output_type": "display_data"
    },
    {
     "data": {
      "text/latex": [
       "$$ \\begin{equation}\n",
       "\\left[\n",
       "\\begin{array}{cccccc}\n",
       "-250 & -250 & 500 & -250 & 125 & 125 \\\\\n",
       "0 & 0 & 1000 & 0 & 500 & 500 \\\\\n",
       "500 & -500 & 0 & 0 & -250 & 250 \\\\\n",
       "\\end{array}\n",
       "\\right]\n",
       "\\end{equation}\n",
       " $$"
      ],
      "text/plain": [
       "3×6 Matrix{Num}:\n",
       " -250.0  -250.0   500.0  -250.0   125.0  125.0\n",
       "    0       0    1000.0     0     500.0  500.0\n",
       "  500.0  -500.0     0       0    -250.0  250.0"
      ]
     },
     "metadata": {},
     "output_type": "display_data"
    }
   ],
   "source": [
    "# CASO 2. F1 = 0kgf ; F2 = 500kgf\n",
    "\n",
    "R2 =[0, 0, 0, 0, 0, 500, 0, 0, 0, 0, 0, 0] # Fuerzas nodales en kgf.\n",
    "U2 = K \\ R2 # U3 --> Desplazamientos nodales.\n",
    "E2 = B * U2\n",
    "σ2 = C * E2\n",
    "\n",
    "# Matriz de deformaciones nodales\n",
    "σNodal2 = zeros(Num,3,6)\n",
    "Enodal2 = zeros(Num,3,6)\n",
    "CoordEl = [0 0; 1 0; 0 1; 1/2 0; 1/2 1/2; 0 1/2]\n",
    "\n",
    "for i in 1:6, j in 1:3\n",
    "    Enodal2[j,i] = substitute(E2[j], Dict(r => CoordEl[i,1], s => CoordEl[i,2]),)\n",
    "    if (abs(Enodal2[j,i]) <= 1E-8)  Enodal2[j,i] = 0 end\n",
    "    σNodal2[j,i] = substitute(σ2[j], Dict(r => CoordEl[i,1], s => CoordEl[i,2]),)\n",
    "    if (abs(σNodal2[j,i]) <= 1E-8)  σNodal2[j,i] = 0 end\n",
    "end\n",
    "display(Enodal2)\n",
    "display(σNodal2)\n",
    "\n",
    "#=\n",
    "# Deformaciones en los puntos de Gauss.\n",
    "#Caso 2.\n",
    "EGauss2 = zeros(Num,3,7)\n",
    "SigmaGauss2 = zeros(Num,3,7)\n",
    "\n",
    "for i in 1:7, j in 1:3\n",
    "    EGauss2[j,i] = substitute(E2[j], Dict(r => GL7T[i,1], s => GL7T[i,2]),)\n",
    "    SigmaGauss2[j,i] = substitute(σ2[j], Dict(r => GL7T[i,1], s => GL7T[i,2]),)\n",
    "end\n",
    "display(EGauss2)\n",
    "display(SigmaGauss2)\n",
    "=#"
   ]
  },
  {
   "cell_type": "code",
   "execution_count": 17,
   "id": "e6dad534",
   "metadata": {},
   "outputs": [
    {
     "data": {
      "text/latex": [
       "$$ \\begin{equation}\n",
       "\\left[\n",
       "\\begin{array}{cccccc}\n",
       "-0.00040476 & -0.00030952 & 0.00033333 & -0.00035714 & 1.1905 \\cdot 10^{-5} & -3.5714 \\cdot 10^{-5} \\\\\n",
       "0.0009881 & -0.00077381 & 0.00033333 & 0.00010714 & -0.00022024 & 0.00066071 \\\\\n",
       "0.00061905 & -0.00061905 & 0.0012381 & 0 & 0.00030952 & 0.00092857 \\\\\n",
       "\\end{array}\n",
       "\\right]\n",
       "\\end{equation}\n",
       " $$"
      ],
      "text/plain": [
       "3×6 Matrix{Num}:\n",
       " -0.000404762  -0.000309524  0.000333333  …   1.19048e-5   -3.57143e-5\n",
       "  0.000988095  -0.00077381   0.000333333     -0.000220238   0.000660714\n",
       "  0.000619048  -0.000619048  0.0012381        0.000309524   0.000928571"
      ]
     },
     "metadata": {},
     "output_type": "display_data"
    },
    {
     "data": {
      "text/latex": [
       "$$ \\begin{equation}\n",
       "\\left[\n",
       "\\begin{array}{cccccc}\n",
       "-250 & -1250 & 1000 & -750 & -125 & 375 \\\\\n",
       "2000 & -2000 & 1000 & 0 & -500 & 1500 \\\\\n",
       "500 & -500 & 1000 & 0 & 250 & 750 \\\\\n",
       "\\end{array}\n",
       "\\right]\n",
       "\\end{equation}\n",
       " $$"
      ],
      "text/plain": [
       "3×6 Matrix{Num}:\n",
       " -250.0  -1250.0  1000.0  -750.0  -125.0   375.0\n",
       " 2000.0  -2000.0  1000.0     0    -500.0  1500.0\n",
       "  500.0   -500.0  1000.0     0     250.0   750.0"
      ]
     },
     "metadata": {},
     "output_type": "display_data"
    }
   ],
   "source": [
    "# CASO 3. F1 = 500kgf ; F2 = 500kgf\n",
    "\n",
    "R3 =[0, 0, 0, 0, 500, 500, 0, 0, 0, 0, 0, 0] # Fuerzas nodales en kgf.\n",
    "U3 = K \\ R3 # U3 --> Desplazamientos nodales.\n",
    "E3 = B * U3\n",
    "σ3 = C * E3\n",
    "\n",
    "# Matriz de deformaciones nodales\n",
    "Enodal3 = zeros(Num,3,6)\n",
    "σNodal3 = zeros(Num,3,6)\n",
    "CoordEl = [0 0; 1 0; 0 1; 1/2 0; 1/2 1/2; 0 1/2]\n",
    "\n",
    "for i in 1:6, j in 1:3\n",
    "    Enodal3[j,i] = substitute(E3[j], Dict(r => CoordEl[i,1], s => CoordEl[i,2]),)\n",
    "    if (abs(Enodal3[j,i]) <= 1E-8)  Enodal3[j,i] = 0 end\n",
    "    σNodal3[j,i] = substitute(σ3[j], Dict(r => CoordEl[i,1], s => CoordEl[i,2]),)\n",
    "    if (abs(σNodal3[j,i]) <= 1E-8)  σNodal3[j,i] = 0 end\n",
    "end\n",
    "display(Enodal3)\n",
    "display(σNodal3)\n",
    "\n",
    "#=\n",
    "# Deformaciones en los puntos de Gauss.\n",
    "#Caso 3.\n",
    "EGauss3 = zeros(Num,3,7)\n",
    "SigmaGauss3 = zeros(Num,3,7)\n",
    "\n",
    "for i in 1:7, j in 1:3\n",
    "    EGauss3[j,i] = substitute(E3[j], Dict(r => GL7T[i,1], s => GL7T[i,2]),)\n",
    "    SigmaGauss3[j,i] = substitute(σ3[j], Dict(r => GL7T[i,1], s => GL7T[i,2]),)\n",
    "end\n",
    "display(EGauss3)\n",
    "display(SigmaGauss3)\n",
    "=#"
   ]
  }
 ],
 "metadata": {
  "kernelspec": {
   "display_name": "Julia 1.10.2",
   "language": "julia",
   "name": "julia-1.10"
  },
  "language_info": {
   "file_extension": ".jl",
   "mimetype": "application/julia",
   "name": "julia",
   "version": "1.10.2"
  }
 },
 "nbformat": 4,
 "nbformat_minor": 5
}
