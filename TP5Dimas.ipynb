{
 "cells": [
  {
   "cell_type": "code",
   "execution_count": 1,
   "metadata": {},
   "outputs": [],
   "source": [
    "using LinearAlgebra, LaTeXStrings, Symbolics "
   ]
  },
  {
   "cell_type": "code",
   "execution_count": 2,
   "metadata": {},
   "outputs": [
    {
     "data": {
      "text/latex": [
       "$$ \\begin{equation}\n",
       "\\left[\n",
       "\\begin{array}{c}\n",
       "u \\\\\n",
       "v \\\\\n",
       "\\end{array}\n",
       "\\right]\n",
       "\\end{equation}\n",
       " $$"
      ],
      "text/plain": [
       "2-element Vector{Num}:\n",
       " u\n",
       " v"
      ]
     },
     "metadata": {},
     "output_type": "display_data"
    }
   ],
   "source": [
    "@variables u, v"
   ]
  },
  {
   "cell_type": "code",
   "execution_count": 3,
   "metadata": {},
   "outputs": [
    {
     "data": {
      "text/latex": [
       "$$ \\begin{equation}\n",
       "0.5 \\left( u^{2} - v^{2} \\right)\n",
       "\\end{equation}\n",
       " $$"
      ],
      "text/plain": [
       "0.5(u^2 - (v^2))"
      ]
     },
     "metadata": {},
     "output_type": "display_data"
    }
   ],
   "source": [
    "x = 1/2 * (u^2 - v^2)"
   ]
  },
  {
   "cell_type": "code",
   "execution_count": 4,
   "metadata": {},
   "outputs": [
    {
     "data": {
      "text/latex": [
       "$$ \\begin{equation}\n",
       "u v\n",
       "\\end{equation}\n",
       " $$"
      ],
      "text/plain": [
       "u*v"
      ]
     },
     "metadata": {},
     "output_type": "display_data"
    }
   ],
   "source": [
    "y = u * v"
   ]
  },
  {
   "cell_type": "code",
   "execution_count": 5,
   "metadata": {},
   "outputs": [
    {
     "data": {
      "text/latex": [
       "$$ \\begin{equation}\n",
       "\\sqrt{0.25 \\left( u^{2} - v^{2} \\right)^{2} + v^{2} u^{2}}\n",
       "\\end{equation}\n",
       " $$"
      ],
      "text/plain": [
       "sqrt(0.25((u^2 - (v^2))^2) + (u^2)*(v^2))"
      ]
     },
     "metadata": {},
     "output_type": "display_data"
    }
   ],
   "source": [
    "sqrt(x^2 + y^2)"
   ]
  },
  {
   "cell_type": "code",
   "execution_count": 6,
   "metadata": {},
   "outputs": [
    {
     "data": {
      "text/latex": [
       "$$ \\begin{equation}\n",
       "\\sqrt{\\frac{1}{4} \\left( u^{2} - v^{2} \\right)^{2} + v^{2} u^{2}}\n",
       "\\end{equation}\n",
       " $$"
      ],
      "text/plain": [
       "sqrt((1//4)*((u^2 - (v^2))^2) + (u^2)*(v^2))"
      ]
     },
     "metadata": {},
     "output_type": "display_data"
    }
   ],
   "source": [
    "r = sqrt(1//4 * (u^2 - v^2)^2 + u^2 * v^2)"
   ]
  },
  {
   "cell_type": "code",
   "execution_count": 7,
   "metadata": {},
   "outputs": [
    {
     "data": {
      "text/latex": [
       "$$ \\begin{equation}\n",
       "\\arctan\\left( \\frac{2 u v}{u^{2} - v^{2}} \\right)\n",
       "\\end{equation}\n",
       " $$"
      ],
      "text/plain": [
       "atan((2u*v) / (u^2 - (v^2)))"
      ]
     },
     "metadata": {},
     "output_type": "display_data"
    }
   ],
   "source": [
    "θ = atan(2 * u * v / (u^2 - v^2))"
   ]
  },
  {
   "cell_type": "code",
   "execution_count": 8,
   "metadata": {},
   "outputs": [
    {
     "data": {
      "text/plain": [
       "(::Differential) (generic function with 3 methods)"
      ]
     },
     "metadata": {},
     "output_type": "display_data"
    }
   ],
   "source": [
    "Du = Differential(u)\n",
    "Dv = Differential(v)"
   ]
  },
  {
   "cell_type": "code",
   "execution_count": 17,
   "metadata": {},
   "outputs": [
    {
     "data": {
      "text/latex": [
       "$$ \\begin{equation}\n",
       "\\sqrt{\\frac{1}{4} \\left( u^{2} - v^{2} \\right)^{2} + v^{2} u^{2}}\n",
       "\\end{equation}\n",
       " $$"
      ],
      "text/plain": [
       "sqrt((1//4)*((u^2 - (v^2))^2) + (u^2)*(v^2))"
      ]
     },
     "metadata": {},
     "output_type": "display_data"
    }
   ],
   "source": [
    "simplify(sqrt(1//4 * (u^2 - v^2)^2 + u^2 * v^2))"
   ]
  },
  {
   "cell_type": "code",
   "execution_count": 10,
   "metadata": {},
   "outputs": [
    {
     "data": {
      "text/latex": [
       "$$ \\begin{equation}\n",
       "\\frac{u^{3} + v^{2} u}{2 \\sqrt{\\frac{1}{4} \\left( u^{2} - v^{2} \\right)^{2} + v^{2} u^{2}}}\n",
       "\\end{equation}\n",
       " $$"
      ],
      "text/plain": [
       "(u^3 + u*(v^2)) / (2sqrt((1//4)*((u^2 - (v^2))^2) + (u^2)*(v^2)))"
      ]
     },
     "metadata": {},
     "output_type": "display_data"
    }
   ],
   "source": [
    "∂r∂u = simplify(expand_derivatives(Du(r)))"
   ]
  },
  {
   "cell_type": "code",
   "execution_count": 11,
   "metadata": {},
   "outputs": [
    {
     "data": {
      "text/latex": [
       "$$ \\begin{equation}\n",
       "\\frac{u^{2} v + v^{3}}{2 \\sqrt{\\frac{1}{4} \\left( u^{2} - v^{2} \\right)^{2} + v^{2} u^{2}}}\n",
       "\\end{equation}\n",
       " $$"
      ],
      "text/plain": [
       "((u^2)*v + v^3) / (2sqrt((1//4)*((u^2 - (v^2))^2) + (u^2)*(v^2)))"
      ]
     },
     "metadata": {},
     "output_type": "display_data"
    }
   ],
   "source": [
    "∂r∂v = simplify(expand_derivatives(Dv(r)))"
   ]
  },
  {
   "cell_type": "code",
   "execution_count": 12,
   "metadata": {},
   "outputs": [
    {
     "data": {
      "text/latex": [
       "$$ \\begin{equation}\n",
       "\\frac{v}{ - 0.5 u^{2} - 0.5 v^{2}}\n",
       "\\end{equation}\n",
       " $$"
      ],
      "text/plain": [
       "v / (-0.5(u^2) - 0.5(v^2))"
      ]
     },
     "metadata": {},
     "output_type": "display_data"
    }
   ],
   "source": [
    "∂θ∂u = simplify(expand_derivatives(Du(θ)))"
   ]
  },
  {
   "cell_type": "code",
   "execution_count": 13,
   "metadata": {},
   "outputs": [
    {
     "data": {
      "text/latex": [
       "$$ \\begin{equation}\n",
       "\\frac{u}{0.5 u^{2} + 0.5 v^{2}}\n",
       "\\end{equation}\n",
       " $$"
      ],
      "text/plain": [
       "u / (0.5(u^2) + 0.5(v^2))"
      ]
     },
     "metadata": {},
     "output_type": "display_data"
    }
   ],
   "source": [
    "∂θ∂v = simplify(expand_derivatives(Dv(θ)))"
   ]
  }
 ],
 "metadata": {
  "kernelspec": {
   "display_name": "Julia 1.10.2",
   "language": "julia",
   "name": "julia-1.10"
  },
  "language_info": {
   "file_extension": ".jl",
   "mimetype": "application/julia",
   "name": "julia",
   "version": "1.10.2"
  }
 },
 "nbformat": 4,
 "nbformat_minor": 2
}
