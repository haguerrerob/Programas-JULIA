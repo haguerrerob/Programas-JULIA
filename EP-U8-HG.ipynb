{
 "cells": [
  {
   "cell_type": "code",
   "execution_count": 2,
   "id": "cffc2655",
   "metadata": {},
   "outputs": [],
   "source": [
    "#=\n",
    "\\equiv+TAB -> ≡ -> ===\n",
    "\\nequiv+TAB -> ≢  -> !===\n",
    "\\ne+TAB -> ≠ -> !==\n",
    "\\ge+TAB -> ≥ -> >=\n",
    "\\le+TAB -> ≤ -> <=\n",
    "\\in+TAB -> ∈ -> in\n",
    "\\notin+TAB -> ∉ -> notin\n",
    "\\euler+TAB -> ℯ\n",
    "\\pi+TAB -> π\n",
    "=#"
   ]
  },
  {
   "cell_type": "code",
   "execution_count": 3,
   "id": "4bbca821",
   "metadata": {},
   "outputs": [],
   "source": [
    "#=\n",
    "Objetos tipo rango\n",
    "range₁ = Base.OneTo(10)\n",
    "typeof(range₁)\n",
    "for i in range₁\n",
    "    display(i)\n",
    "end\n",
    "=#"
   ]
  },
  {
   "cell_type": "code",
   "execution_count": 4,
   "id": "7a6e2365-2771-45e2-9bf0-14071493cc50",
   "metadata": {},
   "outputs": [],
   "source": [
    "using LinearAlgebra, Symbolics, LaTeXStrings, Latexify, SymbolicUtils"
   ]
  },
  {
   "cell_type": "code",
   "execution_count": 5,
   "id": "88a01e3b",
   "metadata": {},
   "outputs": [
    {
     "data": {
      "text/plain": [
       "true"
      ]
     },
     "metadata": {},
     "output_type": "display_data"
    }
   ],
   "source": [
    "SymbolicUtils.show_simplified[] = true"
   ]
  },
  {
   "cell_type": "code",
   "execution_count": 6,
   "id": "aeaa4db8-3659-4b10-ab09-d70784daa386",
   "metadata": {},
   "outputs": [
    {
     "data": {
      "text/latex": [
       "$$ \\begin{equation}\n",
       "\\left[\n",
       "\\begin{array}{c}\n",
       "r \\\\\n",
       "s \\\\\n",
       "h_{1}\\left( r, s \\right) \\\\\n",
       "h_{2}\\left( r, s \\right) \\\\\n",
       "h_{3}\\left( r, s \\right) \\\\\n",
       "h_{4}\\left( r, s \\right) \\\\\n",
       "x\\left( r, s \\right) \\\\\n",
       "y\\left( r, s \\right) \\\\\n",
       "\\end{array}\n",
       "\\right]\n",
       "\\end{equation}\n",
       " $$"
      ],
      "text/plain": [
       "8-element Vector{Num}:\n",
       "         r\n",
       "         s\n",
       " h_1(r, s)\n",
       " h_2(r, s)\n",
       " h_3(r, s)\n",
       " h_4(r, s)\n",
       "   x(r, s)\n",
       "   y(r, s)"
      ]
     },
     "metadata": {},
     "output_type": "display_data"
    }
   ],
   "source": [
    "@variables r::Real s::Real h_1(r,s) h_2(r,s) h_3(r,s) h_4(r,s) x(r,s) y(r,s)"
   ]
  },
  {
   "cell_type": "code",
   "execution_count": 7,
   "id": "f455d2c8",
   "metadata": {},
   "outputs": [
    {
     "data": {
      "text/latex": [
       "$$ \\begin{equation}\n",
       "\\left[\n",
       "\\begin{array}{cccc}\n",
       "\\frac{1}{4} \\left( 1 + r \\right) \\left( 1 + s \\right) & \\frac{1}{4} \\left( 1 - r \\right) \\left( 1 + s \\right) & \\frac{1}{4} \\left( 1 - r \\right) \\left( 1 - s \\right) & \\frac{1}{4} \\left( 1 + r \\right) \\left( 1 - s \\right) \\\\\n",
       "\\end{array}\n",
       "\\right]\n",
       "\\end{equation}\n",
       " $$"
      ],
      "text/plain": [
       "1×4 Matrix{Num}:\n",
       " (1//4)*(1 + r)*(1 + s)  (1//4)*(1 - r)*(1 + s)  …  (1//4)*(1 + r)*(1 - s)"
      ]
     },
     "metadata": {},
     "output_type": "display_data"
    }
   ],
   "source": [
    "h_1 = 1//4*(1+r)*(1+s)\n",
    "h_2 = 1//4*(1-r)*(1+s)\n",
    "h_3 = 1//4*(1-r)*(1-s)\n",
    "h_4 = 1//4*(1+r)*(1-s)\n",
    "H = [h_1 h_2 h_3 h_4]"
   ]
  },
  {
   "cell_type": "code",
   "execution_count": 8,
   "id": "651e24b1-3db8-428b-a0f7-0d7e149b6c4d",
   "metadata": {},
   "outputs": [
    {
     "data": {
      "text/plain": [
       "(::Differential) (generic function with 3 methods)"
      ]
     },
     "metadata": {},
     "output_type": "display_data"
    }
   ],
   "source": [
    "Dr = Differential(r)\n",
    "Ds = Differential(s)"
   ]
  },
  {
   "cell_type": "code",
   "execution_count": 9,
   "id": "88ff14f1-2f24-46c1-ba03-b14bb838b1d4",
   "metadata": {},
   "outputs": [
    {
     "data": {
      "text/latex": [
       "$$ \\begin{equation}\n",
       "\\left[\n",
       "\\begin{array}{cccc}\n",
       "\\frac{1}{4} \\left( 1 + s \\right) &  - \\frac{1}{4} \\left( 1 + s \\right) &  - \\frac{1}{4} \\left( 1 - s \\right) & \\frac{1}{4} \\left( 1 - s \\right) \\\\\n",
       "\\frac{1}{4} \\left( 1 + r \\right) & \\frac{1}{4} \\left( 1 - r \\right) &  - \\frac{1}{4} \\left( 1 - r \\right) &  - \\frac{1}{4} \\left( 1 + r \\right) \\\\\n",
       "\\end{array}\n",
       "\\right]\n",
       "\\end{equation}\n",
       " $$"
      ],
      "text/plain": [
       "2×4 Matrix{Num}:\n",
       " (1//4)*(1 + s)  (-1//4)*(1 + s)  (-1//4)*(1 - s)   (1//4)*(1 - s)\n",
       " (1//4)*(1 + r)   (1//4)*(1 - r)  (-1//4)*(1 - r)  (-1//4)*(1 + r)"
      ]
     },
     "metadata": {},
     "output_type": "display_data"
    }
   ],
   "source": [
    "∇H = [transpose([expand_derivatives(Dr(H[i])) for i in 1:4]); transpose([expand_derivatives(Ds(H[i])) for i in 1:4])]"
   ]
  },
  {
   "cell_type": "code",
   "execution_count": 10,
   "id": "cf68fbdc-d7fd-4a65-ab91-2263eb0e66a0",
   "metadata": {},
   "outputs": [
    {
     "data": {
      "text/plain": [
       "4×2 Matrix{Float64}:\n",
       " 0.055  0.04\n",
       " 0.005  0.04\n",
       " 0.0    0.0\n",
       " 0.06   0.0"
      ]
     },
     "metadata": {},
     "output_type": "display_data"
    }
   ],
   "source": [
    "NodalCoords =0.01*[5.5 4; 0.5 4; 0 0; 6 0]"
   ]
  },
  {
   "cell_type": "code",
   "execution_count": 11,
   "id": "4c626443-c106-4d18-a6a1-baf54a99afd6",
   "metadata": {},
   "outputs": [
    {
     "data": {
      "text/latex": [
       "$$ \\begin{equation}\n",
       "0.03 + 0.0275 r - 0.0025 r s\n",
       "\\end{equation}\n",
       " $$"
      ],
      "text/plain": [
       "0.03 + 0.0275r - 0.0025r*s"
      ]
     },
     "metadata": {},
     "output_type": "display_data"
    }
   ],
   "source": [
    "#x=h₁*x₁+h₂*x₂+h₃*x₃+h₄*x₄ \n",
    "#x = expand((H*NodalCoords[:,1])[1])\n",
    "#display(x)\n",
    "x = 0.03+0.0275*r-0.0025*r*s"
   ]
  },
  {
   "cell_type": "code",
   "execution_count": 12,
   "id": "0ee59043-3a45-43b0-ab87-2b8f0da8ad28",
   "metadata": {},
   "outputs": [
    {
     "data": {
      "text/latex": [
       "$$ \\begin{equation}\n",
       "0.02 + 0.02 s\n",
       "\\end{equation}\n",
       " $$"
      ],
      "text/plain": [
       "0.02 + 0.02s"
      ]
     },
     "metadata": {},
     "output_type": "display_data"
    }
   ],
   "source": [
    "# y(r,s)=h₁Y₁+h₂y₂+h₃y₃+h₄y₄ \n",
    "y= expand((H*NodalCoords[:,2])[1])"
   ]
  },
  {
   "cell_type": "code",
   "execution_count": 13,
   "id": "a5736ed4-fdcf-4b64-8ef3-d4b4a4a72f00",
   "metadata": {},
   "outputs": [
    {
     "data": {
      "text/latex": [
       "$$ \\begin{equation}\n",
       "\\left[\n",
       "\\begin{array}{cc}\n",
       "0.0275 - 0.0025 s & 0 \\\\\n",
       " - 0.0025 r & 0.02 \\\\\n",
       "\\end{array}\n",
       "\\right]\n",
       "\\end{equation}\n",
       " $$"
      ],
      "text/plain": [
       "2×2 Matrix{Num}:\n",
       "  0.0275 - 0.0025s  0.0\n",
       " -0.0025r           0.02"
      ]
     },
     "metadata": {},
     "output_type": "display_data"
    }
   ],
   "source": [
    "J =expand.(∇H*NodalCoords)\n",
    "#J = expand.(Grad_H*NodalCoords)\n",
    "J[2,1] = -0.0025*r\n",
    "display(J)"
   ]
  },
  {
   "cell_type": "code",
   "execution_count": 14,
   "id": "8a159e0e",
   "metadata": {},
   "outputs": [
    {
     "name": "stdout",
     "output_type": "stream",
     "text": [
      "\\begin{equation}\n",
      "\\left[\n",
      "\\begin{array}{cc}\n",
      "0.0275 - 0.0025 s & 0 \\\\\n",
      " - 0.0025 r & 0.02 \\\\\n",
      "\\end{array}\n",
      "\\right]\n",
      "\\end{equation}\n",
      "\n"
     ]
    }
   ],
   "source": [
    "println(latexify(J))"
   ]
  },
  {
   "cell_type": "code",
   "execution_count": 15,
   "id": "ade1f9aa-ce13-4883-a31a-44394bd71598",
   "metadata": {},
   "outputs": [
    {
     "data": {
      "text/latex": [
       "$$ \\begin{equation}\n",
       "\\left[\n",
       "\\begin{array}{cc}\n",
       "\\frac{0.02}{0.00055 - 5 \\cdot 10^{-5} s} & -0 \\\\\n",
       "\\frac{0.0025 r}{0.00055 - 5 \\cdot 10^{-5} s} & 50 \\\\\n",
       "\\end{array}\n",
       "\\right]\n",
       "\\end{equation}\n",
       " $$"
      ],
      "text/plain": [
       "2×2 Matrix{Num}:\n",
       "  0.02 / (0.00055 - 5.0e-5s)      -0.0\n",
       " (0.0025r) / (0.00055 - 5.0e-5s)  50.0"
      ]
     },
     "metadata": {},
     "output_type": "display_data"
    }
   ],
   "source": [
    "J_inv = expand.(inv(J))"
   ]
  },
  {
   "cell_type": "code",
   "execution_count": 16,
   "id": "f55f3341-0756-418b-b0bd-72d32fa5988a",
   "metadata": {},
   "outputs": [
    {
     "data": {
      "text/latex": [
       "$$ \\begin{equation}\n",
       "\\frac{0.005 \\left( 1 - s \\right)}{0.00055 - 5 \\cdot 10^{-5} s}\n",
       "\\end{equation}\n",
       " $$"
      ],
      "text/plain": [
       "(0.005(1 - s)) / (0.00055 - 4.9999999999999975e-5s)"
      ]
     },
     "metadata": {},
     "output_type": "display_data"
    }
   ],
   "source": [
    "dh1dx = expand_derivatives(Dr(h_1))*J_inv[1,1] + expand_derivatives(Ds(h_1))*J_inv[1,2]\n",
    "dh2dx = expand_derivatives(Dr(h_2))*J_inv[1,1] + expand_derivatives(Ds(h_2))*J_inv[1,2]\n",
    "dh3dx = expand_derivatives(Dr(h_3))*J_inv[1,1] + expand_derivatives(Ds(h_3))*J_inv[1,2]\n",
    "dh4dx = expand_derivatives(Dr(h_4))*J_inv[1,1] + expand_derivatives(Ds(h_4))*J_inv[1,2]"
   ]
  },
  {
   "cell_type": "code",
   "execution_count": 17,
   "id": "cef9d45e-b543-4f9f-bce9-7cfb56f53488",
   "metadata": {},
   "outputs": [
    {
     "data": {
      "text/latex": [
       "$$ \\begin{equation}\n",
       " - 12.5 \\left( 1 + r \\right) + \\frac{0.000625 r \\left( 1 - s \\right)}{0.00055 - 5 \\cdot 10^{-5} s}\n",
       "\\end{equation}\n",
       " $$"
      ],
      "text/plain": [
       "(-0.006875 - 0.00625r + 0.0006249999999999997s - 3.2526065174565133e-19r*s) / (0.00055 - 4.9999999999999975e-5s)"
      ]
     },
     "metadata": {},
     "output_type": "display_data"
    }
   ],
   "source": [
    "dh1dy = expand_derivatives(Dr(h_1))*J_inv[2,1] + expand_derivatives(Ds(h_1))*J_inv[2,2]\n",
    "dh2dy = expand_derivatives(Dr(h_2))*J_inv[2,1] + expand_derivatives(Ds(h_2))*J_inv[2,2]\n",
    "dh3dy = expand_derivatives(Dr(h_3))*J_inv[2,1] + expand_derivatives(Ds(h_3))*J_inv[2,2]\n",
    "dh4dy = expand_derivatives(Dr(h_4))*J_inv[2,1] + expand_derivatives(Ds(h_4))*J_inv[2,2]"
   ]
  },
  {
   "cell_type": "code",
   "execution_count": 18,
   "id": "c9fea1e3-cd84-459c-a39a-3f6a7ff521eb",
   "metadata": {},
   "outputs": [
    {
     "data": {
      "text/latex": [
       "$$ \\begin{equation}\n",
       "\\left[\n",
       "\\begin{array}{cccccccc}\n",
       "\\frac{0.005 \\left( 1 + s \\right)}{0.00055 - 5 \\cdot 10^{-5} s} & 0 & \\frac{ - 0.005 \\left( 1 + s \\right)}{0.00055 - 5 \\cdot 10^{-5} s} & 0 & \\frac{ - 0.005 \\left( 1 - s \\right)}{0.00055 - 5 \\cdot 10^{-5} s} & 0 & \\frac{0.005 \\left( 1 - s \\right)}{0.00055 - 5 \\cdot 10^{-5} s} & 0 \\\\\n",
       "0 & 12.5 \\left( 1 + r \\right) + \\frac{0.000625 r \\left( 1 + s \\right)}{0.00055 - 5 \\cdot 10^{-5} s} & 0 & 12.5 \\left( 1 - r \\right) + \\frac{ - 0.000625 r \\left( 1 + s \\right)}{0.00055 - 5 \\cdot 10^{-5} s} & 0 &  - 12.5 \\left( 1 - r \\right) + \\frac{ - 0.000625 r \\left( 1 - s \\right)}{0.00055 - 5 \\cdot 10^{-5} s} & 0 &  - 12.5 \\left( 1 + r \\right) + \\frac{0.000625 r \\left( 1 - s \\right)}{0.00055 - 5 \\cdot 10^{-5} s} \\\\\n",
       "12.5 \\left( 1 + r \\right) + \\frac{0.000625 r \\left( 1 + s \\right)}{0.00055 - 5 \\cdot 10^{-5} s} & \\frac{0.005 \\left( 1 + s \\right)}{0.00055 - 5 \\cdot 10^{-5} s} & 12.5 \\left( 1 - r \\right) + \\frac{ - 0.000625 r \\left( 1 + s \\right)}{0.00055 - 5 \\cdot 10^{-5} s} & \\frac{ - 0.005 \\left( 1 + s \\right)}{0.00055 - 5 \\cdot 10^{-5} s} &  - 12.5 \\left( 1 - r \\right) + \\frac{ - 0.000625 r \\left( 1 - s \\right)}{0.00055 - 5 \\cdot 10^{-5} s} & \\frac{ - 0.005 \\left( 1 - s \\right)}{0.00055 - 5 \\cdot 10^{-5} s} &  - 12.5 \\left( 1 + r \\right) + \\frac{0.000625 r \\left( 1 - s \\right)}{0.00055 - 5 \\cdot 10^{-5} s} & \\frac{0.005 \\left( 1 - s \\right)}{0.00055 - 5 \\cdot 10^{-5} s} \\\\\n",
       "\\end{array}\n",
       "\\right]\n",
       "\\end{equation}\n",
       " $$"
      ],
      "text/plain": [
       "3×8 Matrix{Num}:\n",
       " (0.005(1 + s)) / (0.00055 - 5.0e-5s)                                     …    0\n",
       "  0                                                                          (-0.006875 - 0.00625r + 0.000625s - 3.25261e-19r*s) / (0.00055 - 5.0e-5s)\n",
       " (0.006875 + 0.0075r - 0.000625s + 3.25261e-19r*s) / (0.00055 - 5.0e-5s)      (0.005(1 - s)) / (0.00055 - 5.0e-5s)"
      ]
     },
     "metadata": {},
     "output_type": "display_data"
    }
   ],
   "source": [
    "B = [dh1dx 0 dh2dx 0 dh3dx 0 dh4dx 0;\n",
    "    0 dh1dy 0 dh2dy 0 dh3dy 0 dh4dy;\n",
    "    dh1dy dh1dx dh2dy dh2dx dh3dy dh3dx dh4dy dh4dx]"
   ]
  },
  {
   "cell_type": "code",
   "execution_count": 19,
   "id": "99592576",
   "metadata": {},
   "outputs": [
    {
     "name": "stdout",
     "output_type": "stream",
     "text": [
      "\\begin{equation}\n",
      "\\left[\n",
      "\\begin{array}{cccccccc}\n",
      "\\frac{0.005 \\left( 1 + s \\right)}{0.00055 - 5 \\cdot 10^{-5} s} & 0 & \\frac{ - 0.005 \\left( 1 + s \\right)}{0.00055 - 5 \\cdot 10^{-5} s} & 0 & \\frac{ - 0.005 \\left( 1 - s \\right)}{0.00055 - 5 \\cdot 10^{-5} s} & 0 & \\frac{0.005 \\left( 1 - s \\right)}{0.00055 - 5 \\cdot 10^{-5} s} & 0 \\\\\n",
      "0 & 12.5 \\left( 1 + r \\right) + \\frac{0.000625 r \\left( 1 + s \\right)}{0.00055 - 5 \\cdot 10^{-5} s} & 0 & 12.5 \\left( 1 - r \\right) + \\frac{ - 0.000625 r \\left( 1 + s \\right)}{0.00055 - 5 \\cdot 10^{-5} s} & 0 &  - 12.5 \\left( 1 - r \\right) + \\frac{ - 0.000625 r \\left( 1 - s \\right)}{0.00055 - 5 \\cdot 10^{-5} s} & 0 &  - 12.5 \\left( 1 + r \\right) + \\frac{0.000625 r \\left( 1 - s \\right)}{0.00055 - 5 \\cdot 10^{-5} s} \\\\\n",
      "12.5 \\left( 1 + r \\right) + \\frac{0.000625 r \\left( 1 + s \\right)}{0.00055 - 5 \\cdot 10^{-5} s} & \\frac{0.005 \\left( 1 + s \\right)}{0.00055 - 5 \\cdot 10^{-5} s} & 12.5 \\left( 1 - r \\right) + \\frac{ - 0.000625 r \\left( 1 + s \\right)}{0.00055 - 5 \\cdot 10^{-5} s} & \\frac{ - 0.005 \\left( 1 + s \\right)}{0.00055 - 5 \\cdot 10^{-5} s} &  - 12.5 \\left( 1 - r \\right) + \\frac{ - 0.000625 r \\left( 1 - s \\right)}{0.00055 - 5 \\cdot 10^{-5} s} & \\frac{ - 0.005 \\left( 1 - s \\right)}{0.00055 - 5 \\cdot 10^{-5} s} &  - 12.5 \\left( 1 + r \\right) + \\frac{0.000625 r \\left( 1 - s \\right)}{0.00055 - 5 \\cdot 10^{-5} s} & \\frac{0.005 \\left( 1 - s \\right)}{0.00055 - 5 \\cdot 10^{-5} s} \\\\\n",
      "\\end{array}\n",
      "\\right]\n",
      "\\end{equation}\n",
      "\n"
     ]
    }
   ],
   "source": [
    "println(latexify(B))"
   ]
  },
  {
   "cell_type": "code",
   "execution_count": 20,
   "id": "961dec80-c266-487b-ad7e-ce9877b35e7d",
   "metadata": {},
   "outputs": [
    {
     "data": {
      "text/plain": [
       "8-element Vector{Float64}:\n",
       " 0.022\n",
       " 0.001\n",
       " 0.023\n",
       " 0.001\n",
       " 0.02\n",
       " 0.001\n",
       " 0.025\n",
       " 0.001"
      ]
     },
     "metadata": {},
     "output_type": "display_data"
    }
   ],
   "source": [
    "U = [0.022, 0.001, 0.023, 0.001, 0.02, 0.001, 0.025, 0.001]"
   ]
  },
  {
   "cell_type": "code",
   "execution_count": 21,
   "id": "93d50ba9-3586-473b-be9f-e71b098571fb",
   "metadata": {
    "scrolled": true
   },
   "outputs": [
    {
     "data": {
      "text/latex": [
       "$$ \\begin{equation}\n",
       "\\left[\n",
       "\\begin{array}{c}\n",
       "\\frac{-0.0001 + 0.0001 s}{0.00055 - 5 \\cdot 10^{-5} s} + \\frac{0.00011 + 0.00011 s}{0.00055 - 5 \\cdot 10^{-5} s} + \\frac{-0.000115 - 0.000115 s}{0.00055 - 5 \\cdot 10^{-5} s} + \\frac{0.000125 - 0.000125 s}{0.00055 - 5 \\cdot 10^{-5} s} \\\\\n",
       "\\frac{0.001 \\left( 0.000625 r + 0.000625 r s \\right)}{0.00055 - 5 \\cdot 10^{-5} s} + \\frac{0.001 \\left(  - 0.000625 r + 0.000625 r s \\right)}{0.00055 - 5 \\cdot 10^{-5} s} + \\frac{0.001 \\left(  - 0.000625 r - 0.000625 r s \\right)}{0.00055 - 5 \\cdot 10^{-5} s} + \\frac{0.001 \\left( 0.000625 r - 0.000625 r s \\right)}{0.00055 - 5 \\cdot 10^{-5} s} \\\\\n",
       " - 0.075 r + \\frac{-5 \\cdot 10^{-6} + 5 \\cdot 10^{-6} s}{0.00055 - 5 \\cdot 10^{-5} s} + \\frac{5 \\cdot 10^{-6} + 5 \\cdot 10^{-6} s}{0.00055 - 5 \\cdot 10^{-5} s} + \\frac{0.023 \\left(  - 0.000625 r - 0.000625 r s \\right)}{0.00055 - 5 \\cdot 10^{-5} s} + \\frac{0.02 \\left(  - 0.000625 r + 0.000625 r s \\right)}{0.00055 - 5 \\cdot 10^{-5} s} + \\frac{5 \\cdot 10^{-6} - 5 \\cdot 10^{-6} s}{0.00055 - 5 \\cdot 10^{-5} s} + \\frac{-5 \\cdot 10^{-6} - 5 \\cdot 10^{-6} s}{0.00055 - 5 \\cdot 10^{-5} s} + \\frac{0.025 \\left( 0.000625 r - 0.000625 r s \\right)}{0.00055 - 5 \\cdot 10^{-5} s} + \\frac{0.022 \\left( 0.000625 r + 0.000625 r s \\right)}{0.00055 - 5 \\cdot 10^{-5} s} \\\\\n",
       "\\end{array}\n",
       "\\right]\n",
       "\\end{equation}\n",
       " $$"
      ],
      "text/plain": [
       "3-element Vector{Num}:\n",
       " 0\n",
       " 0\n",
       " 0"
      ]
     },
     "metadata": {},
     "output_type": "display_data"
    }
   ],
   "source": [
    "#E = simplify.(expand.(B*U))\n",
    "E = expand.(B*U)"
   ]
  },
  {
   "cell_type": "code",
   "execution_count": 22,
   "id": "b77cd4df",
   "metadata": {},
   "outputs": [
    {
     "data": {
      "text/latex": [
       "$$ \\begin{equation}\n",
       "\\left[\n",
       "\\begin{array}{c}\n",
       "\\frac{2 - 3 s}{55 - 5 s} \\\\\n",
       "0 \\\\\n",
       "\\frac{9.7 r - 37.5 r s}{55 - 5 s} \\\\\n",
       "\\end{array}\n",
       "\\right]\n",
       "\\end{equation}\n",
       " $$"
      ],
      "text/plain": [
       "3-element Vector{Num}:\n",
       " (2 - 3s) / (55 - 5s)\n",
       "                    0\n",
       "                   (9.7r - 37.5r*s) / (55 - 5s)"
      ]
     },
     "metadata": {},
     "output_type": "display_data"
    }
   ],
   "source": [
    "E = [(2-3*s)/(55-5s), 0, (9.7*r-37.5*r*s)/(55-5s)]"
   ]
  },
  {
   "cell_type": "code",
   "execution_count": 23,
   "id": "eb2a9367",
   "metadata": {},
   "outputs": [
    {
     "data": {
      "text/latex": [
       "$$ \\begin{equation}\n",
       "0.00055 - 5 \\cdot 10^{-5} s\n",
       "\\end{equation}\n",
       " $$"
      ],
      "text/plain": [
       "0.00055 - 5.0e-5s"
      ]
     },
     "metadata": {},
     "output_type": "display_data"
    }
   ],
   "source": [
    "-0.0001+0.00011-0.000115+0.000125\n",
    "#0.0001+0.00011-0.000115-0.000125\n",
    "0.00055-5e-5*s\n",
    "#55e-5"
   ]
  },
  {
   "cell_type": "code",
   "execution_count": 24,
   "id": "4f4b01e3",
   "metadata": {},
   "outputs": [
    {
     "data": {
      "text/latex": [
       "$$ \\begin{equation}\n",
       " - 0.074997 r - 3.75 \\cdot 10^{-6} r s\n",
       "\\end{equation}\n",
       " $$"
      ],
      "text/plain": [
       "-0.07499749999999998r - 3.7499999999999997e-6r*s"
      ]
     },
     "metadata": {},
     "output_type": "display_data"
    }
   ],
   "source": [
    "expand(-0.075*r+0.02*(-0.000625*r+0.000625*r*s)+0.022*(0.000625*r+0.000625*r*s)+0.023*(-0.000625*r-0.000625*r*s)+0.025*(0.000625*r-0.000625*r*s))"
   ]
  },
  {
   "cell_type": "code",
   "execution_count": 25,
   "id": "6645ea71",
   "metadata": {},
   "outputs": [
    {
     "name": "stdout",
     "output_type": "stream",
     "text": [
      "\\begin{equation}\n",
      "\\left[\n",
      "\\begin{array}{c}\n",
      "\\frac{2 - 3 s}{55 - 5 s} \\\\\n",
      "0 \\\\\n",
      "\\frac{9.7 r - 37.5 r s}{55 - 5 s} \\\\\n",
      "\\end{array}\n",
      "\\right]\n",
      "\\end{equation}\n",
      "\n"
     ]
    }
   ],
   "source": [
    "expand(E[1])\n",
    "println(latexify(E))\n",
    "#expand(−0.0001*(1−s)+0.00011*(1+s)−0.000115*(1+s)+0.000125*(1−s))"
   ]
  },
  {
   "cell_type": "code",
   "execution_count": 26,
   "id": "d8d2bd06",
   "metadata": {
    "scrolled": true
   },
   "outputs": [
    {
     "data": {
      "text/latex": [
       "$$ \\begin{equation}\n",
       "0\n",
       "\\end{equation}\n",
       " $$"
      ],
      "text/plain": [
       "0"
      ]
     },
     "metadata": {},
     "output_type": "display_data"
    }
   ],
   "source": [
    "expand(E[2])\n",
    "#println(latexify(E[2]))"
   ]
  },
  {
   "cell_type": "code",
   "execution_count": 27,
   "id": "5a9483d4",
   "metadata": {},
   "outputs": [
    {
     "data": {
      "text/latex": [
       "$$ \\begin{equation}\n",
       "\\frac{9.7 r - 37.5 r s}{55 - 5 s}\n",
       "\\end{equation}\n",
       " $$"
      ],
      "text/plain": [
       "(9.7r - 37.5r*s) / (55 - 5s)"
      ]
     },
     "metadata": {},
     "output_type": "display_data"
    }
   ],
   "source": [
    "expand(E[3])"
   ]
  },
  {
   "cell_type": "code",
   "execution_count": 28,
   "id": "55641989-3f04-48e2-b49f-bb0cc4976595",
   "metadata": {},
   "outputs": [
    {
     "data": {
      "text/plain": [
       "3×3 Matrix{Float64}:\n",
       " 2.33333e6  5.83333e5       0.0\n",
       " 5.83333e5  2.33333e6       0.0\n",
       " 0.0        0.0        875000.0"
      ]
     },
     "metadata": {},
     "output_type": "display_data"
    }
   ],
   "source": [
    "E1 = 2.1e6\n",
    "v = 0.2\n",
    "C = (E1*(1-v)/((1+v)*(1-2*v)))*[1 v/(1-v) 0; v/(1-v) 1 0; 0 0 (1-2*v)/(2-2*v)]"
   ]
  },
  {
   "cell_type": "code",
   "execution_count": 29,
   "id": "52f69827-85cc-40ea-a7fb-cfde4ff7c06a",
   "metadata": {},
   "outputs": [
    {
     "data": {
      "text/latex": [
       "$$ \\begin{equation}\n",
       "\\left[\n",
       "\\begin{array}{c}\n",
       "\\frac{2.3333 \\cdot 10^{6} \\left( 2 - 3 s \\right)}{55 - 5 s} \\\\\n",
       "\\frac{5.8333 \\cdot 10^{5} \\left( 2 - 3 s \\right)}{55 - 5 s} \\\\\n",
       "\\frac{8.75 \\cdot 10^{5} \\left( 9.7 r - 37.5 r s \\right)}{55 - 5 s} \\\\\n",
       "\\end{array}\n",
       "\\right]\n",
       "\\end{equation}\n",
       " $$"
      ],
      "text/plain": [
       "3-element Vector{Num}:\n",
       "      (2.3333333333333335e6(2 - 3s)) / (55 - 5s)\n",
       " (583333.3333333334(2 - 3s)) / (55 - 5s)\n",
       " (874999.9999999999(9.7r - 37.5r*s)) / (55 - 5s)"
      ]
     },
     "metadata": {},
     "output_type": "display_data"
    }
   ],
   "source": [
    "esf = C*E"
   ]
  },
  {
   "cell_type": "code",
   "execution_count": 30,
   "id": "5df3486f",
   "metadata": {},
   "outputs": [
    {
     "data": {
      "text/latex": [
       "$$ \\begin{equation}\n",
       "\\frac{2.3333 \\cdot 10^{6} \\left( 2 - 3 s \\right)}{55 - 5 s}\n",
       "\\end{equation}\n",
       " $$"
      ],
      "text/plain": [
       "(2.3333333333333335e6(2 - 3s)) / (55 - 5s)"
      ]
     },
     "metadata": {},
     "output_type": "display_data"
    }
   ],
   "source": [
    "esf[1]"
   ]
  },
  {
   "cell_type": "code",
   "execution_count": 31,
   "id": "87e3b42b-a7d2-467b-9611-c8cba10e7037",
   "metadata": {},
   "outputs": [
    {
     "data": {
      "text/latex": [
       "$$ \\begin{equation}\n",
       "\\left[\n",
       "\\begin{array}{c}\n",
       "0.036364 \\\\\n",
       "0 \\\\\n",
       "0 \\\\\n",
       "\\end{array}\n",
       "\\right]\n",
       "\\end{equation}\n",
       " $$"
      ],
      "text/plain": [
       "3-element Vector{Num}:\n",
       " 0.03636363636363636\n",
       " 0\n",
       " 0.0"
      ]
     },
     "metadata": {},
     "output_type": "display_data"
    }
   ],
   "source": [
    "# x=3cm., y=2cm.\n",
    "Ea = substitute(E, Dict([r => 0, s => 0]))\n",
    "#round(Ea; digits = 6)"
   ]
  },
  {
   "cell_type": "code",
   "execution_count": 32,
   "id": "9fe893e4-f765-4913-b17f-09a801d225f7",
   "metadata": {},
   "outputs": [
    {
     "data": {
      "text/latex": [
       "$$ \\begin{equation}\n",
       "\\left[\n",
       "\\begin{array}{c}\n",
       "84848 \\\\\n",
       "21212 \\\\\n",
       "0 \\\\\n",
       "\\end{array}\n",
       "\\right]\n",
       "\\end{equation}\n",
       " $$"
      ],
      "text/plain": [
       "3-element Vector{Num}:\n",
       " 84848.48484848485\n",
       " 21212.121212121212\n",
       "     0.0"
      ]
     },
     "metadata": {},
     "output_type": "display_data"
    }
   ],
   "source": [
    "sigma_a = C*Ea"
   ]
  },
  {
   "cell_type": "code",
   "execution_count": 33,
   "id": "cb3433a0-26b7-4525-b86d-7aae5a634dba",
   "metadata": {},
   "outputs": [
    {
     "data": {
      "text/latex": [
       "$$ \\begin{equation}\n",
       "21212\n",
       "\\end{equation}\n",
       " $$"
      ],
      "text/plain": [
       "21212.121212121216"
      ]
     },
     "metadata": {},
     "output_type": "display_data"
    }
   ],
   "source": [
    "sigma_zz_a = v*(sigma_a[1]+sigma_a[2])"
   ]
  },
  {
   "cell_type": "code",
   "execution_count": 34,
   "id": "0fc1bd38-444c-4e4e-820b-1277ee5ef949",
   "metadata": {},
   "outputs": [
    {
     "data": {
      "text/latex": [
       "$$ \\begin{equation}\n",
       "\\left[\n",
       "\\begin{array}{c}\n",
       "0.083333 \\\\\n",
       "0 \\\\\n",
       "-0.78667 \\\\\n",
       "\\end{array}\n",
       "\\right]\n",
       "\\end{equation}\n",
       " $$"
      ],
      "text/plain": [
       "3-element Vector{Num}:\n",
       "  0.08333333333333333\n",
       "  0\n",
       " -0.7866666666666667"
      ]
     },
     "metadata": {},
     "output_type": "display_data"
    }
   ],
   "source": [
    "Eb = substitute(E, Dict([r => -1, s => -1]))"
   ]
  },
  {
   "cell_type": "code",
   "execution_count": 35,
   "id": "b2cc83c4-163b-40dc-bed3-7c74b92b5561",
   "metadata": {},
   "outputs": [
    {
     "data": {
      "text/latex": [
       "$$ \\begin{equation}\n",
       "\\left[\n",
       "\\begin{array}{c}\n",
       "1.9444 \\cdot 10^{5} \\\\\n",
       "48611 \\\\\n",
       "-6.8833 \\cdot 10^{5} \\\\\n",
       "\\end{array}\n",
       "\\right]\n",
       "\\end{equation}\n",
       " $$"
      ],
      "text/plain": [
       "3-element Vector{Num}:\n",
       "  194444.44444444444\n",
       "   48611.11111111111\n",
       " -688333.3333333333"
      ]
     },
     "metadata": {},
     "output_type": "display_data"
    }
   ],
   "source": [
    "sigma_b = C*Eb"
   ]
  },
  {
   "cell_type": "code",
   "execution_count": 36,
   "id": "6fd27d6d-4c63-4aa6-bed1-d80656f105b4",
   "metadata": {},
   "outputs": [
    {
     "data": {
      "text/latex": [
       "$$ \\begin{equation}\n",
       "48611\n",
       "\\end{equation}\n",
       " $$"
      ],
      "text/plain": [
       "48611.11111111112"
      ]
     },
     "metadata": {},
     "output_type": "display_data"
    }
   ],
   "source": [
    "sigma_zz_b = v*(sigma_b[1]+sigma_b[2])"
   ]
  },
  {
   "cell_type": "code",
   "execution_count": 37,
   "id": "5b3f561f-7da7-47e8-adfc-454dc7d5d40c",
   "metadata": {},
   "outputs": [
    {
     "data": {
      "text/latex": [
       "$$ \\begin{equation}\n",
       "\\left[\n",
       "\\begin{array}{c}\n",
       "0.036364 \\\\\n",
       "0 \\\\\n",
       "0.12826 \\\\\n",
       "\\end{array}\n",
       "\\right]\n",
       "\\end{equation}\n",
       " $$"
      ],
      "text/plain": [
       "3-element Vector{Num}:\n",
       " 0.03636363636363636\n",
       " 0\n",
       " 0.12826446280991735"
      ]
     },
     "metadata": {},
     "output_type": "display_data"
    }
   ],
   "source": [
    "Ec = substitute(E, Dict([r => 8/11, s => 0]))"
   ]
  },
  {
   "cell_type": "code",
   "execution_count": 38,
   "id": "471224e4-adb5-4d71-b711-86bbf26c3467",
   "metadata": {},
   "outputs": [
    {
     "data": {
      "text/latex": [
       "$$ \\begin{equation}\n",
       "\\left[\n",
       "\\begin{array}{c}\n",
       "84848 \\\\\n",
       "21212 \\\\\n",
       "1.1223 \\cdot 10^{5} \\\\\n",
       "\\end{array}\n",
       "\\right]\n",
       "\\end{equation}\n",
       " $$"
      ],
      "text/plain": [
       "3-element Vector{Num}:\n",
       "  84848.48484848485\n",
       "  21212.121212121212\n",
       " 112231.40495867767"
      ]
     },
     "metadata": {},
     "output_type": "display_data"
    }
   ],
   "source": [
    "sigma_c = C*Ec"
   ]
  },
  {
   "cell_type": "code",
   "execution_count": 39,
   "id": "92bb94ae-6805-43ea-b524-4e79e85ac331",
   "metadata": {},
   "outputs": [
    {
     "data": {
      "text/latex": [
       "$$ \\begin{equation}\n",
       "21212\n",
       "\\end{equation}\n",
       " $$"
      ],
      "text/plain": [
       "21212.121212121216"
      ]
     },
     "metadata": {},
     "output_type": "display_data"
    }
   ],
   "source": [
    "sigma_zz_c = v*(sigma_c[1]+sigma_c[2])"
   ]
  },
  {
   "cell_type": "code",
   "execution_count": 40,
   "id": "30805add-e047-42a6-a9f0-0fef84ddabea",
   "metadata": {},
   "outputs": [],
   "source": []
  },
  {
   "cell_type": "code",
   "execution_count": 41,
   "id": "8ca463c8",
   "metadata": {},
   "outputs": [],
   "source": []
  }
 ],
 "metadata": {
  "kernelspec": {
   "display_name": "Julia 1.8.5",
   "language": "julia",
   "name": "julia-1.8"
  },
  "language_info": {
   "file_extension": ".jl",
   "mimetype": "application/julia",
   "name": "julia",
   "version": "1.8.5"
  }
 },
 "nbformat": 4,
 "nbformat_minor": 5
}
