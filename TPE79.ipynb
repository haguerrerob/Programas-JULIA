{
 "cells": [
  {
   "cell_type": "code",
   "execution_count": 8,
   "metadata": {},
   "outputs": [],
   "source": [
    "using LinearAlgebra, LaTeXStrings, Symbolics "
   ]
  },
  {
   "cell_type": "code",
   "execution_count": 9,
   "metadata": {},
   "outputs": [
    {
     "data": {
      "text/latex": [
       "$$ \\begin{equation}\n",
       "\\left[\n",
       "\\begin{array}{c}\n",
       "Z_1 \\\\\n",
       "Z_2 \\\\\n",
       "Z_3 \\\\\n",
       "\\lambda \\\\\n",
       "t \\\\\n",
       "\\end{array}\n",
       "\\right]\n",
       "\\end{equation}\n",
       " $$"
      ],
      "text/plain": [
       "5-element Vector{Num}:\n",
       " Z₁\n",
       " Z₂\n",
       " Z₃\n",
       "  λ\n",
       "  t"
      ]
     },
     "metadata": {},
     "output_type": "display_data"
    }
   ],
   "source": [
    "@variables Z₁, Z₂, Z₃, λ, t"
   ]
  },
  {
   "cell_type": "code",
   "execution_count": 10,
   "metadata": {},
   "outputs": [
    {
     "data": {
      "text/latex": [
       "$$ \\begin{equation}\n",
       "\\sqrt{Z_1^{2} + Z_2^{2}}\n",
       "\\end{equation}\n",
       " $$"
      ],
      "text/plain": [
       "sqrt(Z₁^2 + Z₂^2)"
      ]
     },
     "metadata": {},
     "output_type": "display_data"
    }
   ],
   "source": [
    "θ₁ = sqrt(Z₁^2 + Z₂^2)"
   ]
  },
  {
   "cell_type": "code",
   "execution_count": 11,
   "metadata": {},
   "outputs": [
    {
     "data": {
      "text/latex": [
       "$$ \\begin{equation}\n",
       "\\arctan\\left( \\frac{Z_2}{Z_1} \\right)\n",
       "\\end{equation}\n",
       " $$"
      ],
      "text/plain": [
       "atan(Z₂ / Z₁)"
      ]
     },
     "metadata": {},
     "output_type": "display_data"
    }
   ],
   "source": [
    "θ₂ = atan(Z₂ / Z₁)"
   ]
  },
  {
   "cell_type": "code",
   "execution_count": 12,
   "metadata": {},
   "outputs": [
    {
     "data": {
      "text/latex": [
       "$$ \\begin{equation}\n",
       "Z_3\n",
       "\\end{equation}\n",
       " $$"
      ],
      "text/plain": [
       "Z₃"
      ]
     },
     "metadata": {},
     "output_type": "display_data"
    }
   ],
   "source": [
    "θ₃ = Z₃"
   ]
  },
  {
   "cell_type": "code",
   "execution_count": 13,
   "metadata": {},
   "outputs": [
    {
     "data": {
      "text/plain": [
       "(::Differential) (generic function with 3 methods)"
      ]
     },
     "metadata": {},
     "output_type": "display_data"
    }
   ],
   "source": [
    "DZ1 = Differential(Z₁)\n",
    "DZ2 = Differential(Z₂)\n",
    "DZ3 = Differential(Z₃)"
   ]
  },
  {
   "cell_type": "code",
   "execution_count": 14,
   "metadata": {},
   "outputs": [
    {
     "data": {
      "text/latex": [
       "$$ \\begin{equation}\n",
       "\\frac{Z_1}{\\sqrt{Z_1^{2} + Z_2^{2}}}\n",
       "\\end{equation}\n",
       " $$"
      ],
      "text/plain": [
       "Z₁ / sqrt(Z₁^2 + Z₂^2)"
      ]
     },
     "metadata": {},
     "output_type": "display_data"
    }
   ],
   "source": [
    "∂θ1∂Z1 = simplify(expand_derivatives(DZ1(θ₁)))"
   ]
  },
  {
   "cell_type": "code",
   "execution_count": 15,
   "metadata": {},
   "outputs": [
    {
     "data": {
      "text/latex": [
       "$$ \\begin{equation}\n",
       "\\frac{Z_2}{\\sqrt{Z_1^{2} + Z_2^{2}}}\n",
       "\\end{equation}\n",
       " $$"
      ],
      "text/plain": [
       "Z₂ / sqrt(Z₁^2 + Z₂^2)"
      ]
     },
     "metadata": {},
     "output_type": "display_data"
    }
   ],
   "source": [
    "∂θ1∂Z2 = expand_derivatives(DZ2(θ₁))"
   ]
  },
  {
   "cell_type": "code",
   "execution_count": 16,
   "metadata": {},
   "outputs": [
    {
     "data": {
      "text/latex": [
       "$$ \\begin{equation}\n",
       "0\n",
       "\\end{equation}\n",
       " $$"
      ],
      "text/plain": [
       "0"
      ]
     },
     "metadata": {},
     "output_type": "display_data"
    }
   ],
   "source": [
    "∂θ1∂Z3 = expand_derivatives(DZ3(θ₁))"
   ]
  },
  {
   "cell_type": "code",
   "execution_count": 17,
   "metadata": {},
   "outputs": [
    {
     "data": {
      "text/latex": [
       "$$ \\begin{equation}\n",
       "\\frac{ - Z_2}{Z_1^{2} + Z_2^{2}}\n",
       "\\end{equation}\n",
       " $$"
      ],
      "text/plain": [
       "(-Z₂) / (Z₁^2 + Z₂^2)"
      ]
     },
     "metadata": {},
     "output_type": "display_data"
    }
   ],
   "source": [
    "∂θ2∂Z1 = simplify(expand_derivatives(DZ1(θ₂)))"
   ]
  },
  {
   "cell_type": "code",
   "execution_count": 18,
   "metadata": {},
   "outputs": [
    {
     "data": {
      "text/latex": [
       "$$ \\begin{equation}\n",
       "\\frac{Z_1}{Z_1^{2} + Z_2^{2}}\n",
       "\\end{equation}\n",
       " $$"
      ],
      "text/plain": [
       "Z₁ / (Z₁^2 + Z₂^2)"
      ]
     },
     "metadata": {},
     "output_type": "display_data"
    }
   ],
   "source": [
    "∂θ2∂Z2 = simplify(expand_derivatives(DZ2(θ₂)))"
   ]
  },
  {
   "cell_type": "code",
   "execution_count": 19,
   "metadata": {},
   "outputs": [
    {
     "data": {
      "text/latex": [
       "$$ \\begin{equation}\n",
       "0\n",
       "\\end{equation}\n",
       " $$"
      ],
      "text/plain": [
       "0"
      ]
     },
     "metadata": {},
     "output_type": "display_data"
    }
   ],
   "source": [
    "∂θ2∂Z3 = simplify(expand_derivatives(DZ3(θ₂)))"
   ]
  },
  {
   "cell_type": "code",
   "execution_count": 20,
   "metadata": {},
   "outputs": [
    {
     "data": {
      "text/latex": [
       "$$ \\begin{equation}\n",
       "0\n",
       "\\end{equation}\n",
       " $$"
      ],
      "text/plain": [
       "0"
      ]
     },
     "metadata": {},
     "output_type": "display_data"
    }
   ],
   "source": [
    "∂θ3∂Z1 = simplify(expand_derivatives(DZ1(θ₃)))"
   ]
  },
  {
   "cell_type": "code",
   "execution_count": 21,
   "metadata": {},
   "outputs": [
    {
     "data": {
      "text/latex": [
       "$$ \\begin{equation}\n",
       "0\n",
       "\\end{equation}\n",
       " $$"
      ],
      "text/plain": [
       "0"
      ]
     },
     "metadata": {},
     "output_type": "display_data"
    }
   ],
   "source": [
    "∂θ3∂Z2 = simplify(expand_derivatives(DZ2(θ₃)))"
   ]
  },
  {
   "cell_type": "code",
   "execution_count": 22,
   "metadata": {},
   "outputs": [
    {
     "data": {
      "text/latex": [
       "$$ \\begin{equation}\n",
       "1\n",
       "\\end{equation}\n",
       " $$"
      ],
      "text/plain": [
       "1"
      ]
     },
     "metadata": {},
     "output_type": "display_data"
    }
   ],
   "source": [
    "∂θ3∂Z3 = simplify(expand_derivatives(DZ3(θ₃)))"
   ]
  }
 ],
 "metadata": {
  "kernelspec": {
   "display_name": "Julia 1.10.2",
   "language": "julia",
   "name": "julia-1.10"
  },
  "language_info": {
   "file_extension": ".jl",
   "mimetype": "application/julia",
   "name": "julia",
   "version": "1.10.2"
  }
 },
 "nbformat": 4,
 "nbformat_minor": 2
}
