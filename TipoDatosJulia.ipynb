{
 "cells": [
  {
   "cell_type": "markdown",
   "metadata": {},
   "source": [
    "TIPO DE DATOS EN JULIA"
   ]
  },
  {
   "cell_type": "code",
   "execution_count": 1,
   "metadata": {},
   "outputs": [
    {
     "data": {
      "text/plain": [
       "miExponente (generic function with 1 method)"
      ]
     },
     "metadata": {},
     "output_type": "display_data"
    }
   ],
   "source": [
    "function miExponente(x::Int64, y::Int64)\n",
    "    x^y\n",
    "end"
   ]
  },
  {
   "cell_type": "code",
   "execution_count": 4,
   "metadata": {},
   "outputs": [
    {
     "data": {
      "text/plain": [
       "16"
      ]
     },
     "metadata": {},
     "output_type": "display_data"
    }
   ],
   "source": [
    "miExponente(2, 4)"
   ]
  },
  {
   "cell_type": "code",
   "execution_count": 3,
   "metadata": {},
   "outputs": [
    {
     "ename": "MethodError",
     "evalue": "MethodError: no method matching miExponente(::Int64, ::Float64)\nClosest candidates are:\n  miExponente(::Int64, !Matched::Int64) at f:\\Programas JULIA\\TipoDatosJulia.ipynb:1",
     "output_type": "error",
     "traceback": [
      "MethodError: no method matching miExponente(::Int64, ::Float64)\n",
      "Closest candidates are:\n",
      "  miExponente(::Int64, !Matched::Int64) at f:\\Programas JULIA\\TipoDatosJulia.ipynb:1\n",
      "\n",
      "Stacktrace:\n",
      " [1] top-level scope\n",
      "   @ f:\\Programas JULIA\\TipoDatosJulia.ipynb:1"
     ]
    }
   ],
   "source": [
    "miExponente(2, 4.2)"
   ]
  },
  {
   "cell_type": "code",
   "execution_count": 5,
   "metadata": {},
   "outputs": [
    {
     "data": {
      "text/plain": [
       "241500.0"
      ]
     },
     "metadata": {},
     "output_type": "display_data"
    }
   ],
   "source": [
    "1150000 * 0.21\n"
   ]
  },
  {
   "cell_type": "code",
   "execution_count": null,
   "metadata": {},
   "outputs": [],
   "source": []
  }
 ],
 "metadata": {
  "kernelspec": {
   "display_name": "Julia 1.8.5",
   "language": "julia",
   "name": "julia-1.8"
  },
  "language_info": {
   "file_extension": ".jl",
   "mimetype": "application/julia",
   "name": "julia",
   "version": "1.8.5"
  }
 },
 "nbformat": 4,
 "nbformat_minor": 2
}
