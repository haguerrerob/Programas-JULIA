{
 "cells": [
  {
   "cell_type": "code",
   "execution_count": 4,
   "metadata": {},
   "outputs": [],
   "source": [
    "using LinearAlgebra, LaTeXStrings, Symbolics "
   ]
  },
  {
   "cell_type": "code",
   "execution_count": 14,
   "metadata": {},
   "outputs": [
    {
     "data": {
      "text/latex": [
       "$$ \\begin{equation}\n",
       "\\left[\n",
       "\\begin{array}{c}\n",
       "Z_1 \\\\\n",
       "Z_2 \\\\\n",
       "Z_3 \\\\\n",
       "\\lambda \\\\\n",
       "t \\\\\n",
       "\\end{array}\n",
       "\\right]\n",
       "\\end{equation}\n",
       " $$"
      ],
      "text/plain": [
       "5-element Vector{Num}:\n",
       " Z₁\n",
       " Z₂\n",
       " Z₃\n",
       "  λ\n",
       "  t"
      ]
     },
     "metadata": {},
     "output_type": "display_data"
    }
   ],
   "source": [
    "@variables Z₁, Z₂, Z₃, λ, t"
   ]
  },
  {
   "cell_type": "code",
   "execution_count": 4,
   "metadata": {},
   "outputs": [
    {
     "data": {
      "text/latex": [
       "$$ \\begin{equation}\n",
       "\\sqrt{Z_1^{2} + Z_2^{2} + Z_3^{2}}\n",
       "\\end{equation}\n",
       " $$"
      ],
      "text/plain": [
       "sqrt(Z₁^2 + Z₂^2 + Z₃^2)"
      ]
     },
     "metadata": {},
     "output_type": "display_data"
    }
   ],
   "source": [
    "θ₁ = sqrt(Z₁^2 + Z₂^2 + Z₃^2)"
   ]
  },
  {
   "cell_type": "code",
   "execution_count": 5,
   "metadata": {},
   "outputs": [
    {
     "data": {
      "text/latex": [
       "$$ \\begin{equation}\n",
       "\\arctan\\left( \\frac{\\sqrt{Z_1^{2} + Z_2^{2}}}{Z_3} \\right)\n",
       "\\end{equation}\n",
       " $$"
      ],
      "text/plain": [
       "atan(sqrt(Z₁^2 + Z₂^2) / Z₃)"
      ]
     },
     "metadata": {},
     "output_type": "display_data"
    }
   ],
   "source": [
    "θ₂ = atan(sqrt(Z₁^2 + Z₂^2) / Z₃)"
   ]
  },
  {
   "cell_type": "code",
   "execution_count": 12,
   "metadata": {},
   "outputs": [
    {
     "data": {
      "text/latex": [
       "$$ \\begin{equation}\n",
       "\\arctan\\left( \\frac{Z_2}{Z_1} \\right)\n",
       "\\end{equation}\n",
       " $$"
      ],
      "text/plain": [
       "atan(Z₂ / Z₁)"
      ]
     },
     "metadata": {},
     "output_type": "display_data"
    }
   ],
   "source": [
    "θ₃ = atan(Z₂ / Z₁)"
   ]
  },
  {
   "cell_type": "code",
   "execution_count": 13,
   "metadata": {},
   "outputs": [
    {
     "data": {
      "text/plain": [
       "(::Differential) (generic function with 3 methods)"
      ]
     },
     "metadata": {},
     "output_type": "display_data"
    }
   ],
   "source": [
    "DZ1 = Differential(Z₁)\n",
    "DZ2 = Differential(Z₂)\n",
    "DZ3 = Differential(Z₃)"
   ]
  },
  {
   "cell_type": "code",
   "execution_count": 14,
   "metadata": {},
   "outputs": [
    {
     "data": {
      "text/latex": [
       "$$ \\begin{equation}\n",
       "\\frac{Z_1}{\\sqrt{Z_1^{2} + Z_2^{2} + Z_3^{2}}}\n",
       "\\end{equation}\n",
       " $$"
      ],
      "text/plain": [
       "Z₁ / sqrt(Z₁^2 + Z₂^2 + Z₃^2)"
      ]
     },
     "metadata": {},
     "output_type": "display_data"
    }
   ],
   "source": [
    "∂θ1∂Z1 = simplify(expand_derivatives(DZ1(θ₁)))"
   ]
  },
  {
   "cell_type": "code",
   "execution_count": 15,
   "metadata": {},
   "outputs": [
    {
     "data": {
      "text/latex": [
       "$$ \\begin{equation}\n",
       "\\frac{Z_2}{\\sqrt{Z_1^{2} + Z_2^{2} + Z_3^{2}}}\n",
       "\\end{equation}\n",
       " $$"
      ],
      "text/plain": [
       "Z₂ / sqrt(Z₁^2 + Z₂^2 + Z₃^2)"
      ]
     },
     "metadata": {},
     "output_type": "display_data"
    }
   ],
   "source": [
    "∂θ1∂Z2 = expand_derivatives(DZ2(θ₁))"
   ]
  },
  {
   "cell_type": "code",
   "execution_count": 16,
   "metadata": {},
   "outputs": [
    {
     "data": {
      "text/latex": [
       "$$ \\begin{equation}\n",
       "\\frac{Z_3}{\\sqrt{Z_1^{2} + Z_2^{2} + Z_3^{2}}}\n",
       "\\end{equation}\n",
       " $$"
      ],
      "text/plain": [
       "Z₃ / sqrt(Z₁^2 + Z₂^2 + Z₃^2)"
      ]
     },
     "metadata": {},
     "output_type": "display_data"
    }
   ],
   "source": [
    "∂θ1∂Z3 = expand_derivatives(DZ3(θ₁))"
   ]
  },
  {
   "cell_type": "code",
   "execution_count": 20,
   "metadata": {},
   "outputs": [
    {
     "data": {
      "text/latex": [
       "$$ \\begin{equation}\n",
       "\\frac{Z_1 Z_3}{\\left( Z_3^{2} + \\left( \\sqrt{Z_1^{2} + Z_2^{2}} \\right)^{2} \\right) \\sqrt{Z_1^{2} + Z_2^{2}}}\n",
       "\\end{equation}\n",
       " $$"
      ],
      "text/plain": [
       "(Z₁*Z₃) / ((Z₃^2 + sqrt(Z₁^2 + Z₂^2)^2)*sqrt(Z₁^2 + Z₂^2))"
      ]
     },
     "metadata": {},
     "output_type": "display_data"
    }
   ],
   "source": [
    "∂θ2∂Z1 = simplify(expand_derivatives(DZ1(θ₂)))"
   ]
  },
  {
   "cell_type": "code",
   "execution_count": 21,
   "metadata": {},
   "outputs": [
    {
     "data": {
      "text/latex": [
       "$$ \\begin{equation}\n",
       "\\frac{Z_2 Z_3}{\\left( Z_3^{2} + \\left( \\sqrt{Z_1^{2} + Z_2^{2}} \\right)^{2} \\right) \\sqrt{Z_1^{2} + Z_2^{2}}}\n",
       "\\end{equation}\n",
       " $$"
      ],
      "text/plain": [
       "(Z₂*Z₃) / ((Z₃^2 + sqrt(Z₁^2 + Z₂^2)^2)*sqrt(Z₁^2 + Z₂^2))"
      ]
     },
     "metadata": {},
     "output_type": "display_data"
    }
   ],
   "source": [
    "∂θ2∂Z2 = simplify(expand_derivatives(DZ2(θ₂)))"
   ]
  },
  {
   "cell_type": "code",
   "execution_count": 22,
   "metadata": {},
   "outputs": [
    {
     "data": {
      "text/latex": [
       "$$ \\begin{equation}\n",
       "\\frac{ - \\sqrt{Z_1^{2} + Z_2^{2}}}{Z_3^{2} + \\left( \\sqrt{Z_1^{2} + Z_2^{2}} \\right)^{2}}\n",
       "\\end{equation}\n",
       " $$"
      ],
      "text/plain": [
       "(-sqrt(Z₁^2 + Z₂^2)) / (Z₃^2 + sqrt(Z₁^2 + Z₂^2)^2)"
      ]
     },
     "metadata": {},
     "output_type": "display_data"
    }
   ],
   "source": [
    "∂θ2∂Z3 = simplify(expand_derivatives(DZ3(θ₂)))"
   ]
  },
  {
   "cell_type": "code",
   "execution_count": 23,
   "metadata": {},
   "outputs": [
    {
     "data": {
      "text/latex": [
       "$$ \\begin{equation}\n",
       "\\frac{ - Z_2}{Z_1^{2} + Z_2^{2}}\n",
       "\\end{equation}\n",
       " $$"
      ],
      "text/plain": [
       "(-Z₂) / (Z₁^2 + Z₂^2)"
      ]
     },
     "metadata": {},
     "output_type": "display_data"
    }
   ],
   "source": [
    "∂θ3∂Z1 = simplify(expand_derivatives(DZ1(θ₃)))"
   ]
  },
  {
   "cell_type": "code",
   "execution_count": 24,
   "metadata": {},
   "outputs": [
    {
     "data": {
      "text/latex": [
       "$$ \\begin{equation}\n",
       "\\frac{Z_1}{Z_1^{2} + Z_2^{2}}\n",
       "\\end{equation}\n",
       " $$"
      ],
      "text/plain": [
       "Z₁ / (Z₁^2 + Z₂^2)"
      ]
     },
     "metadata": {},
     "output_type": "display_data"
    }
   ],
   "source": [
    "∂θ3∂Z2 = simplify(expand_derivatives(DZ2(θ₃)))"
   ]
  },
  {
   "cell_type": "code",
   "execution_count": 25,
   "metadata": {},
   "outputs": [
    {
     "data": {
      "text/latex": [
       "$$ \\begin{equation}\n",
       "0\n",
       "\\end{equation}\n",
       " $$"
      ],
      "text/plain": [
       "0"
      ]
     },
     "metadata": {},
     "output_type": "display_data"
    }
   ],
   "source": [
    "∂θ3∂Z3 = simplify(expand_derivatives(DZ3(θ₃)))"
   ]
  },
  {
   "cell_type": "code",
   "execution_count": 7,
   "metadata": {},
   "outputs": [
    {
     "data": {
      "text/latex": [
       "$$ \\begin{equation}\n",
       "5 - 3 \\lambda + \\lambda^{2}\n",
       "\\end{equation}\n",
       " $$"
      ],
      "text/plain": [
       "5 - 3λ + λ^2"
      ]
     },
     "metadata": {},
     "output_type": "display_data"
    }
   ],
   "source": [
    "\n",
    "p(λ)=(2-λ) * (1-λ) + 3\n",
    "expand(p(λ))"
   ]
  },
  {
   "cell_type": "code",
   "execution_count": 12,
   "metadata": {},
   "outputs": [
    {
     "data": {
      "text/latex": [
       "$$ \\begin{equation}\n",
       "3 - 3 \\lambda + 4 \\lambda^{2} - \\lambda^{3}\n",
       "\\end{equation}\n",
       " $$"
      ],
      "text/plain": [
       "3 - 3λ + 4(λ^2) - (λ^3)"
      ]
     },
     "metadata": {},
     "output_type": "display_data"
    }
   ],
   "source": [
    "expand((1-λ) * (1-λ) * (2-λ) + 2 + 1 -(1-λ) + (1-λ) - 2 * (1-λ))"
   ]
  },
  {
   "cell_type": "code",
   "execution_count": 16,
   "metadata": {},
   "outputs": [
    {
     "data": {
      "text/latex": [
       "$$ \\begin{equation}\n",
       "\\frac{64}{27} + \\frac{16}{3} t + 4 t^{2} + t^{3}\n",
       "\\end{equation}\n",
       " $$"
      ],
      "text/plain": [
       "(64//27) + (16//3)*t + (4//1)*(t^2) + t^3"
      ]
     },
     "metadata": {},
     "output_type": "display_data"
    }
   ],
   "source": [
    "a1 = expand((t+4//3)^3)"
   ]
  },
  {
   "cell_type": "code",
   "execution_count": 17,
   "metadata": {},
   "outputs": [
    {
     "data": {
      "text/latex": [
       "$$ \\begin{equation}\n",
       "\\frac{-64}{9} - \\frac{32}{3} t - 4 t^{2}\n",
       "\\end{equation}\n",
       " $$"
      ],
      "text/plain": [
       "-(64//9) - (32//3)*t - (4//1)*(t^2)"
      ]
     },
     "metadata": {},
     "output_type": "display_data"
    }
   ],
   "source": [
    "a2 = expand(-4 * (t + 4//3)^2)"
   ]
  },
  {
   "cell_type": "code",
   "execution_count": 18,
   "metadata": {},
   "outputs": [
    {
     "data": {
      "text/latex": [
       "$$ \\begin{equation}\n",
       "4 + 3 t\n",
       "\\end{equation}\n",
       " $$"
      ],
      "text/plain": [
       "(4//1) + (3//1)*t"
      ]
     },
     "metadata": {},
     "output_type": "display_data"
    }
   ],
   "source": [
    "a3 = expand(3 * (t + 4//3))"
   ]
  },
  {
   "cell_type": "code",
   "execution_count": 20,
   "metadata": {},
   "outputs": [
    {
     "data": {
      "text/latex": [
       "$$ \\begin{equation}\n",
       "\\frac{-101}{27} - \\frac{7}{3} t + t^{3}\n",
       "\\end{equation}\n",
       " $$"
      ],
      "text/plain": [
       "-(101//27) - (7//3)*t + t^3"
      ]
     },
     "metadata": {},
     "output_type": "display_data"
    }
   ],
   "source": [
    "expand(a1 + a2 + a3 - 3)"
   ]
  },
  {
   "cell_type": "code",
   "execution_count": 63,
   "metadata": {},
   "outputs": [
    {
     "data": {
      "text/plain": [
       "-9"
      ]
     },
     "metadata": {},
     "output_type": "display_data"
    }
   ],
   "source": [
    "a = 1\n",
    "b = -4\n",
    "c = 7\n",
    "d = -9"
   ]
  },
  {
   "cell_type": "code",
   "execution_count": 64,
   "metadata": {},
   "outputs": [
    {
     "data": {
      "text/plain": [
       "5//3"
      ]
     },
     "metadata": {},
     "output_type": "display_data"
    }
   ],
   "source": [
    "p1 = (3 * a * c - b^2) // (3 * a^2)"
   ]
  },
  {
   "cell_type": "code",
   "execution_count": 65,
   "metadata": {},
   "outputs": [
    {
     "data": {
      "text/plain": [
       "-119//27"
      ]
     },
     "metadata": {},
     "output_type": "display_data"
    }
   ],
   "source": [
    "q = (2 * b^3 - 9 * a * b * c + 27 * a^2 * d) // (27 * a^3)"
   ]
  },
  {
   "cell_type": "code",
   "execution_count": 66,
   "metadata": {},
   "outputs": [
    {
     "data": {
      "text/plain": [
       "181//9"
      ]
     },
     "metadata": {},
     "output_type": "display_data"
    }
   ],
   "source": [
    "Δ = q^2 + 4 * (p1 / 3)^3"
   ]
  },
  {
   "cell_type": "code",
   "execution_count": 67,
   "metadata": {},
   "outputs": [
    {
     "data": {
      "text/plain": [
       "1.6443300183006742"
      ]
     },
     "metadata": {},
     "output_type": "display_data"
    }
   ],
   "source": [
    "u = cbrt((-q + sqrt(Δ)) / 2)"
   ]
  },
  {
   "cell_type": "code",
   "execution_count": 68,
   "metadata": {},
   "outputs": [
    {
     "data": {
      "text/plain": [
       "-0.33786134740135215"
      ]
     },
     "metadata": {},
     "output_type": "display_data"
    }
   ],
   "source": [
    "v = cbrt((-q - sqrt(Δ)) / 2)"
   ]
  },
  {
   "cell_type": "code",
   "execution_count": 69,
   "metadata": {},
   "outputs": [
    {
     "data": {
      "text/plain": [
       "2.6398020042326555"
      ]
     },
     "metadata": {},
     "output_type": "display_data"
    }
   ],
   "source": [
    "x1 = u + v - b // (3 * a)"
   ]
  },
  {
   "cell_type": "code",
   "execution_count": 70,
   "metadata": {},
   "outputs": [
    {
     "data": {
      "text/plain": [
       "0.6800989978836722 + 1.716628077860125im"
      ]
     },
     "metadata": {},
     "output_type": "display_data"
    }
   ],
   "source": [
    "x2 = ((-1 / 2) * (u + v) - b / (3 * a)) + (sqrt(3) / 2 * (u - v))im "
   ]
  },
  {
   "cell_type": "code",
   "execution_count": 71,
   "metadata": {},
   "outputs": [
    {
     "data": {
      "text/plain": [
       "0.6800989978836722 - 1.716628077860125im"
      ]
     },
     "metadata": {},
     "output_type": "display_data"
    }
   ],
   "source": [
    "x2 = ((-1 / 2) * (u + v) - b / (3 * a)) - (sqrt(3) / 2 * (u - v))im"
   ]
  },
  {
   "cell_type": "code",
   "execution_count": 72,
   "metadata": {},
   "outputs": [
    {
     "data": {
      "text/latex": [
       "$$ \\begin{equation}\n",
       "\\left[\n",
       "\\begin{array}{ccc}\n",
       "8 - \\lambda & 3 & 0 \\\\\n",
       "3 & 4 - \\lambda & 0 \\\\\n",
       "0 & 0 & 1 - \\lambda \\\\\n",
       "\\end{array}\n",
       "\\right]\n",
       "\\end{equation}\n",
       " $$"
      ],
      "text/plain": [
       "3×3 Matrix{Num}:\n",
       " 8 - λ      3      0\n",
       "     3  4 - λ      0\n",
       "     0      0  1 - λ"
      ]
     },
     "metadata": {},
     "output_type": "display_data"
    }
   ],
   "source": [
    "A  = [8-λ 3 0; 3 4-λ 0; 0 0 1-λ]"
   ]
  },
  {
   "cell_type": "code",
   "execution_count": 58,
   "metadata": {},
   "outputs": [
    {
     "data": {
      "text/latex": [
       "$$ \\begin{equation}\n",
       "23 - 35 \\lambda + 13 \\lambda^{2} - \\lambda^{3}\n",
       "\\end{equation}\n",
       " $$"
      ],
      "text/plain": [
       "23 - 35λ + 13(λ^2) - (λ^3)"
      ]
     },
     "metadata": {},
     "output_type": "display_data"
    }
   ],
   "source": [
    "expand(det(A))"
   ]
  },
  {
   "cell_type": "code",
   "execution_count": 73,
   "metadata": {},
   "outputs": [
    {
     "data": {
      "text/plain": [
       "-23"
      ]
     },
     "metadata": {},
     "output_type": "display_data"
    }
   ],
   "source": [
    "a = 1\n",
    "b = -13\n",
    "c = 35\n",
    "d = -23"
   ]
  },
  {
   "cell_type": "code",
   "execution_count": 74,
   "metadata": {},
   "outputs": [
    {
     "data": {
      "text/plain": [
       "-64//3"
      ]
     },
     "metadata": {},
     "output_type": "display_data"
    }
   ],
   "source": [
    "p1 = (3 * a * c - b^2) // (3 * a^2)"
   ]
  },
  {
   "cell_type": "code",
   "execution_count": 75,
   "metadata": {},
   "outputs": [
    {
     "data": {
      "text/plain": [
       "-920//27"
      ]
     },
     "metadata": {},
     "output_type": "display_data"
    }
   ],
   "source": [
    "q = (2 * b^3 - 9 * a * b * c + 27 * a^2 * d) // (27 * a^3)"
   ]
  },
  {
   "cell_type": "code",
   "execution_count": 76,
   "metadata": {},
   "outputs": [
    {
     "data": {
      "text/plain": [
       "-832//3"
      ]
     },
     "metadata": {},
     "output_type": "display_data"
    }
   ],
   "source": [
    "Δ = q^2 + 4 * (p1 / 3)^3"
   ]
  },
  {
   "cell_type": "code",
   "execution_count": 77,
   "metadata": {},
   "outputs": [
    {
     "data": {
      "text/plain": [
       "0.45459827201619835"
      ]
     },
     "metadata": {},
     "output_type": "display_data"
    }
   ],
   "source": [
    "θ = acos(3 * q / (2 * p1) * sqrt(-3 / p1))"
   ]
  },
  {
   "cell_type": "code",
   "execution_count": 81,
   "metadata": {},
   "outputs": [
    {
     "data": {
      "text/plain": [
       "9.605551275463988"
      ]
     },
     "metadata": {},
     "output_type": "display_data"
    }
   ],
   "source": [
    "x1 = 2 * sqrt(-p1 / 3) * cos(θ / 3) - b / (3 * a)"
   ]
  },
  {
   "cell_type": "code",
   "execution_count": 82,
   "metadata": {},
   "outputs": [
    {
     "data": {
      "text/plain": [
       "1.0"
      ]
     },
     "metadata": {},
     "output_type": "display_data"
    }
   ],
   "source": [
    "x2 = 2 * sqrt(-p1 / 3) * cos((θ + 2 * pi) / 3) - b / (3 * a)"
   ]
  },
  {
   "cell_type": "code",
   "execution_count": 85,
   "metadata": {},
   "outputs": [
    {
     "data": {
      "text/plain": [
       "2.3944487245360118"
      ]
     },
     "metadata": {},
     "output_type": "display_data"
    }
   ],
   "source": [
    "x3 = 2 * sqrt(-p1 / 3) * cos((θ + 4 * pi) / 3) - b / (3 * a)"
   ]
  },
  {
   "cell_type": "code",
   "execution_count": 95,
   "metadata": {},
   "outputs": [
    {
     "data": {
      "text/plain": [
       "-1.8685170918213299"
      ]
     },
     "metadata": {},
     "output_type": "display_data"
    }
   ],
   "source": [
    "(-2 - sqrt(13)) / 3"
   ]
  },
  {
   "cell_type": "code",
   "execution_count": 96,
   "metadata": {},
   "outputs": [
    {
     "data": {
      "text/plain": [
       "-1.8666666666666667"
      ]
     },
     "metadata": {},
     "output_type": "display_data"
    }
   ],
   "source": [
    "-28 / 15"
   ]
  },
  {
   "cell_type": "code",
   "execution_count": 94,
   "metadata": {},
   "outputs": [
    {
     "data": {
      "text/plain": [
       "-1.3944487245360109"
      ]
     },
     "metadata": {},
     "output_type": "display_data"
    }
   ],
   "source": [
    "-5 + sqrt(13)"
   ]
  },
  {
   "cell_type": "code",
   "execution_count": 99,
   "metadata": {},
   "outputs": [
    {
     "data": {
      "text/plain": [
       "3×3 Matrix{Float64}:\n",
       "  0.173913  -0.130435  -0.0\n",
       " -0.130435   0.347826  -0.0\n",
       "  0.0        0.0        1.0"
      ]
     },
     "metadata": {},
     "output_type": "display_data"
    }
   ],
   "source": [
    "X₀ = Matrix(I, 3, 3)\n",
    "A = [8 3 0; 3 4 0; 0 0 1]\n",
    "inv(A)"
   ]
  },
  {
   "cell_type": "code",
   "execution_count": 117,
   "metadata": {},
   "outputs": [
    {
     "data": {
      "text/plain": [
       "3×3 Matrix{Float64}:\n",
       " 2.75376   0.645622  0.0\n",
       " 0.645622  1.89293   0.0\n",
       " 0.0       0.0       1.0"
      ]
     },
     "metadata": {},
     "output_type": "display_data"
    }
   ],
   "source": [
    "it = 1\n",
    "A = [8 3 0; 3 4 0; 0 0 1]\n",
    "X₀ = Matrix(I, 3, 3)\n",
    "X₁ = zeros(3,3)\n",
    "while (it < 10 )\n",
    "    X₁ = 1/ 2 * ( X₀ + A * inv(X₀))\n",
    "    C = X₁ * inv(X₀)\n",
    "    #display(X₁)\n",
    "    X₀ = X₁\n",
    "    #(abs.(X₁ * inv(X₀)) <= 1e-03 * (I, 3, 3)) ? break : X₀ = X₁\n",
    "   it += 1 \n",
    "end\n",
    "display(X₁)"
   ]
  },
  {
   "cell_type": "code",
   "execution_count": 116,
   "metadata": {},
   "outputs": [
    {
     "data": {
      "text/plain": [
       "3×3 Matrix{Float64}:\n",
       " 8.0  3.0  0.0\n",
       " 3.0  4.0  0.0\n",
       " 0.0  0.0  1.0"
      ]
     },
     "metadata": {},
     "output_type": "display_data"
    }
   ],
   "source": [
    "X₁ * X₁"
   ]
  },
  {
   "cell_type": "code",
   "execution_count": 114,
   "metadata": {},
   "outputs": [
    {
     "data": {
      "text/plain": [
       "3×3 Matrix{Float64}:\n",
       " 3.542  -0.828144  0.0\n",
       " 0.831   1.5474    0.0\n",
       " 0.0     0.0       1.0"
      ]
     },
     "metadata": {},
     "output_type": "display_data"
    }
   ],
   "source": [
    "BB = [3.542 -sqrt(-sqrt(21853 / 81) + 154 / 9) 0; 0.831 sqrt(-sqrt(13) + 6) 0; 0 0 1]"
   ]
  },
  {
   "cell_type": "code",
   "execution_count": 115,
   "metadata": {},
   "outputs": [
    {
     "data": {
      "text/plain": [
       "3×3 Matrix{Float64}:\n",
       " 11.8576   -4.21476  0.0\n",
       "  4.22929   1.70626  0.0\n",
       "  0.0       0.0      1.0"
      ]
     },
     "metadata": {},
     "output_type": "display_data"
    }
   ],
   "source": [
    "BB * BB"
   ]
  },
  {
   "cell_type": "code",
   "execution_count": 140,
   "metadata": {},
   "outputs": [
    {
     "data": {
      "text/plain": [
       "3×3 Matrix{Float64}:\n",
       " 0.0  1.0        1.0\n",
       " 0.0  0.535184  -1.86852\n",
       " 1.0  0.0        0.0"
      ]
     },
     "metadata": {},
     "output_type": "display_data"
    }
   ],
   "source": [
    "P = [0 1 1; 0 (-2 + sqrt(13))/3 (-2 - sqrt(13))/3; 1 0 0]"
   ]
  },
  {
   "cell_type": "code",
   "execution_count": 144,
   "metadata": {},
   "outputs": [
    {
     "data": {
      "text/plain": [
       "3×3 Matrix{Float64}:\n",
       " 1.0  0.0      0.0\n",
       " 0.0  3.09928  0.0\n",
       " 0.0  0.0      1.5474"
      ]
     },
     "metadata": {},
     "output_type": "display_data"
    }
   ],
   "source": [
    "D = [1 0 0; 0 sqrt(6 + sqrt(13)) 0; 0 0 sqrt(6 - sqrt(13))]"
   ]
  },
  {
   "cell_type": "code",
   "execution_count": 145,
   "metadata": {},
   "outputs": [
    {
     "data": {
      "text/plain": [
       "3×3 Matrix{Float64}:\n",
       " 2.75376   0.645622  0.0\n",
       " 0.645622  1.89293   0.0\n",
       " 0.0       0.0       1.0"
      ]
     },
     "metadata": {},
     "output_type": "display_data"
    }
   ],
   "source": [
    "B2 = P * D * inv(P)"
   ]
  },
  {
   "cell_type": "code",
   "execution_count": 146,
   "metadata": {},
   "outputs": [
    {
     "data": {
      "text/plain": [
       "3×3 Matrix{Float64}:\n",
       " 8.0  3.0  0.0\n",
       " 3.0  4.0  0.0\n",
       " 0.0  0.0  1.0"
      ]
     },
     "metadata": {},
     "output_type": "display_data"
    }
   ],
   "source": [
    "B2 * B2"
   ]
  }
 ],
 "metadata": {
  "kernelspec": {
   "display_name": "Julia 1.8.5",
   "language": "julia",
   "name": "julia-1.8"
  },
  "language_info": {
   "file_extension": ".jl",
   "mimetype": "application/julia",
   "name": "julia",
   "version": "1.8.5"
  }
 },
 "nbformat": 4,
 "nbformat_minor": 2
}
