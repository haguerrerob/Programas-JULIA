{
 "cells": [
  {
   "cell_type": "code",
   "execution_count": 5,
   "metadata": {},
   "outputs": [
    {
     "data": {
      "text/plain": [
       "961×2 Matrix{Float64}:\n",
       " 0.0  0.0\n",
       " 0.1  0.0\n",
       " 0.2  0.0\n",
       " 0.3  0.0\n",
       " 0.4  0.0\n",
       " 0.5  0.0\n",
       " 0.6  0.0\n",
       " 0.7  0.0\n",
       " 0.8  0.0\n",
       " 0.9  0.0\n",
       " ⋮    \n",
       " 2.2  3.0\n",
       " 2.3  3.0\n",
       " 2.4  3.0\n",
       " 2.5  3.0\n",
       " 2.6  3.0\n",
       " 2.7  3.0\n",
       " 2.8  3.0\n",
       " 2.9  3.0\n",
       " 3.0  3.0"
      ]
     },
     "metadata": {},
     "output_type": "display_data"
    }
   ],
   "source": [
    "begin\n",
    "numNodosx = 31\n",
    "numNodosy = 31\n",
    "\n",
    "numElementos = (numNodosx - 1) * (numNodosy - 1) \n",
    "numSegmentosx = numNodosx -1\n",
    "numSegmentosy = numNodosy -1\n",
    "dNodosx = 3 / numSegmentosx\n",
    "dNodosy = 3 / numSegmentosy\n",
    "\n",
    "matrizCoordGlobales = Array{Float64}(undef, 0, 2)\n",
    "nodos = 0\n",
    "Coordy = 0\n",
    "for j in 1:numNodosy\n",
    "    Coordx = 0\n",
    "    nodos =nodos + 1\n",
    "    for i in 1:numNodosx\n",
    "        B = [Coordx Coordy]\n",
    "        matrizCoordGlobales = [matrizCoordGlobales; B]\n",
    "        Coordx += dNodosx\n",
    "    end\n",
    "    Coordy += dNodosy\n",
    "end\n",
    "\n",
    "display(matrizCoordGlobales)\n",
    "end"
   ]
  }
 ],
 "metadata": {
  "kernelspec": {
   "display_name": "Julia 1.8.5",
   "language": "julia",
   "name": "julia-1.8"
  },
  "language_info": {
   "file_extension": ".jl",
   "mimetype": "application/julia",
   "name": "julia",
   "version": "1.8.5"
  }
 },
 "nbformat": 4,
 "nbformat_minor": 2
}
