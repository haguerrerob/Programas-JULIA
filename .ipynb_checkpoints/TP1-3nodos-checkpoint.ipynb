{
 "cells": [
  {
   "cell_type": "code",
   "execution_count": 1,
   "id": "07bc924a",
   "metadata": {},
   "outputs": [],
   "source": [
    "using LinearAlgebra, Symbolics"
   ]
  },
  {
   "cell_type": "code",
   "execution_count": 2,
   "id": "b03ca9ea",
   "metadata": {},
   "outputs": [],
   "source": [
    "@variables r s;"
   ]
  },
  {
   "cell_type": "code",
   "execution_count": 3,
   "id": "b9df2d92",
   "metadata": {},
   "outputs": [],
   "source": [
    "ν = 0.3 # Coeficiente de Poisson\n",
    "EM = 2.1E06 # Módulo de Young - kgf/cm^2\n",
    "C = (EM/(1-ν^2)) * [1 ν 0; ν 1 0; 0 0 (1-ν)/2]; # Matriz de constantes elásticas (Tensión plana)"
   ]
  },
  {
   "cell_type": "code",
   "execution_count": 4,
   "id": "c50fce0a",
   "metadata": {},
   "outputs": [
    {
     "data": {
      "text/plain": [
       "3×2 Matrix{Float64}:\n",
       " 0.0  0.0\n",
       " 3.0  0.0\n",
       " 1.5  3.0"
      ]
     },
     "execution_count": 4,
     "metadata": {},
     "output_type": "execute_result"
    }
   ],
   "source": [
    "NodalCoords = [0 0; 3 0; 1.5 3] # Coordenadas Globales para elemento triangular de 3 nodos"
   ]
  },
  {
   "cell_type": "code",
   "execution_count": 5,
   "id": "c95e4b0b",
   "metadata": {},
   "outputs": [],
   "source": [
    "# Funciones de interpolación para un elemento isoparamétrico triangular de 3 nodos\n",
    "h1 = 1-r-s\n",
    "h2 = r\n",
    "h3 = s;"
   ]
  },
  {
   "cell_type": "code",
   "execution_count": 6,
   "id": "69022078",
   "metadata": {},
   "outputs": [
    {
     "data": {
      "text/plain": [
       "(::Differential) (generic function with 2 methods)"
      ]
     },
     "execution_count": 6,
     "metadata": {},
     "output_type": "execute_result"
    }
   ],
   "source": [
    "Dr = Differential(r)\n",
    "Ds = Differential(s)"
   ]
  },
  {
   "cell_type": "code",
   "execution_count": 7,
   "id": "8f807146",
   "metadata": {},
   "outputs": [
    {
     "data": {
      "text/latex": [
       "$$ \\begin{equation}\n",
       "\\left[\n",
       "\\begin{array}{ccc}\n",
       "1 - r - s & r & s \\\\\n",
       "\\end{array}\n",
       "\\right]\n",
       "\\end{equation}\n",
       " $$"
      ],
      "text/plain": [
       "1×3 Matrix{Num}:\n",
       " 1 - r - s  r  s"
      ]
     },
     "metadata": {},
     "output_type": "display_data"
    }
   ],
   "source": [
    "H = [h1 h2 h3]\n",
    "H1 = [h1 h2 h3; h1 h2 h3]\n",
    "HM = [h1 0 h2 0 h3 0 ; 0 h1 0 h2 0 h3]\n",
    "display(H)"
   ]
  },
  {
   "cell_type": "code",
   "execution_count": 8,
   "id": "54eabe21",
   "metadata": {},
   "outputs": [
    {
     "data": {
      "text/latex": [
       "$$ \\begin{equation}\n",
       "\\left[\n",
       "\\begin{array}{ccc}\n",
       "-1 & 1 & 0 \\\\\n",
       "-1 & 0 & 1 \\\\\n",
       "\\end{array}\n",
       "\\right]\n",
       "\\end{equation}\n",
       " $$"
      ],
      "text/plain": [
       "2×3 Matrix{Num}:\n",
       " -1  1  0\n",
       " -1  0  1"
      ]
     },
     "execution_count": 8,
     "metadata": {},
     "output_type": "execute_result"
    }
   ],
   "source": [
    "∇H = [transpose([expand_derivatives.(Dr(H1[1,i])) for i in 1:3]); transpose([expand_derivatives.(Ds(H1[2,i])) for i in 1:3])]"
   ]
  },
  {
   "cell_type": "code",
   "execution_count": 9,
   "id": "7e1a10b2",
   "metadata": {},
   "outputs": [
    {
     "data": {
      "text/latex": [
       "$$ \\begin{equation}\n",
       "1.5 s + 3 r\n",
       "\\end{equation}\n",
       " $$"
      ],
      "text/plain": [
       "1.5s + 3.0r"
      ]
     },
     "metadata": {},
     "output_type": "display_data"
    },
    {
     "data": {
      "text/latex": [
       "$$ \\begin{equation}\n",
       "3 s\n",
       "\\end{equation}\n",
       " $$"
      ],
      "text/plain": [
       "3.0s"
      ]
     },
     "metadata": {},
     "output_type": "display_data"
    }
   ],
   "source": [
    "x = expand((H * NodalCoords[:,1])[1])\n",
    "y = expand((H * NodalCoords[:,2])[1])\n",
    "display(x)\n",
    "display(y)"
   ]
  },
  {
   "cell_type": "code",
   "execution_count": 10,
   "id": "52b4526b",
   "metadata": {},
   "outputs": [],
   "source": [
    "dxdr = expand_derivatives(Dr(x))\n",
    "dxds = expand_derivatives(Ds(x))        \n",
    "dydr = expand_derivatives(Dr(y))\n",
    "dyds = expand_derivatives(Ds(y));"
   ]
  },
  {
   "cell_type": "code",
   "execution_count": 11,
   "id": "d7e0e7d3",
   "metadata": {},
   "outputs": [
    {
     "data": {
      "text/latex": [
       "$$ \\begin{equation}\n",
       "\\left[\n",
       "\\begin{array}{cc}\n",
       "3 & 0 \\\\\n",
       "1.5 & 3 \\\\\n",
       "\\end{array}\n",
       "\\right]\n",
       "\\end{equation}\n",
       " $$"
      ],
      "text/plain": [
       "2×2 Matrix{Num}:\n",
       " 3.0  0\n",
       " 1.5  3.0"
      ]
     },
     "metadata": {},
     "output_type": "display_data"
    },
    {
     "data": {
      "text/latex": [
       "$$ \\begin{equation}\n",
       "\\left[\n",
       "\\begin{array}{cc}\n",
       "0.33333 & 0 \\\\\n",
       "-0.16667 & 0.33333 \\\\\n",
       "\\end{array}\n",
       "\\right]\n",
       "\\end{equation}\n",
       " $$"
      ],
      "text/plain": [
       "2×2 Matrix{Num}:\n",
       "  0.333333  0.0\n",
       " -0.166667  0.333333"
      ]
     },
     "metadata": {},
     "output_type": "display_data"
    },
    {
     "data": {
      "text/latex": [
       "$$ \\begin{equation}\n",
       "9\n",
       "\\end{equation}\n",
       " $$"
      ],
      "text/plain": [
       "9.0"
      ]
     },
     "metadata": {},
     "output_type": "display_data"
    }
   ],
   "source": [
    "J = [dxdr dydr; dxds dyds] # Jacobiano\n",
    "J_inv = inv(J) # Inversa del Jacobiano\n",
    "J_det = det(J) # Determinante del Jacobiano\n",
    "display(J)\n",
    "display(J_inv)\n",
    "display(J_det)"
   ]
  },
  {
   "cell_type": "code",
   "execution_count": 12,
   "id": "e6d0899e",
   "metadata": {},
   "outputs": [
    {
     "data": {
      "text/latex": [
       "$$ \\begin{equation}\n",
       "\\left[\n",
       "\\begin{array}{cc}\n",
       "-0.16667 & -0.33333 \\\\\n",
       "0.33333 & 0 \\\\\n",
       "-0.16667 & 0.33333 \\\\\n",
       "\\end{array}\n",
       "\\right]\n",
       "\\end{equation}\n",
       " $$"
      ],
      "text/plain": [
       "3×2 Matrix{Num}:\n",
       " -0.166667  -0.333333\n",
       "  0.333333   0.0\n",
       " -0.166667   0.333333"
      ]
     },
     "execution_count": 12,
     "metadata": {},
     "output_type": "execute_result"
    }
   ],
   "source": [
    "B1 = transpose(∇H) * J_inv"
   ]
  },
  {
   "cell_type": "code",
   "execution_count": 13,
   "id": "5e53969f",
   "metadata": {},
   "outputs": [
    {
     "data": {
      "text/latex": [
       "$$ \\begin{equation}\n",
       "\\left[\n",
       "\\begin{array}{cccccc}\n",
       "-0.16667 & 0 & 0.33333 & 0 & -0.16667 & 0 \\\\\n",
       "0 & -0.33333 & 0 & 0 & 0 & 0.33333 \\\\\n",
       "-0.33333 & -0.16667 & 0 & 0.33333 & 0.33333 & -0.16667 \\\\\n",
       "\\end{array}\n",
       "\\right]\n",
       "\\end{equation}\n",
       " $$"
      ],
      "text/plain": [
       "3×6 Matrix{Num}:\n",
       " -0.166667   0         0.333333  0         -0.166667   0\n",
       "  0         -0.333333  0         0.0        0          0.333333\n",
       " -0.333333  -0.166667  0.0       0.333333   0.333333  -0.166667"
      ]
     },
     "execution_count": 13,
     "metadata": {},
     "output_type": "execute_result"
    }
   ],
   "source": [
    "B = [B1[1,1] 0 B1[2,1] 0 B1[3,1] 0 \n",
    "    0 B1[1,2] 0 B1[2,2] 0 B1[3,2] \n",
    "    B1[1,2] B1[1,1] B1[2,2] B1[2,1] B1[3,2] B1[3,1]]"
   ]
  },
  {
   "cell_type": "code",
   "execution_count": 25,
   "id": "89fda6ca",
   "metadata": {
    "scrolled": false
   },
   "outputs": [
    {
     "data": {
      "text/latex": [
       "$$ \\begin{equation}\n",
       "\\left[\n",
       "\\begin{array}{cccccc}\n",
       "6.9231 \\cdot 10^{5} & 3.75 \\cdot 10^{5} & -5.7692 \\cdot 10^{5} & -4.0385 \\cdot 10^{5} & -1.1538 \\cdot 10^{5} & 28846 \\\\\n",
       "3.75 \\cdot 10^{5} & 1.2548 \\cdot 10^{6} & -3.4615 \\cdot 10^{5} & -2.0192 \\cdot 10^{5} & -28846 & -1.0529 \\cdot 10^{6} \\\\\n",
       "-5.7692 \\cdot 10^{5} & -3.4615 \\cdot 10^{5} & 1.1538 \\cdot 10^{6} & 0 & -5.7692 \\cdot 10^{5} & 3.4615 \\cdot 10^{5} \\\\\n",
       "-4.0385 \\cdot 10^{5} & -2.0192 \\cdot 10^{5} & 0 & 4.0385 \\cdot 10^{5} & 4.0385 \\cdot 10^{5} & -2.0192 \\cdot 10^{5} \\\\\n",
       "-1.1538 \\cdot 10^{5} & -28846 & -5.7692 \\cdot 10^{5} & 4.0385 \\cdot 10^{5} & 6.9231 \\cdot 10^{5} & -3.75 \\cdot 10^{5} \\\\\n",
       "28846 & -1.0529 \\cdot 10^{6} & 3.4615 \\cdot 10^{5} & -2.0192 \\cdot 10^{5} & -3.75 \\cdot 10^{5} & 1.2548 \\cdot 10^{6} \\\\\n",
       "\\end{array}\n",
       "\\right]\n",
       "\\end{equation}\n",
       " $$"
      ],
      "text/plain": [
       "6×6 Matrix{Num}:\n",
       "      6.92308e5  375000.0        …       -1.15385e5    28846.2\n",
       " 375000.0             1.25481e6      -28846.2             -1.05288e6\n",
       "     -5.76923e5      -3.46154e5          -5.76923e5        3.46154e5\n",
       "     -4.03846e5      -2.01923e5           4.03846e5       -2.01923e5\n",
       "     -1.15385e5  -28846.2                 6.92308e5  -375000.0\n",
       "  28846.2            -1.05288e6  …  -375000.0              1.25481e6"
      ]
     },
     "metadata": {},
     "output_type": "display_data"
    }
   ],
   "source": [
    "K = zeros(6,6) \n",
    "\n",
    "#Integramos por medio de cuadratura de Gauss para tres puntos sobre dominios triangulares\n",
    "\n",
    "GL3T = [1/6 1/6; 2/3 1/6; 1/3 2/3] # Puntos de Gauss para integración\n",
    "WGL3T = [1/3 1/3 1/3]\n",
    "\n",
    "# En este caso, el elemento posee deformación constante por lo que J, la inversa y el determinante, junto con B son constantes\n",
    "for i in 1:3                           \n",
    "        K += 1/2 * (transpose(B) * C * B * J_det * WGL3T[i])        \n",
    "    end\n",
    "K1 = copy(K)\n",
    "display(K)"
   ]
  },
  {
   "cell_type": "code",
   "execution_count": 26,
   "id": "b055b75a",
   "metadata": {},
   "outputs": [
    {
     "data": {
      "text/latex": [
       "$$ \\begin{equation}\n",
       "\\left[\n",
       "\\begin{array}{cccccc}\n",
       "6.9231 \\cdot 10^{5} & 0 & 0 & 0 & -1.1538 \\cdot 10^{5} & 28846 \\\\\n",
       "0 & 1 & 0 & 0 & 0 & 0 \\\\\n",
       "0 & 0 & 1 & 0 & 0 & 0 \\\\\n",
       "0 & 0 & 0 & 1 & 0 & 0 \\\\\n",
       "-1.1538 \\cdot 10^{5} & 0 & 0 & 0 & 6.9231 \\cdot 10^{5} & -3.75 \\cdot 10^{5} \\\\\n",
       "28846 & 0 & 0 & 0 & -3.75 \\cdot 10^{5} & 1.2548 \\cdot 10^{6} \\\\\n",
       "\\end{array}\n",
       "\\right]\n",
       "\\end{equation}\n",
       " $$"
      ],
      "text/plain": [
       "6×6 Matrix{Num}:\n",
       "     6.92308e5  0  0  0       -1.15385e5    28846.2\n",
       "     0          1  0  0        0                0\n",
       "     0          0  1  0        0                0\n",
       "     0          0  0  1        0                0\n",
       "    -1.15385e5  0  0  0        6.92308e5  -375000.0\n",
       " 28846.2        0  0  0  -375000.0              1.25481e6"
      ]
     },
     "metadata": {},
     "output_type": "display_data"
    }
   ],
   "source": [
    " # Imponemos condiciones de contorno de Dirichlet\n",
    " # U1x=0 => U2=0\n",
    "    K[2,:] .= 0\n",
    "    K[:,2] .= 0\n",
    "    K[2,2] =1\n",
    " # U2x=0 => U3=0\n",
    "    K[3,:] .= 0\n",
    "    K[:,3] .= 0\n",
    "    K[3,3] =1\n",
    " # U2y=0 => U4=0\n",
    "    K[4,:] .= 0\n",
    "    K[:,4] .= 0\n",
    "    K[4,4] =1\n",
    "\n",
    "display(K)"
   ]
  },
  {
   "cell_type": "code",
   "execution_count": 27,
   "id": "f1665daf",
   "metadata": {},
   "outputs": [],
   "source": [
    "#= \\(A,B)\n",
    "Matrix division using a polyalgorithm. For input matrices A and B, the result X is such that A*X == B when A is square. \n",
    "The solver that is used depends upon the structure of A. If A is upper or lower triangular (or diagonal), no factorization \n",
    "of A is required and the system is solved with either forward or backward substitution. For non-triangular square matrices, \n",
    "an LU factorization is used.\n",
    "=#"
   ]
  },
  {
   "cell_type": "code",
   "execution_count": 28,
   "id": "e961f28c",
   "metadata": {},
   "outputs": [
    {
     "data": {
      "text/latex": [
       "$$ \\begin{equation}\n",
       "\\left[\n",
       "\\begin{array}{c}\n",
       "0.0001369 \\\\\n",
       "0 \\\\\n",
       "0 \\\\\n",
       "0 \\\\\n",
       "0.0008869 \\\\\n",
       "0.0002619 \\\\\n",
       "\\end{array}\n",
       "\\right]\n",
       "\\end{equation}\n",
       " $$"
      ],
      "text/plain": [
       "6-element Vector{Num}:\n",
       " 0.00013690476190476194\n",
       " 0.0\n",
       " 0.0\n",
       " 0.0\n",
       " 0.0008869047619047623\n",
       " 0.0002619047619047619"
      ]
     },
     "metadata": {},
     "output_type": "display_data"
    },
    {
     "data": {
      "text/latex": [
       "$$ \\begin{equation}\n",
       "\\left[\n",
       "\\begin{array}{c}\n",
       "-0.00017063 \\\\\n",
       "8.7302 \\cdot 10^{-5} \\\\\n",
       "0.00020635 \\\\\n",
       "\\end{array}\n",
       "\\right]\n",
       "\\end{equation}\n",
       " $$"
      ],
      "text/plain": [
       "3-element Vector{Num}:\n",
       " -0.0001706349206349207\n",
       "  8.73015873015873e-5\n",
       "  0.00020634920634920648"
      ]
     },
     "metadata": {},
     "output_type": "display_data"
    },
    {
     "data": {
      "text/latex": [
       "$$ \\begin{equation}\n",
       "\\left[\n",
       "\\begin{array}{c}\n",
       "-333.33 \\\\\n",
       "83.333 \\\\\n",
       "166.67 \\\\\n",
       "\\end{array}\n",
       "\\right]\n",
       "\\end{equation}\n",
       " $$"
      ],
      "text/plain": [
       "3-element Vector{Num}:\n",
       " -333.3333333333335\n",
       "   83.33333333333327\n",
       "  166.66666666666677"
      ]
     },
     "metadata": {},
     "output_type": "display_data"
    }
   ],
   "source": [
    "# CASO 1. F1 = 500kgf ; F2 = 0kgf\n",
    "\n",
    "R1 =[0, 0, 0, 0, 500, 0] # Fuerzas nodales en kgf.\n",
    "U1 = K \\ R1 # U1 --> Desplazamientos nodales.\n",
    "display(U1)\n",
    "E1 = B * U1\n",
    "σ1 = C * E1\n",
    "display(E1)\n",
    "display(σ1)"
   ]
  },
  {
   "cell_type": "code",
   "execution_count": 29,
   "id": "c06e732a",
   "metadata": {},
   "outputs": [
    {
     "data": {
      "text/latex": [
       "$$ \\begin{equation}\n",
       "\\left[\n",
       "\\begin{array}{cccccc}\n",
       "6.9231 \\cdot 10^{5} & 3.75 \\cdot 10^{5} & -5.7692 \\cdot 10^{5} & -4.0385 \\cdot 10^{5} & -1.1538 \\cdot 10^{5} & 28846 \\\\\n",
       "3.75 \\cdot 10^{5} & 1.2548 \\cdot 10^{6} & -3.4615 \\cdot 10^{5} & -2.0192 \\cdot 10^{5} & -28846 & -1.0529 \\cdot 10^{6} \\\\\n",
       "-5.7692 \\cdot 10^{5} & -3.4615 \\cdot 10^{5} & 1.1538 \\cdot 10^{6} & 0 & -5.7692 \\cdot 10^{5} & 3.4615 \\cdot 10^{5} \\\\\n",
       "-4.0385 \\cdot 10^{5} & -2.0192 \\cdot 10^{5} & 0 & 4.0385 \\cdot 10^{5} & 4.0385 \\cdot 10^{5} & -2.0192 \\cdot 10^{5} \\\\\n",
       "-1.1538 \\cdot 10^{5} & -28846 & -5.7692 \\cdot 10^{5} & 4.0385 \\cdot 10^{5} & 6.9231 \\cdot 10^{5} & -3.75 \\cdot 10^{5} \\\\\n",
       "28846 & -1.0529 \\cdot 10^{6} & 3.4615 \\cdot 10^{5} & -2.0192 \\cdot 10^{5} & -3.75 \\cdot 10^{5} & 1.2548 \\cdot 10^{6} \\\\\n",
       "\\end{array}\n",
       "\\right]\n",
       "\\end{equation}\n",
       " $$"
      ],
      "text/plain": [
       "6×6 Matrix{Num}:\n",
       "      6.92308e5  375000.0        …       -1.15385e5    28846.2\n",
       " 375000.0             1.25481e6      -28846.2             -1.05288e6\n",
       "     -5.76923e5      -3.46154e5          -5.76923e5        3.46154e5\n",
       "     -4.03846e5      -2.01923e5           4.03846e5       -2.01923e5\n",
       "     -1.15385e5  -28846.2                 6.92308e5  -375000.0\n",
       "  28846.2            -1.05288e6  …  -375000.0              1.25481e6"
      ]
     },
     "execution_count": 29,
     "metadata": {},
     "output_type": "execute_result"
    }
   ],
   "source": [
    "K1"
   ]
  },
  {
   "cell_type": "code",
   "execution_count": 30,
   "id": "87922e0e",
   "metadata": {},
   "outputs": [
    {
     "data": {
      "text/latex": [
       "$$ \\begin{equation}\n",
       "\\left[\n",
       "\\begin{array}{c}\n",
       "0 \\\\\n",
       "-250 \\\\\n",
       "-500 \\\\\n",
       "250 \\\\\n",
       "0 \\\\\n",
       "0 \\\\\n",
       "\\end{array}\n",
       "\\right]\n",
       "\\end{equation}\n",
       " $$"
      ],
      "text/plain": [
       "6-element Vector{Num}:\n",
       "    0\n",
       " -249.99999999999991\n",
       " -500.0000000000002\n",
       "  250.0\n",
       "    0\n",
       "    0"
      ]
     },
     "metadata": {},
     "output_type": "display_data"
    }
   ],
   "source": [
    "# Cálculo de las reacciones\n",
    "Ra1 = (K1 * U1)-R1\n",
    "for i=1:6\n",
    "   if abs(Ra1[i]) <= 1e-12\n",
    "        Ra1[i] = 0\n",
    "    end\n",
    "end\n",
    "display(Ra1)"
   ]
  },
  {
   "cell_type": "code",
   "execution_count": null,
   "id": "53f9c017",
   "metadata": {},
   "outputs": [],
   "source": []
  },
  {
   "cell_type": "code",
   "execution_count": 20,
   "id": "04fb183a",
   "metadata": {},
   "outputs": [
    {
     "data": {
      "text/latex": [
       "$$ \\begin{equation}\n",
       "\\left[\n",
       "\\begin{array}{c}\n",
       "1.1905 \\cdot 10^{-5} \\\\\n",
       "0 \\\\\n",
       "0 \\\\\n",
       "0 \\\\\n",
       "0.00013095 \\\\\n",
       "0.0002381 \\\\\n",
       "\\end{array}\n",
       "\\right]\n",
       "\\end{equation}\n",
       " $$"
      ],
      "text/plain": [
       "6-element Vector{Num}:\n",
       " 1.1904761904761903e-5\n",
       " 0.0\n",
       " 0.0\n",
       " 0.0\n",
       " 0.00013095238095238096\n",
       " 0.0002380952380952381"
      ]
     },
     "metadata": {},
     "output_type": "display_data"
    },
    {
     "data": {
      "text/latex": [
       "$$ \\begin{equation}\n",
       "\\left[\n",
       "\\begin{array}{c}\n",
       "-2.381 \\cdot 10^{-5} \\\\\n",
       "7.9365 \\cdot 10^{-5} \\\\\n",
       "0 \\\\\n",
       "\\end{array}\n",
       "\\right]\n",
       "\\end{equation}\n",
       " $$"
      ],
      "text/plain": [
       "3-element Vector{Num}:\n",
       " -2.3809523809523807e-5\n",
       "  7.936507936507937e-5\n",
       "  0.0"
      ]
     },
     "metadata": {},
     "output_type": "display_data"
    },
    {
     "data": {
      "text/latex": [
       "$$ \\begin{equation}\n",
       "\\left[\n",
       "\\begin{array}{c}\n",
       "7.1054 \\cdot 10^{-15} \\\\\n",
       "166.67 \\\\\n",
       "0 \\\\\n",
       "\\end{array}\n",
       "\\right]\n",
       "\\end{equation}\n",
       " $$"
      ],
      "text/plain": [
       "3-element Vector{Num}:\n",
       "   7.105427357601002e-15\n",
       " 166.66666666666663\n",
       "   0.0"
      ]
     },
     "metadata": {},
     "output_type": "display_data"
    }
   ],
   "source": [
    "# CASO 2. F1 = 0kgf ; F2 = 500kgf\n",
    "\n",
    "R2 =[0, 0, 0, 0, 0, 500] # Fuerzas nodales en kgf.\n",
    "U2 = K \\ R2 # U2 --> Desplazamientos nodales.\n",
    "display(U2)\n",
    "E2 = B * U2\n",
    "σ2 = C * E2\n",
    "display(E2)\n",
    "display(σ2)"
   ]
  },
  {
   "cell_type": "code",
   "execution_count": 21,
   "id": "33e3af88",
   "metadata": {},
   "outputs": [
    {
     "data": {
      "text/latex": [
       "$$ \\begin{equation}\n",
       "\\left[\n",
       "\\begin{array}{c}\n",
       "0 \\\\\n",
       "-500 \\\\\n",
       "0 \\\\\n",
       "0 \\\\\n",
       "0 \\\\\n",
       "0 \\\\\n",
       "\\end{array}\n",
       "\\right]\n",
       "\\end{equation}\n",
       " $$"
      ],
      "text/plain": [
       "6-element Vector{Num}:\n",
       "    0\n",
       " -499.99999999999983\n",
       "    0\n",
       "    0\n",
       "    0\n",
       "    0"
      ]
     },
     "metadata": {},
     "output_type": "display_data"
    }
   ],
   "source": [
    "# Cálculo de las reacciones\n",
    "Ra2 = (K1 * U2)-R2\n",
    "for i=1:6\n",
    "   if abs(Ra2[i]) <= 1e-12\n",
    "        Ra2[i] = 0\n",
    "    end\n",
    "end\n",
    "display(Ra2)"
   ]
  },
  {
   "cell_type": "code",
   "execution_count": 22,
   "id": "37eedb02",
   "metadata": {},
   "outputs": [
    {
     "data": {
      "text/latex": [
       "$$ \\begin{equation}\n",
       "\\left[\n",
       "\\begin{array}{c}\n",
       "8.0357 \\cdot 10^{-5} \\\\\n",
       "0 \\\\\n",
       "0 \\\\\n",
       "0 \\\\\n",
       "0.0005744 \\\\\n",
       "0.00036905 \\\\\n",
       "\\end{array}\n",
       "\\right]\n",
       "\\end{equation}\n",
       " $$"
      ],
      "text/plain": [
       "6-element Vector{Num}:\n",
       " 8.035714285714288e-5\n",
       " 0.0\n",
       " 0.0\n",
       " 0.0\n",
       " 0.0005744047619047621\n",
       " 0.00036904761904761905"
      ]
     },
     "metadata": {},
     "output_type": "display_data"
    },
    {
     "data": {
      "text/latex": [
       "$$ \\begin{equation}\n",
       "\\left[\n",
       "\\begin{array}{c}\n",
       "-0.00010913 \\\\\n",
       "0.00012302 \\\\\n",
       "0.00010317 \\\\\n",
       "\\end{array}\n",
       "\\right]\n",
       "\\end{equation}\n",
       " $$"
      ],
      "text/plain": [
       "3-element Vector{Num}:\n",
       " -0.00010912698412698415\n",
       "  0.000123015873015873\n",
       "  0.00010317460317460321"
      ]
     },
     "metadata": {},
     "output_type": "display_data"
    },
    {
     "data": {
      "text/latex": [
       "$$ \\begin{equation}\n",
       "\\left[\n",
       "\\begin{array}{c}\n",
       "-166.67 \\\\\n",
       "208.33 \\\\\n",
       "83.333 \\\\\n",
       "\\end{array}\n",
       "\\right]\n",
       "\\end{equation}\n",
       " $$"
      ],
      "text/plain": [
       "3-element Vector{Num}:\n",
       " -166.6666666666667\n",
       "  208.33333333333326\n",
       "   83.33333333333336"
      ]
     },
     "metadata": {},
     "output_type": "display_data"
    }
   ],
   "source": [
    "# CASO 3. F1 = 500kgf ; F2 = 500kgf\n",
    "\n",
    "R3 =[0, 0, 0, 0, 500, 500] # Fuerzas nodales en kgf.\n",
    "U3 = K \\ R3 # U3 --> Desplazamientos nodales.\n",
    "display(U3)\n",
    "E3 = B * U3\n",
    "σ3 = C * E3\n",
    "display(E3)\n",
    "display(σ3)"
   ]
  },
  {
   "cell_type": "code",
   "execution_count": 23,
   "id": "2635ccef",
   "metadata": {},
   "outputs": [
    {
     "data": {
      "text/latex": [
       "$$ \\begin{equation}\n",
       "\\left[\n",
       "\\begin{array}{c}\n",
       "0 \\\\\n",
       "-750 \\\\\n",
       "-500 \\\\\n",
       "250 \\\\\n",
       "0 \\\\\n",
       "0 \\\\\n",
       "\\end{array}\n",
       "\\right]\n",
       "\\end{equation}\n",
       " $$"
      ],
      "text/plain": [
       "6-element Vector{Num}:\n",
       "    0\n",
       " -749.9999999999997\n",
       " -500.0000000000003\n",
       "  250.00000000000006\n",
       "    0\n",
       "    0"
      ]
     },
     "metadata": {},
     "output_type": "display_data"
    }
   ],
   "source": [
    "# Cálculo de las reacciones\n",
    "Ra3 = (K1 * U3)-R3\n",
    "for i=1:6\n",
    "   if abs(Ra3[i]) <= 1e-12\n",
    "        Ra3[i] = 0\n",
    "    end\n",
    "end\n",
    "display(Ra3)"
   ]
  },
  {
   "cell_type": "code",
   "execution_count": 24,
   "id": "9b2e91c7",
   "metadata": {},
   "outputs": [
    {
     "data": {
      "text/plain": [
       "0.16666666666666666"
      ]
     },
     "execution_count": 24,
     "metadata": {},
     "output_type": "execute_result"
    }
   ],
   "source": [
    "1/6"
   ]
  },
  {
   "cell_type": "code",
   "execution_count": null,
   "id": "26f4c04d",
   "metadata": {},
   "outputs": [],
   "source": []
  }
 ],
 "metadata": {
  "kernelspec": {
   "display_name": "Julia 1.8.5",
   "language": "julia",
   "name": "julia-1.8"
  },
  "language_info": {
   "file_extension": ".jl",
   "mimetype": "application/julia",
   "name": "julia",
   "version": "1.8.5"
  }
 },
 "nbformat": 4,
 "nbformat_minor": 5
}
