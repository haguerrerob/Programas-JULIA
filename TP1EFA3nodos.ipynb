{
 "cells": [
  {
   "cell_type": "code",
   "execution_count": 3,
   "id": "07bc924a",
   "metadata": {},
   "outputs": [],
   "source": [
    "using LinearAlgebra, Symbolics"
   ]
  },
  {
   "cell_type": "code",
   "execution_count": 4,
   "id": "b03ca9ea",
   "metadata": {},
   "outputs": [],
   "source": [
    "@variables r s;"
   ]
  },
  {
   "cell_type": "code",
   "execution_count": 5,
   "id": "b9df2d92",
   "metadata": {},
   "outputs": [],
   "source": [
    "ν = 0.3 # Coeficiente de Poisson\n",
    "EM = 2.1E06 # Módulo de Young - kgf/cm^2\n",
    "C = (EM/(1-ν^2)) * [1 ν 0; ν 1 0; 0 0 (1-ν)/2]; # Matriz de constantes elásticas (Tensión plana)"
   ]
  },
  {
   "cell_type": "code",
   "execution_count": 6,
   "id": "1bc3c7e6",
   "metadata": {},
   "outputs": [
    {
     "data": {
      "text/plain": [
       "3×2 Matrix{Float64}:\n",
       " 0.0  0.0\n",
       " 3.0  0.0\n",
       " 1.5  3.0"
      ]
     },
     "metadata": {},
     "output_type": "display_data"
    }
   ],
   "source": [
    "NodalCoords = [0 0; 3 0; 1.5 3] # Coordenadas Globales para elemento triangular de 3 nodos"
   ]
  },
  {
   "cell_type": "code",
   "execution_count": 7,
   "id": "c95e4b0b",
   "metadata": {},
   "outputs": [],
   "source": [
    "# Funciones de interpolación para un elemento isoparamétrico triangular de 3 nodos\n",
    "h1 = 1-r-s\n",
    "h2 = r\n",
    "h3 = s;"
   ]
  },
  {
   "cell_type": "code",
   "execution_count": 8,
   "id": "69022078",
   "metadata": {},
   "outputs": [
    {
     "data": {
      "text/plain": [
       "(::Differential) (generic function with 3 methods)"
      ]
     },
     "metadata": {},
     "output_type": "display_data"
    }
   ],
   "source": [
    "Dr = Differential(r)\n",
    "Ds = Differential(s)"
   ]
  },
  {
   "cell_type": "code",
   "execution_count": 9,
   "id": "8f807146",
   "metadata": {},
   "outputs": [
    {
     "data": {
      "text/latex": [
       "$$ \\begin{equation}\n",
       "\\left[\n",
       "\\begin{array}{ccc}\n",
       "-1 & 1 & 0 \\\\\n",
       "-1 & 0 & 1 \\\\\n",
       "\\end{array}\n",
       "\\right]\n",
       "\\end{equation}\n",
       " $$"
      ],
      "text/plain": [
       "2×3 Matrix{Num}:\n",
       " -1  1  0\n",
       " -1  0  1"
      ]
     },
     "metadata": {},
     "output_type": "display_data"
    }
   ],
   "source": [
    "H = [h1 h2 h3]\n",
    "∇H = [transpose([expand_derivatives.(Dr(H[i])) for i in 1:3]); transpose([expand_derivatives.(Ds(H[i])) for i in 1:3])]"
   ]
  },
  {
   "cell_type": "code",
   "execution_count": 11,
   "id": "7e1a10b2",
   "metadata": {},
   "outputs": [
    {
     "name": "stdout",
     "output_type": "stream",
     "text": [
      "3.0r + 1.5s\n",
      "3.0s\n"
     ]
    }
   ],
   "source": [
    "x = expand((H * NodalCoords[:,1])[1])\n",
    "y = expand((H * NodalCoords[:,2])[1])"
   ]
  },
  {
   "cell_type": "code",
   "execution_count": 12,
   "id": "e04be2ef",
   "metadata": {},
   "outputs": [
    {
     "data": {
      "text/latex": [
       "$$ \\begin{equation}\n",
       "\\left[\n",
       "\\begin{array}{cc}\n",
       "3 & 0 \\\\\n",
       "1.5 & 3 \\\\\n",
       "\\end{array}\n",
       "\\right]\n",
       "\\end{equation}\n",
       " $$"
      ],
      "text/plain": [
       "2×2 Matrix{Num}:\n",
       " 3.0  0.0\n",
       " 1.5  3.0"
      ]
     },
     "metadata": {},
     "output_type": "display_data"
    },
    {
     "data": {
      "text/latex": [
       "$$ \\begin{equation}\n",
       "\\left[\n",
       "\\begin{array}{cc}\n",
       "0.33333 & -0 \\\\\n",
       "-0.16667 & 0.33333 \\\\\n",
       "\\end{array}\n",
       "\\right]\n",
       "\\end{equation}\n",
       " $$"
      ],
      "text/plain": [
       "2×2 Matrix{Num}:\n",
       "  0.333333  -0.0\n",
       " -0.166667   0.333333"
      ]
     },
     "metadata": {},
     "output_type": "display_data"
    },
    {
     "data": {
      "text/latex": [
       "$$ \\begin{equation}\n",
       "9\n",
       "\\end{equation}\n",
       " $$"
      ],
      "text/plain": [
       "9.0"
      ]
     },
     "metadata": {},
     "output_type": "display_data"
    }
   ],
   "source": [
    "J = expand.(∇H * NodalCoords) # Fundamentals of FEA, Koutromanos-pag.240 (ec.8.5.25)\n",
    "\n",
    "J_inv = inv(J) # Inversa del Jacobiano\n",
    "J_det = det(J) # Determinante del Jacobiano\n",
    "display(J)\n",
    "display(J_inv)\n",
    "display(J_det)"
   ]
  },
  {
   "cell_type": "code",
   "execution_count": 13,
   "id": "5e53969f",
   "metadata": {},
   "outputs": [
    {
     "data": {
      "text/latex": [
       "$$ \\begin{equation}\n",
       "\\left[\n",
       "\\begin{array}{ccc}\n",
       "-0.33333 & 0.33333 & 0 \\\\\n",
       "-0.16667 & -0.16667 & 0.33333 \\\\\n",
       "\\end{array}\n",
       "\\right]\n",
       "\\end{equation}\n",
       " $$"
      ],
      "text/plain": [
       "2×3 Matrix{Num}:\n",
       " -0.333333   0.333333  0.0\n",
       " -0.166667  -0.166667  0.333333"
      ]
     },
     "metadata": {},
     "output_type": "display_data"
    },
    {
     "data": {
      "text/latex": [
       "$$ \\begin{equation}\n",
       "\\left[\n",
       "\\begin{array}{cccccc}\n",
       "-0.33333 & 0 & 0.33333 & 0 & 0 & 0 \\\\\n",
       "0 & -0.16667 & 0 & -0.16667 & 0 & 0.33333 \\\\\n",
       "-0.16667 & -0.33333 & -0.16667 & 0.33333 & 0.33333 & 0 \\\\\n",
       "\\end{array}\n",
       "\\right]\n",
       "\\end{equation}\n",
       " $$"
      ],
      "text/plain": [
       "3×6 Matrix{Num}:\n",
       " -0.333333   0          0.333333   0         0.0       0\n",
       "  0         -0.166667   0         -0.166667  0         0.333333\n",
       " -0.166667  -0.333333  -0.166667   0.333333  0.333333  0.0"
      ]
     },
     "metadata": {},
     "output_type": "display_data"
    }
   ],
   "source": [
    "B1 = J_inv * ∇H\n",
    "display(B1)\n",
    "\n",
    "B = [B1[1,1] 0 B1[1,2] 0 B1[1,3] 0 \n",
    "    0 B1[2,1] 0 B1[2,2] 0 B1[2,3] \n",
    "    B1[2,1] B1[1,1] B1[2,2] B1[1,2] B1[2,3] B1[1,3]]"
   ]
  },
  {
   "cell_type": "code",
   "execution_count": 14,
   "id": "197673b3",
   "metadata": {},
   "outputs": [
    {
     "data": {
      "text/plain": [
       "1×3 Matrix{Float64}:\n",
       " 0.333333  0.333333  0.333333"
      ]
     },
     "metadata": {},
     "output_type": "display_data"
    }
   ],
   "source": [
    "#Integramos por medio de cuadratura de Gauss para tres puntos sobre dominios triangulares\n",
    "GL3T = [1/6 1/6; 2/3 1/6; 1/3 2/3] # Puntos de Gauss para integración\n",
    "WGL3T = [1/3 1/3 1/3]"
   ]
  },
  {
   "cell_type": "code",
   "execution_count": 15,
   "id": "89fda6ca",
   "metadata": {
    "scrolled": false
   },
   "outputs": [
    {
     "data": {
      "text/latex": [
       "$$ \\begin{equation}\n",
       "\\left[\n",
       "\\begin{array}{cccccc}\n",
       "1.2548 \\cdot 10^{6} & 3.75 \\cdot 10^{5} & -1.0529 \\cdot 10^{6} & -28846 & -2.0192 \\cdot 10^{5} & -3.4615 \\cdot 10^{5} \\\\\n",
       "3.75 \\cdot 10^{5} & 6.9231 \\cdot 10^{5} & 28846 & -1.1538 \\cdot 10^{5} & -4.0385 \\cdot 10^{5} & -5.7692 \\cdot 10^{5} \\\\\n",
       "-1.0529 \\cdot 10^{6} & 28846 & 1.2548 \\cdot 10^{6} & -3.75 \\cdot 10^{5} & -2.0192 \\cdot 10^{5} & 3.4615 \\cdot 10^{5} \\\\\n",
       "-28846 & -1.1538 \\cdot 10^{5} & -3.75 \\cdot 10^{5} & 6.9231 \\cdot 10^{5} & 4.0385 \\cdot 10^{5} & -5.7692 \\cdot 10^{5} \\\\\n",
       "-2.0192 \\cdot 10^{5} & -4.0385 \\cdot 10^{5} & -2.0192 \\cdot 10^{5} & 4.0385 \\cdot 10^{5} & 4.0385 \\cdot 10^{5} & 0 \\\\\n",
       "-3.4615 \\cdot 10^{5} & -5.7692 \\cdot 10^{5} & 3.4615 \\cdot 10^{5} & -5.7692 \\cdot 10^{5} & 0 & 1.1538 \\cdot 10^{6} \\\\\n",
       "\\end{array}\n",
       "\\right]\n",
       "\\end{equation}\n",
       " $$"
      ],
      "text/plain": [
       "6×6 Matrix{Num}:\n",
       "      1.25481e6  375000.0             -1.05288e6  …  -2.01923e5  -3.46154e5\n",
       " 375000.0             6.92308e5    28846.2           -4.03846e5  -5.76923e5\n",
       "     -1.05288e6   28846.2              1.25481e6     -2.01923e5   3.46154e5\n",
       " -28846.2            -1.15385e5  -375000.0            4.03846e5  -5.76923e5\n",
       "     -2.01923e5      -4.03846e5       -2.01923e5      4.03846e5   0.0\n",
       "     -3.46154e5      -5.76923e5        3.46154e5  …   0.0         1.15385e6"
      ]
     },
     "metadata": {},
     "output_type": "display_data"
    }
   ],
   "source": [
    "K = zeros(6,6) \n",
    "\n",
    "# En este caso, el elemento posee deformación constante por lo que J, la inversa y el determinante, \n",
    "# junto con B son constantes\n",
    "for i in 1:3                           \n",
    "        K += 1/2 * (transpose(B) * C * B * J_det * WGL3T[i])        \n",
    "    end\n",
    "display(K)"
   ]
  },
  {
   "cell_type": "code",
   "execution_count": 16,
   "id": "b055b75a",
   "metadata": {},
   "outputs": [
    {
     "data": {
      "text/latex": [
       "$$ \\begin{equation}\n",
       "\\left[\n",
       "\\begin{array}{cccccc}\n",
       "1.2548 \\cdot 10^{6} & 0 & 0 & 0 & -2.0192 \\cdot 10^{5} & -3.4615 \\cdot 10^{5} \\\\\n",
       "0 & 1 & 0 & 0 & 0 & 0 \\\\\n",
       "0 & 0 & 1 & 0 & 0 & 0 \\\\\n",
       "0 & 0 & 0 & 1 & 0 & 0 \\\\\n",
       "-2.0192 \\cdot 10^{5} & 0 & 0 & 0 & 4.0385 \\cdot 10^{5} & 0 \\\\\n",
       "-3.4615 \\cdot 10^{5} & 0 & 0 & 0 & 0 & 1.1538 \\cdot 10^{6} \\\\\n",
       "\\end{array}\n",
       "\\right]\n",
       "\\end{equation}\n",
       " $$"
      ],
      "text/plain": [
       "6×6 Matrix{Num}:\n",
       "  1.25481e6  0  0  0  -2.01923e5  -3.46154e5\n",
       "  0          1  0  0   0           0\n",
       "  0          0  1  0   0           0\n",
       "  0          0  0  1   0           0\n",
       " -2.01923e5  0  0  0   4.03846e5   0.0\n",
       " -3.46154e5  0  0  0   0.0         1.15385e6"
      ]
     },
     "metadata": {},
     "output_type": "display_data"
    }
   ],
   "source": [
    " # Imponemos condiciones de contorno de Dirichlet\n",
    " # U1y=0 => U2=0\n",
    "    K[2,:] .= 0\n",
    "    K[:,2] .= 0\n",
    "    K[2,2] = 1\n",
    " # U2x=0 => U3=0\n",
    "    K[3,:] .= 0\n",
    "    K[:,3] .= 0\n",
    "    K[3,3] = 1\n",
    " # U2y=0 => U4=0\n",
    "    K[4,:] .= 0\n",
    "    K[:,4] .= 0\n",
    "    K[4,4] = 1\n",
    "\n",
    "display(K)"
   ]
  },
  {
   "cell_type": "code",
   "execution_count": 17,
   "id": "f1665daf",
   "metadata": {},
   "outputs": [],
   "source": [
    "#= \\(A,B)\n",
    "Matrix division using a polyalgorithm. For input matrices A and B, the result X is such that A*X == B when A is square. \n",
    "The solver that is used depends upon the structure of A. If A is upper or lower triangular (or diagonal), no factorization \n",
    "of A is required and the system is solved with either forward or backward substitution. For non-triangular square matrices, \n",
    "an LU factorization is used.\n",
    "=#"
   ]
  },
  {
   "cell_type": "code",
   "execution_count": 21,
   "id": "e961f28c",
   "metadata": {},
   "outputs": [
    {
     "data": {
      "text/plain": [
       "\"Desplazamientos nodales\""
      ]
     },
     "metadata": {},
     "output_type": "display_data"
    },
    {
     "data": {
      "text/latex": [
       "$$ \\begin{equation}\n",
       "\\left[\n",
       "\\begin{array}{c}\n",
       "0.0002381 \\\\\n",
       "0 \\\\\n",
       "0 \\\\\n",
       "0 \\\\\n",
       "0.0013571 \\\\\n",
       "7.1429 \\cdot 10^{-5} \\\\\n",
       "\\end{array}\n",
       "\\right]\n",
       "\\end{equation}\n",
       " $$"
      ],
      "text/plain": [
       "6-element Vector{Num}:\n",
       " 0.0002380952380952381\n",
       " 0.0\n",
       " 0.0\n",
       " 0.0\n",
       " 0.0013571428571428575\n",
       " 7.142857142857141e-5"
      ]
     },
     "metadata": {},
     "output_type": "display_data"
    },
    {
     "data": {
      "text/plain": [
       "\"Deformaciones nodales\""
      ]
     },
     "metadata": {},
     "output_type": "display_data"
    },
    {
     "data": {
      "text/latex": [
       "$$ \\begin{equation}\n",
       "\\left[\n",
       "\\begin{array}{c}\n",
       "-7.9365 \\cdot 10^{-5} \\\\\n",
       "2.381 \\cdot 10^{-5} \\\\\n",
       "0.0004127 \\\\\n",
       "\\end{array}\n",
       "\\right]\n",
       "\\end{equation}\n",
       " $$"
      ],
      "text/plain": [
       "3-element Vector{Num}:\n",
       " -7.936507936507937e-5\n",
       "  2.38095238095238e-5\n",
       "  0.0004126984126984128"
      ]
     },
     "metadata": {},
     "output_type": "display_data"
    },
    {
     "data": {
      "text/plain": [
       "\"Esfuerzos nodales\""
      ]
     },
     "metadata": {},
     "output_type": "display_data"
    },
    {
     "data": {
      "text/latex": [
       "$$ \\begin{equation}\n",
       "\\left[\n",
       "\\begin{array}{c}\n",
       "-166.67 \\\\\n",
       "0 \\\\\n",
       "333.33 \\\\\n",
       "\\end{array}\n",
       "\\right]\n",
       "\\end{equation}\n",
       " $$"
      ],
      "text/plain": [
       "3-element Vector{Num}:\n",
       " -166.66666666666666\n",
       "    0\n",
       "  333.33333333333337"
      ]
     },
     "metadata": {},
     "output_type": "display_data"
    }
   ],
   "source": [
    "# CASO 1. F1 = 500kgf ; F2 = 0kgf\n",
    "\n",
    "R1 =[0, 0, 0, 0, 500., 0] # Fuerzas nodales en kgf.\n",
    "U1 = K \\ R1 # U1 --> Desplazamientos nodales.\n",
    "\n",
    "E1 = B * U1 # Voigt notation\n",
    "σ1 = C * E1\n",
    "for i in 1:3\n",
    "    if (abs(E1[i]) <= 1E-8)  E1[i] = 0 end\n",
    "    if (abs(σ1[i]) <= 1E-8)  σ1[i] = 0 end\n",
    "end\n",
    "display(\"Desplazamientos nodales\")\n",
    "display(U1)\n",
    "display(\"Deformaciones nodales\")\n",
    "display(E1)\n",
    "display(\"Esfuerzos nodales\")\n",
    "display(σ1)"
   ]
  },
  {
   "cell_type": "code",
   "execution_count": 19,
   "id": "04fb183a",
   "metadata": {},
   "outputs": [
    {
     "data": {
      "text/latex": [
       "$$ \\begin{equation}\n",
       "\\left[\n",
       "\\begin{array}{c}\n",
       "0.00014286 \\\\\n",
       "0 \\\\\n",
       "0 \\\\\n",
       "0 \\\\\n",
       "7.1429 \\cdot 10^{-5} \\\\\n",
       "0.00047619 \\\\\n",
       "\\end{array}\n",
       "\\right]\n",
       "\\end{equation}\n",
       " $$"
      ],
      "text/plain": [
       "6-element Vector{Num}:\n",
       " 0.0001428571428571428\n",
       " 0.0\n",
       " 0.0\n",
       " 0.0\n",
       " 7.14285714285714e-5\n",
       " 0.0004761904761904762"
      ]
     },
     "metadata": {},
     "output_type": "display_data"
    },
    {
     "data": {
      "text/latex": [
       "$$ \\begin{equation}\n",
       "\\left[\n",
       "\\begin{array}{c}\n",
       "-4.7619 \\cdot 10^{-5} \\\\\n",
       "0.00015873 \\\\\n",
       "0 \\\\\n",
       "\\end{array}\n",
       "\\right]\n",
       "\\end{equation}\n",
       " $$"
      ],
      "text/plain": [
       "3-element Vector{Num}:\n",
       " -4.761904761904759e-5\n",
       "  0.00015873015873015873\n",
       "  0"
      ]
     },
     "metadata": {},
     "output_type": "display_data"
    },
    {
     "data": {
      "text/latex": [
       "$$ \\begin{equation}\n",
       "\\left[\n",
       "\\begin{array}{c}\n",
       "0 \\\\\n",
       "333.33 \\\\\n",
       "0 \\\\\n",
       "\\end{array}\n",
       "\\right]\n",
       "\\end{equation}\n",
       " $$"
      ],
      "text/plain": [
       "3-element Vector{Num}:\n",
       "   0\n",
       " 333.3333333333333\n",
       "   0"
      ]
     },
     "metadata": {},
     "output_type": "display_data"
    }
   ],
   "source": [
    "# CASO 2. F1 = 0kgf ; F2 = 500kgf\n",
    "\n",
    "R2 =[0, 0, 0, 0, 0, 500] # Fuerzas nodales en kgf.\n",
    "U2 = K \\ R2 # U2 --> Desplazamientos nodales.\n",
    "display(U2)\n",
    "E2 = B * U2\n",
    "σ2 = C * E2\n",
    "for i in 1:3\n",
    "    if (abs(E2[i]) <= 1E-8)  E2[i] = 0 end\n",
    "    if (abs(σ2[i]) <= 1E-8)  σ2[i] = 0 end\n",
    "end\n",
    "display(E2)\n",
    "display(σ2)"
   ]
  },
  {
   "cell_type": "code",
   "execution_count": 20,
   "id": "37eedb02",
   "metadata": {},
   "outputs": [
    {
     "data": {
      "text/latex": [
       "$$ \\begin{equation}\n",
       "\\left[\n",
       "\\begin{array}{c}\n",
       "0.00038095 \\\\\n",
       "0 \\\\\n",
       "0 \\\\\n",
       "0 \\\\\n",
       "0.0014286 \\\\\n",
       "0.00054762 \\\\\n",
       "\\end{array}\n",
       "\\right]\n",
       "\\end{equation}\n",
       " $$"
      ],
      "text/plain": [
       "6-element Vector{Num}:\n",
       " 0.0003809523809523809\n",
       " 0.0\n",
       " 0.0\n",
       " 0.0\n",
       " 0.001428571428571429\n",
       " 0.0005476190476190477"
      ]
     },
     "metadata": {},
     "output_type": "display_data"
    },
    {
     "data": {
      "text/latex": [
       "$$ \\begin{equation}\n",
       "\\left[\n",
       "\\begin{array}{c}\n",
       "-0.00012698 \\\\\n",
       "0.00018254 \\\\\n",
       "0.0004127 \\\\\n",
       "\\end{array}\n",
       "\\right]\n",
       "\\end{equation}\n",
       " $$"
      ],
      "text/plain": [
       "3-element Vector{Num}:\n",
       " -0.00012698412698412695\n",
       "  0.00018253968253968255\n",
       "  0.00041269841269841285"
      ]
     },
     "metadata": {},
     "output_type": "display_data"
    },
    {
     "data": {
      "text/latex": [
       "$$ \\begin{equation}\n",
       "\\left[\n",
       "\\begin{array}{c}\n",
       "-166.67 \\\\\n",
       "333.33 \\\\\n",
       "333.33 \\\\\n",
       "\\end{array}\n",
       "\\right]\n",
       "\\end{equation}\n",
       " $$"
      ],
      "text/plain": [
       "3-element Vector{Num}:\n",
       " -166.6666666666666\n",
       "  333.33333333333337\n",
       "  333.3333333333334"
      ]
     },
     "metadata": {},
     "output_type": "display_data"
    }
   ],
   "source": [
    "# CASO 3. F1 = 500kgf ; F2 = 500kgf\n",
    "\n",
    "R3 =[0, 0, 0, 0, 500, 500] # Fuerzas nodales en kgf.\n",
    "U3 = K \\ R3 # U3 --> Desplazamientos nodales.\n",
    "display(U3)\n",
    "E3 = B * U3\n",
    "σ3 = C * E3\n",
    "for i in 1:3\n",
    "    if (abs(E3[i]) <= 1E-8)  E3[i] = 0 end\n",
    "    if (abs(σ3[i]) <= 1E-8)  σ3[i] = 0 end\n",
    "end\n",
    "display(E3)\n",
    "display(σ3)"
   ]
  }
 ],
 "metadata": {
  "kernelspec": {
   "display_name": "Julia 1.10.2",
   "language": "julia",
   "name": "julia-1.10"
  },
  "language_info": {
   "file_extension": ".jl",
   "mimetype": "application/julia",
   "name": "julia",
   "version": "1.10.2"
  }
 },
 "nbformat": 4,
 "nbformat_minor": 5
}
