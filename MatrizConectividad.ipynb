{
 "cells": [
  {
   "cell_type": "code",
   "execution_count": 2,
   "metadata": {},
   "outputs": [
    {
     "data": {
      "text/plain": [
       "900×4 Matrix{Int64}:\n",
       "   1    2   33   32\n",
       "   2    3   34   33\n",
       "   3    4   35   34\n",
       "   4    5   36   35\n",
       "   5    6   37   36\n",
       "   6    7   38   37\n",
       "   7    8   39   38\n",
       "   8    9   40   39\n",
       "   9   10   41   40\n",
       "  10   11   42   41\n",
       "   ⋮            \n",
       " 921  922  953  952\n",
       " 922  923  954  953\n",
       " 923  924  955  954\n",
       " 924  925  956  955\n",
       " 925  926  957  956\n",
       " 926  927  958  957\n",
       " 927  928  959  958\n",
       " 928  929  960  959\n",
       " 929  930  961  960"
      ]
     },
     "metadata": {},
     "output_type": "display_data"
    }
   ],
   "source": [
    "numNodosx = 31\n",
    "numNodosy = 31\n",
    "\n",
    "numElementos = (numNodosx - 1) * (numNodosy - 1) \n",
    "matrizConectividad = zeros(Int, numElementos, 4)\n",
    "\n",
    "elemento = 1\n",
    "\n",
    "for j in 1:numNodosy-1\n",
    "    for i in 1:numNodosx-1\n",
    "        nodoInferiorIzquierdo::Int = i + ((j - 1) * numNodosx)\n",
    "        matrizConectividad[elemento, :] = [nodoInferiorIzquierdo (nodoInferiorIzquierdo + 1) (nodoInferiorIzquierdo + numNodosx +1) (nodoInferiorIzquierdo + numNodosx)]\n",
    "        elemento += 1\n",
    "    end\n",
    "end\n",
    "\n",
    "display(matrizConectividad)"
   ]
  },
  {
   "cell_type": "code",
   "execution_count": 10,
   "metadata": {},
   "outputs": [
    {
     "data": {
      "text/plain": [
       "961"
      ]
     },
     "metadata": {},
     "output_type": "display_data"
    }
   ],
   "source": [
    "31 * 31"
   ]
  }
 ],
 "metadata": {
  "kernelspec": {
   "display_name": "Julia 1.8.5",
   "language": "julia",
   "name": "julia-1.8"
  },
  "language_info": {
   "file_extension": ".jl",
   "mimetype": "application/julia",
   "name": "julia",
   "version": "1.8.5"
  }
 },
 "nbformat": 4,
 "nbformat_minor": 2
}
